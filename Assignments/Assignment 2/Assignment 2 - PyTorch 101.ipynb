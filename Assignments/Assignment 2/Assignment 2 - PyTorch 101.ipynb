{
  "nbformat": 4,
  "nbformat_minor": 0,
  "metadata": {
    "colab": {
      "name": "Assignment 2 - PyTorch101.ipynb",
      "provenance": [],
      "collapsed_sections": [],
      "toc_visible": true
    },
    "kernelspec": {
      "name": "python3",
      "display_name": "Python 3"
    }
  },
  "cells": [
    {
      "cell_type": "markdown",
      "metadata": {
        "id": "_kYM3ylzYo1Q"
      },
      "source": [
        "![PyTorch](https://devblogs.nvidia.com/wp-content/uploads/2017/04/pytorch-logo-dark.png)\n",
        "\n",
        "An open source machine learning framework that accelerates the path from research prototyping to production deployment.\n",
        "\n"
      ]
    },
    {
      "cell_type": "markdown",
      "metadata": {
        "id": "WcVqSTrWY6oz"
      },
      "source": [
        "# Tensor - Pytorch's core data structure\n",
        "\n",
        "In Python we can create lists, lists of lists, lists of lists of lists and so on. In NumPy there is a `numpy.ndarray` which represents `n`- dimensional array. In math there is a special name for the generalization of vectors and matrices to a higher dimensional space - a tensor\n",
        "\n",
        "Tensor is an entity with a defined number of dimensions called an order (rank). \n",
        "\n",
        "**Scalar** can be considered as a rank-0-tensor. \n",
        "\n",
        "**Vector** can be introduced as a rank-1-tensor. \n",
        "\n",
        "**Matrices** can be considered as a rank-2-tensor.\n",
        "\n",
        "# Tensor Basics\n",
        "\n",
        "Let's import the torch module first."
      ]
    },
    {
      "cell_type": "code",
      "metadata": {
        "id": "e-oFVL2tYYqp"
      },
      "source": [
        "import numpy as np\n",
        "import torch"
      ],
      "execution_count": null,
      "outputs": []
    },
    {
      "cell_type": "markdown",
      "metadata": {
        "id": "uGxuR5IEaFJa"
      },
      "source": [
        "## Tensor Creation\n",
        "Let's view examples of matrices and tensors generation\n",
        "\n",
        "2-dimensional (rank-2) tensor of zeros:"
      ]
    },
    {
      "cell_type": "code",
      "metadata": {
        "id": "897JQc25aD3E",
        "colab": {
          "base_uri": "https://localhost:8080/"
        },
        "outputId": "1ba4312b-67e0-41b4-e0b1-47ec1f7f1fac"
      },
      "source": [
        "torch.zeros(3, 4)"
      ],
      "execution_count": null,
      "outputs": [
        {
          "output_type": "execute_result",
          "data": {
            "text/plain": [
              "tensor([[0., 0., 0., 0.],\n",
              "        [0., 0., 0., 0.],\n",
              "        [0., 0., 0., 0.]])"
            ]
          },
          "metadata": {
            "tags": []
          },
          "execution_count": 2
        }
      ]
    },
    {
      "cell_type": "markdown",
      "metadata": {
        "id": "pujmpEBhaPRA"
      },
      "source": [
        "Random rank-3 tensor:\n",
        "_read the print below and convince yourself how this is a rank-3-tensor and learn what those 2, 3, 4 values are there for_"
      ]
    },
    {
      "cell_type": "code",
      "metadata": {
        "id": "mBrznTNhaOL7",
        "colab": {
          "base_uri": "https://localhost:8080/"
        },
        "outputId": "c7308bec-682b-4977-80d9-1f785e0dda76"
      },
      "source": [
        "torch.rand(2, 3, 4)"
      ],
      "execution_count": null,
      "outputs": [
        {
          "output_type": "execute_result",
          "data": {
            "text/plain": [
              "tensor([[[0.6429, 0.7389, 0.0713, 0.6805],\n",
              "         [0.1209, 0.0585, 0.4543, 0.6957],\n",
              "         [0.4093, 0.0015, 0.7924, 0.2399]],\n",
              "\n",
              "        [[0.3767, 0.6374, 0.5896, 0.4877],\n",
              "         [0.0376, 0.0385, 0.5995, 0.5344],\n",
              "         [0.2521, 0.6822, 0.6605, 0.4358]]])"
            ]
          },
          "metadata": {
            "tags": []
          },
          "execution_count": 3
        }
      ]
    },
    {
      "cell_type": "markdown",
      "metadata": {
        "id": "kO4fIr15asdi"
      },
      "source": [
        "I am hoping you have noticed 4-elements in a row, 3 rows making one block and there are 2 blocks. \n",
        "\n",
        "Random rank-4-tensor:"
      ]
    },
    {
      "cell_type": "code",
      "metadata": {
        "id": "KiCLvMGCaVZ3",
        "colab": {
          "base_uri": "https://localhost:8080/"
        },
        "outputId": "686b4b95-9612-4d62-bf45-cf0054c1f8fd"
      },
      "source": [
        "torch.rand(2, 2, 2, 3)"
      ],
      "execution_count": null,
      "outputs": [
        {
          "output_type": "execute_result",
          "data": {
            "text/plain": [
              "tensor([[[[0.1619, 0.2255, 0.5693],\n",
              "          [0.2661, 0.2732, 0.8076]],\n",
              "\n",
              "         [[0.5278, 0.7231, 0.8053],\n",
              "          [0.1826, 0.7251, 0.4681]]],\n",
              "\n",
              "\n",
              "        [[[0.2005, 0.7429, 0.5236],\n",
              "          [0.2556, 0.9186, 0.9740]],\n",
              "\n",
              "         [[0.4598, 0.9097, 0.5859],\n",
              "          [0.1775, 0.6013, 0.4677]]]])"
            ]
          },
          "metadata": {
            "tags": []
          },
          "execution_count": 4
        }
      ]
    },
    {
      "cell_type": "markdown",
      "metadata": {
        "id": "lF6VL68s3AMV"
      },
      "source": [
        "## Question 1:\n",
        "\n",
        "How many dimensions are there in a tensor defined as below?\n",
        ">**Ans: 4**"
      ]
    },
    {
      "cell_type": "code",
      "metadata": {
        "id": "8IbXcI3x3Ibt",
        "colab": {
          "base_uri": "https://localhost:8080/"
        },
        "outputId": "6171d6e5-ed29-45c8-f7c0-9775ef95271b"
      },
      "source": [
        "torch.rand(1, 1, 1, 1)"
      ],
      "execution_count": null,
      "outputs": [
        {
          "output_type": "execute_result",
          "data": {
            "text/plain": [
              "tensor([[[[0.6373]]]])"
            ]
          },
          "metadata": {
            "tags": []
          },
          "execution_count": 11
        }
      ]
    },
    {
      "cell_type": "markdown",
      "metadata": {
        "id": "qmgpqssRa9jF"
      },
      "source": [
        "---\n",
        "\n",
        "\n",
        "There are many more ways to create tensor using some restrictions on values it should contatn - for the full reference, please follow the [official docs](https://pytorch.org/docs/stable/torch.html#creation-ops). \n",
        "\n",
        "\n",
        "---\n",
        "\n",
        "\n",
        "# Python / NumPy / Pytorch interoperability\n",
        "\n",
        "You can create tensors from python lists as well as numpy arrays. You can also convert torch tensors to numpy arrays. So, the interoperability between torch and numpy is pretty good. "
      ]
    },
    {
      "cell_type": "code",
      "metadata": {
        "id": "ipgpeWPfa6gE",
        "colab": {
          "base_uri": "https://localhost:8080/"
        },
        "outputId": "a7c1c4f3-da7e-495a-c2e2-9b52141fc06a"
      },
      "source": [
        "# Simple Python List\n",
        "python_list = [1, 2]\n",
        "\n",
        "# Create a numpy array from python list\n",
        "numpy_array = np.array(python_list)\n",
        "\n",
        "# Create a torch Tensor from python list\n",
        "tensor_from_list = torch.tensor(python_list)\n",
        "\n",
        "# Create a torch Tensor from Numpy array\n",
        "tensor_from_array = torch.tensor(numpy_array)\n",
        "\n",
        "# Another way to create a torch Tensor from Numpy array (share same storage)\n",
        "tensor_from_array_v2 = torch.from_numpy(numpy_array)\n",
        "\n",
        "# Convert torch tensor to numpy array\n",
        "array_from_tensor = tensor_from_array.numpy()\n",
        "\n",
        "print('List:   ', python_list)\n",
        "print('Array:  ', numpy_array)\n",
        "print('Tensor: ', tensor_from_list)\n",
        "print('Tensor: ', tensor_from_array)\n",
        "print('Tensor: ', tensor_from_array_v2)\n",
        "print('Array:  ', array_from_tensor)"
      ],
      "execution_count": null,
      "outputs": [
        {
          "output_type": "stream",
          "text": [
            "List:    [1, 2]\n",
            "Array:   [1 2]\n",
            "Tensor:  tensor([1, 2])\n",
            "Tensor:  tensor([1, 2])\n",
            "Tensor:  tensor([1, 2])\n",
            "Array:   [1 2]\n"
          ],
          "name": "stdout"
        }
      ]
    },
    {
      "cell_type": "markdown",
      "metadata": {
        "id": "X_x-86B8gqik"
      },
      "source": [
        "**Difference between** `torch.Tensor` **and** `torch.from_numpy`\n",
        "\n",
        "Pytorch aims to be an effective library for computations. What does it mean? It means that pytorch avoids memory copying if it can. "
      ]
    },
    {
      "cell_type": "code",
      "metadata": {
        "id": "eHCKDGpygn_d",
        "colab": {
          "base_uri": "https://localhost:8080/",
          "height": 71
        },
        "outputId": "9d4a2409-7d5f-488c-d06b-a672c3141b76"
      },
      "source": [
        "numpy_array[0] = 10\n",
        "\n",
        "print('Array:  ', numpy_array)\n",
        "print('Tensor: ', tensor_from_array)\n",
        "print('Tensor: ', tensor_from_array_v2)"
      ],
      "execution_count": null,
      "outputs": [
        {
          "output_type": "stream",
          "text": [
            "Array:   [10  2]\n",
            "Tensor:  tensor([1, 2])\n",
            "Tensor:  tensor([10,  2])\n"
          ],
          "name": "stdout"
        }
      ]
    },
    {
      "cell_type": "markdown",
      "metadata": {
        "id": "T_1YTyv4wMio"
      },
      "source": [
        "**Takeaway:**\n",
        "- `torch.from_numpy` is memory efficient (i.e. it won't create copies of the original array)\n",
        "- `torch.Tensor` on the other hand allocates a new memory block (same rank as the np array) and initializes it with its values"
      ]
    },
    {
      "cell_type": "markdown",
      "metadata": {
        "id": "-CKtdNRM3SMp"
      },
      "source": [
        "---\n",
        "## Question 2:\n",
        "\n",
        "Assume that we moved our complete (cats vs dogs) image dataset to numpy arrays. Then we use torch.from_numpy to convert these images to tensor. Then we apply a specific data augmentation strategy called \"CutOut\" which blocks a portion of the image directly on these tensors. What will happen to the accuracy of a model trained on this strategy compared to the one without this strategy? CutOut strategy is shown below: \n",
        "\n",
        "![CutOut](https://encrypted-tbn0.gstatic.com/images?q=tbn%3AANd9GcSnSyN835AmtQPKQbPjDHX-FmshNilbtexX95cRGQPwl56QCGDn)\n",
        "\n",
        "> **Ans: `CutOut` are an efficient way to make the model robust and learn the required features to identify the object(s) in question and not rely much on the background in which they might appear (for e.g. a plane might usually be surrounded by a sky, which might cause the network to classify anything shown with the sky as the bg as a plane). But in this case since `tensor.from_numpy` is used to convert the images in numpy and then the cutout applied directly to them the original images is being modified. So in time (i.e. over consecutive iterations the entire images might be blacked out), thus dropping the accuracy.**"
      ]
    },
    {
      "cell_type": "markdown",
      "metadata": {
        "id": "dZq7O-aihSOA"
      },
      "source": [
        "---\n",
        "## Question 3:\n",
        "Why do you think we are observing this behavior?\n",
        "> **Ans: \n",
        "    `torch.from_numpy` is memory efficient (i.e. it won't create copies of the original array) \\\n",
        "    `torch.Tensor` on the other hand allocates a new memory block (same rank as the np array) and initializes it with its values**\n",
        "\n",
        "---\n",
        "\n",
        "We have two different ways to create tensor from its NumPy counterpart - one copies memory and another one shares the same underlying storage. It works in the opposite way:"
      ]
    },
    {
      "cell_type": "code",
      "metadata": {
        "id": "TNFOwV8EhPwQ",
        "colab": {
          "base_uri": "https://localhost:8080/",
          "height": 89
        },
        "outputId": "5c3662a8-6726-472a-b7ad-c7762136f687"
      },
      "source": [
        "array_from_tensor = tensor_from_array.numpy()\n",
        "print('Tensor: ', tensor_from_array)\n",
        "print('Array: ', array_from_tensor)\n",
        "\n",
        "tensor_from_array[0] = 11\n",
        "print('Tensor: ', tensor_from_array)\n",
        "print('Array: ', array_from_tensor)"
      ],
      "execution_count": null,
      "outputs": [
        {
          "output_type": "stream",
          "text": [
            "Tensor:  tensor([1, 2])\n",
            "Array:  [1 2]\n",
            "Tensor:  tensor([11,  2])\n",
            "Array:  [11  2]\n"
          ],
          "name": "stdout"
        }
      ]
    },
    {
      "cell_type": "markdown",
      "metadata": {
        "id": "UM9ytbvKhtCw"
      },
      "source": [
        "## Data types\n",
        "\n",
        "The basic data type of all Deep Learning-related operations is float, but sometimes you may need something else. Pytorch support different number types for its tensors the same way NumPy does - by specifying the data type on tensor creation or via casting. Ths full list of supported data types can be found [here](https://pytorch.org/docs/stable/tensors.html). "
      ]
    },
    {
      "cell_type": "code",
      "metadata": {
        "id": "Bd6WkzJ4hpYi",
        "colab": {
          "base_uri": "https://localhost:8080/"
        },
        "outputId": "1dde2d16-912e-405f-eba2-5e2b13984298"
      },
      "source": [
        "tensor = torch.zeros(2, 2)\n",
        "print('Tensor with default type: ', tensor)\n",
        "\n",
        "tensor = torch.zeros(2, 2, dtype=torch.float16)\n",
        "print('\\nTensor with 16-bit float: ', tensor)\n",
        "\n",
        "tensor = torch.zeros(2, 2, dtype=torch.int16)\n",
        "print('\\nTensor with integers: ', tensor)\n",
        "\n",
        "tensor = torch.zeros(2, 2, dtype=torch.bool)\n",
        "print('\\nTensor with boolean data: ', tensor)"
      ],
      "execution_count": null,
      "outputs": [
        {
          "output_type": "stream",
          "text": [
            "Tensor with default type:  tensor([[0., 0.],\n",
            "        [0., 0.]])\n",
            "\n",
            "Tensor with 16-bit float:  tensor([[0., 0.],\n",
            "        [0., 0.]], dtype=torch.float16)\n",
            "\n",
            "Tensor with integers:  tensor([[0, 0],\n",
            "        [0, 0]], dtype=torch.int16)\n",
            "\n",
            "Tensor with boolean data:  tensor([[False, False],\n",
            "        [False, False]])\n"
          ],
          "name": "stdout"
        }
      ]
    },
    {
      "cell_type": "markdown",
      "metadata": {
        "id": "a9F4Dkdr40TE"
      },
      "source": [
        "---\n",
        "## Question 4:\n",
        "We saw above that some times numpy and tensors share same storage and changing one changes the other. \n",
        "If we define a rank-2-tensor with ones (dtype of f16), and then convert it into a numpy data type using tensor.numpy() and store it in a variable called \"num\", and then we perform this operation `num = num * 0.5`, will the original tensor have 1.0s or 0.5s as its element values? \n",
        "\n",
        "> **Ans: Will remain unchanged as `1`; since a new memory block is created when converted to a numpy array**"
      ]
    },
    {
      "cell_type": "code",
      "metadata": {
        "colab": {
          "base_uri": "https://localhost:8080/"
        },
        "id": "QwSZj4WP0Czk",
        "outputId": "553cc8c6-5a38-418c-d7ca-b3d08a5ab6bf"
      },
      "source": [
        "num_tensor = torch.ones (2, 2, dtype=torch.float16)\n",
        "num_tensor"
      ],
      "execution_count": null,
      "outputs": [
        {
          "output_type": "execute_result",
          "data": {
            "text/plain": [
              "tensor([[1., 1.],\n",
              "        [1., 1.]], dtype=torch.float16)"
            ]
          },
          "metadata": {
            "tags": []
          },
          "execution_count": 49
        }
      ]
    },
    {
      "cell_type": "code",
      "metadata": {
        "colab": {
          "base_uri": "https://localhost:8080/"
        },
        "id": "QEpvdEJ30T64",
        "outputId": "4bf95982-d7a9-4b2d-a4ff-9af271414285"
      },
      "source": [
        "num = num_tensor.numpy ()\n",
        "num"
      ],
      "execution_count": null,
      "outputs": [
        {
          "output_type": "execute_result",
          "data": {
            "text/plain": [
              "array([[1., 1.],\n",
              "       [1., 1.]], dtype=float16)"
            ]
          },
          "metadata": {
            "tags": []
          },
          "execution_count": 50
        }
      ]
    },
    {
      "cell_type": "code",
      "metadata": {
        "colab": {
          "base_uri": "https://localhost:8080/"
        },
        "id": "vZ-dwQYW2PoE",
        "outputId": "25c152af-5704-45c7-e1d0-de6c7a8a2b7b"
      },
      "source": [
        "print (hex (id (num)), hex (id (num_tensor)))"
      ],
      "execution_count": null,
      "outputs": [
        {
          "output_type": "stream",
          "text": [
            "0x7eff25a7c800 0x7eff25a2b140\n"
          ],
          "name": "stdout"
        }
      ]
    },
    {
      "cell_type": "code",
      "metadata": {
        "colab": {
          "base_uri": "https://localhost:8080/"
        },
        "id": "L_x1KwDo0TrQ",
        "outputId": "a5279890-fcfa-4336-c3be-872c74cf3db0"
      },
      "source": [
        "num = num * 0.5\n",
        "print (hex (id (num)), hex (id (num_tensor)))"
      ],
      "execution_count": null,
      "outputs": [
        {
          "output_type": "stream",
          "text": [
            "0x7eff25adce40 0x7eff25a2b140\n"
          ],
          "name": "stdout"
        }
      ]
    },
    {
      "cell_type": "code",
      "metadata": {
        "colab": {
          "base_uri": "https://localhost:8080/"
        },
        "id": "EqCGjYqp0TW8",
        "outputId": "921b0ace-0e7f-48a6-fa13-235060aa3ef4"
      },
      "source": [
        "print (num)\n",
        "print (num_tensor)"
      ],
      "execution_count": null,
      "outputs": [
        {
          "output_type": "stream",
          "text": [
            "[[0.5 0.5]\n",
            " [0.5 0.5]]\n",
            "tensor([[1., 1.],\n",
            "        [1., 1.]], dtype=torch.float16)\n"
          ],
          "name": "stdout"
        }
      ]
    },
    {
      "cell_type": "markdown",
      "metadata": {
        "id": "OiQt8Mmm51OE"
      },
      "source": [
        "---\n",
        "## Question 5: \n",
        "If the operation `num = num*0.5` is changed to `num[:] = num*0.5` will the original tensor have 1.0s or 0.5s as its element values? \n",
        "\n",
        "> **Ans: The value of the original tensor changes to `0.5`**\n",
        "---"
      ]
    },
    {
      "cell_type": "code",
      "metadata": {
        "colab": {
          "base_uri": "https://localhost:8080/"
        },
        "id": "LP2uZ-p51uOk",
        "outputId": "3f546428-d781-45c2-f2a8-1da2fbcdec2d"
      },
      "source": [
        "num = num_tensor.numpy ()\n",
        "print (hex (id (num)), hex (id (num_tensor)))\n",
        "\n",
        "num [:] = num * 0.5\n",
        "print (hex (id (num)), hex (id (num_tensor)))"
      ],
      "execution_count": null,
      "outputs": [
        {
          "output_type": "stream",
          "text": [
            "0x7eff25a55710 0x7eff25a2b140\n",
            "0x7eff25a55710 0x7eff25a2b140\n"
          ],
          "name": "stdout"
        }
      ]
    },
    {
      "cell_type": "code",
      "metadata": {
        "colab": {
          "base_uri": "https://localhost:8080/"
        },
        "id": "cuPRw48c17aU",
        "outputId": "ca487ae1-56bf-4782-de3f-5b273ecd4706"
      },
      "source": [
        "print (num)\n",
        "print (num_tensor)"
      ],
      "execution_count": null,
      "outputs": [
        {
          "output_type": "stream",
          "text": [
            "[[0.5 0.5]\n",
            " [0.5 0.5]]\n",
            "tensor([[0.5000, 0.5000],\n",
            "        [0.5000, 0.5000]], dtype=torch.float16)\n"
          ],
          "name": "stdout"
        }
      ]
    },
    {
      "cell_type": "code",
      "metadata": {
        "id": "CEfuiaZs3EBM"
      },
      "source": [
        "num [0] = 1.1"
      ],
      "execution_count": null,
      "outputs": []
    },
    {
      "cell_type": "code",
      "metadata": {
        "colab": {
          "base_uri": "https://localhost:8080/"
        },
        "id": "O6aPZGt03Fxs",
        "outputId": "560ef157-85cb-4d71-ac08-3d1965675b77"
      },
      "source": [
        "print (num)\n",
        "print (num_tensor)"
      ],
      "execution_count": null,
      "outputs": [
        {
          "output_type": "stream",
          "text": [
            "[[1.1 1.1]\n",
            " [0.5 0.5]]\n",
            "tensor([[1.0996, 1.0996],\n",
            "        [0.5000, 0.5000]], dtype=torch.float16)\n"
          ],
          "name": "stdout"
        }
      ]
    },
    {
      "cell_type": "code",
      "metadata": {
        "colab": {
          "base_uri": "https://localhost:8080/"
        },
        "id": "IjY0lIKc3NWE",
        "outputId": "467fe11e-ab5d-4769-f490-09c8555d6cb4"
      },
      "source": [
        "print (hex (id (num)), hex (id (num_tensor)))"
      ],
      "execution_count": null,
      "outputs": [
        {
          "output_type": "stream",
          "text": [
            "0x7eff25a55710 0x7eff25a2b140\n"
          ],
          "name": "stdout"
        }
      ]
    },
    {
      "cell_type": "markdown",
      "metadata": {
        "id": "vzh8UB8KiVmb"
      },
      "source": [
        "## Indexing\n",
        "\n",
        "Tensor provides access to its elements via the same `[]` operation as a regular python list or NumPy array. However, as you may recall from NumPy usage, the full power of math libraries is accessible only via vectorized operations, i.e. operations without explicit looping over all vector elements in python and using implicit optimized loops in C/C++/CUDA/Fortran/etc. available via special function calls. Pytorch employs the same paradigm and provides a wide range of vectorized operations. Let's take a look at some examples. \n",
        "\n",
        "Joining a list of tensors together with `torch.cat`"
      ]
    },
    {
      "cell_type": "code",
      "metadata": {
        "id": "GMaCDKPhiUAb",
        "colab": {
          "base_uri": "https://localhost:8080/"
        },
        "outputId": "1cec9206-e5ba-4a6b-ca74-45b14e3286f6"
      },
      "source": [
        "a = torch.zeros(3, 2)\n",
        "b = torch.ones(3, 2)\n",
        "print(torch.cat((a, b), dim=0))"
      ],
      "execution_count": null,
      "outputs": [
        {
          "output_type": "stream",
          "text": [
            "tensor([[0., 0.],\n",
            "        [0., 0.],\n",
            "        [0., 0.],\n",
            "        [1., 1.],\n",
            "        [1., 1.],\n",
            "        [1., 1.]])\n"
          ],
          "name": "stdout"
        }
      ]
    },
    {
      "cell_type": "markdown",
      "metadata": {
        "id": "5bj4aeE86zdH"
      },
      "source": [
        "\n",
        "\n",
        "---\n",
        "\n",
        "## Question 6: \n",
        "Is the transpose of concatenated a & b tensor on dimension 1, same as the contatenated tensor of a & b on dimension 0? \n",
        "\n",
        "> **Ans: No, its not the same**\n",
        "---\n",
        "\n"
      ]
    },
    {
      "cell_type": "code",
      "metadata": {
        "colab": {
          "base_uri": "https://localhost:8080/"
        },
        "id": "-42gafLb67Tw",
        "outputId": "e51c14f8-c13c-4ef7-ab4c-398ce5b7cf66"
      },
      "source": [
        "torch.cat ((a, b), dim=1).T"
      ],
      "execution_count": null,
      "outputs": [
        {
          "output_type": "execute_result",
          "data": {
            "text/plain": [
              "tensor([[0., 0., 0.],\n",
              "        [0., 0., 0.],\n",
              "        [1., 1., 1.],\n",
              "        [1., 1., 1.]])"
            ]
          },
          "metadata": {
            "tags": []
          },
          "execution_count": 63
        }
      ]
    },
    {
      "cell_type": "code",
      "metadata": {
        "colab": {
          "base_uri": "https://localhost:8080/"
        },
        "id": "MSjEggHG7Bus",
        "outputId": "6bd5e84b-2799-4c2e-f19e-33edbae2bc5f"
      },
      "source": [
        "torch.cat ((a, b), dim=0)"
      ],
      "execution_count": null,
      "outputs": [
        {
          "output_type": "execute_result",
          "data": {
            "text/plain": [
              "tensor([[0., 0.],\n",
              "        [0., 0.],\n",
              "        [0., 0.],\n",
              "        [1., 1.],\n",
              "        [1., 1.],\n",
              "        [1., 1.]])"
            ]
          },
          "metadata": {
            "tags": []
          },
          "execution_count": 61
        }
      ]
    },
    {
      "cell_type": "markdown",
      "metadata": {
        "id": "0TXNne69j7LP"
      },
      "source": [
        "Indexing with another tensor/array:"
      ]
    },
    {
      "cell_type": "code",
      "metadata": {
        "id": "KiE-Fsi4jVd6",
        "colab": {
          "base_uri": "https://localhost:8080/"
        },
        "outputId": "e158ddfb-4eee-4560-f8af-6455eb447350"
      },
      "source": [
        "a = torch.arange(start=0, end=10)\n",
        "indices = np.arange(0, 10) > 5\n",
        "print(a)\n",
        "print(indices)\n",
        "print(a[indices])\n",
        "\n",
        "indices = torch.arange(start=0, end=10) %5\n",
        "print(indices)\n",
        "print(a[indices])"
      ],
      "execution_count": null,
      "outputs": [
        {
          "output_type": "stream",
          "text": [
            "tensor([0, 1, 2, 3, 4, 5, 6, 7, 8, 9])\n",
            "[False False False False False False  True  True  True  True]\n",
            "tensor([6, 7, 8, 9])\n",
            "tensor([0, 1, 2, 3, 4, 0, 1, 2, 3, 4])\n",
            "tensor([0, 1, 2, 3, 4, 0, 1, 2, 3, 4])\n"
          ],
          "name": "stdout"
        }
      ]
    },
    {
      "cell_type": "markdown",
      "metadata": {
        "id": "LS4dnlu47WQu"
      },
      "source": [
        "\n",
        "\n",
        "---\n",
        "\n",
        "## Question 7:\n",
        "\n",
        "`a` is defined as `torch.arange(start=0, end=10)`. We will create `b` using the two operations as below. In both cases do we get the same value?\n",
        "\n",
        "\n",
        "1.   indices variable created by the modulo operation on arange between 0 and 10. Then a new varialble `b` is created from `a` using the last 5 elements of indices. \n",
        "2.   indices variable created by the modulo operation on arange betwenn 1 and 11. Then a new varialble `b` is created from `a` using the last 5 elements of indices. \n",
        "\n",
        "> **Ans: No, they are not the same**\n",
        "---\n",
        "\n",
        "\n"
      ]
    },
    {
      "cell_type": "code",
      "metadata": {
        "colab": {
          "base_uri": "https://localhost:8080/"
        },
        "id": "0mgoRf8X8ZOs",
        "outputId": "f95323a0-021c-446f-a40d-d09f16ab4939"
      },
      "source": [
        "a = torch.arange (start=0, end=10)\n",
        "a"
      ],
      "execution_count": null,
      "outputs": [
        {
          "output_type": "execute_result",
          "data": {
            "text/plain": [
              "tensor([0, 1, 2, 3, 4, 5, 6, 7, 8, 9])"
            ]
          },
          "metadata": {
            "tags": []
          },
          "execution_count": 67
        }
      ]
    },
    {
      "cell_type": "code",
      "metadata": {
        "colab": {
          "base_uri": "https://localhost:8080/"
        },
        "id": "dCx-3SOT8Y40",
        "outputId": "dba5fe9e-ad96-4548-d863-48ccf1e695a9"
      },
      "source": [
        "idx_1 = torch.arange (start=0, end=10) % 5\n",
        "idx_2 = torch.arange (start=1, end=11) % 5\n",
        "\n",
        "print (idx_1 [-5:], idx_2 [-5:])"
      ],
      "execution_count": null,
      "outputs": [
        {
          "output_type": "stream",
          "text": [
            "tensor([0, 1, 2, 3, 4]) tensor([1, 2, 3, 4, 0])\n"
          ],
          "name": "stdout"
        }
      ]
    },
    {
      "cell_type": "markdown",
      "metadata": {
        "id": "eQ4ZCVsTk-KH"
      },
      "source": [
        "What should we do if we have, say, rank-2-tensor and want to select only some rows?"
      ]
    },
    {
      "cell_type": "code",
      "metadata": {
        "id": "_GtRpotjkt1q",
        "colab": {
          "base_uri": "https://localhost:8080/"
        },
        "outputId": "893f7218-463d-4d6c-f4ca-2dfedb7849a1"
      },
      "source": [
        "tensor = torch.rand((5, 3))\n",
        "rows = torch.tensor([0, 2])\n",
        "print(tensor)\n",
        "tensor[rows]"
      ],
      "execution_count": null,
      "outputs": [
        {
          "output_type": "stream",
          "text": [
            "tensor([[0.8203, 0.4171, 0.9527],\n",
            "        [0.2237, 0.2773, 0.6676],\n",
            "        [0.5434, 0.5753, 0.5061],\n",
            "        [0.0239, 0.6116, 0.2100],\n",
            "        [0.8617, 0.9906, 0.0621]])\n"
          ],
          "name": "stdout"
        },
        {
          "output_type": "execute_result",
          "data": {
            "text/plain": [
              "tensor([[0.8203, 0.4171, 0.9527],\n",
              "        [0.5434, 0.5753, 0.5061]])"
            ]
          },
          "metadata": {
            "tags": []
          },
          "execution_count": 71
        }
      ]
    },
    {
      "cell_type": "markdown",
      "metadata": {
        "id": "zIJnr_N2_Qaf"
      },
      "source": [
        "\n",
        "\n",
        "---\n",
        "\n",
        "## Question 8: \n",
        "\n",
        "Consider a tensor defined as `torch.rand((6, 5))`. Is the shape of the new tensor created by taking the 0th, 2nd and 4th row of the old tensor same as the shape of the a newer tensor created by taking the 0th, 2nd and 4th row of the old tensor after transposing it by operation `torch.transpose(tensor, 0, 1)` ?\n",
        "\n",
        "> **Ans: No, the transpose is not the same shape as the original, since its not a square tensor**\n",
        "---\n",
        "\n",
        "\n"
      ]
    },
    {
      "cell_type": "code",
      "metadata": {
        "colab": {
          "base_uri": "https://localhost:8080/"
        },
        "id": "dw83tCna-CPA",
        "outputId": "6d1e3c3b-01dd-4ca2-85df-e7bd05e82a2d"
      },
      "source": [
        "a = torch.rand (6, 5)\n",
        "a"
      ],
      "execution_count": null,
      "outputs": [
        {
          "output_type": "execute_result",
          "data": {
            "text/plain": [
              "tensor([[0.3139, 0.0764, 0.4824, 0.2249, 0.7126],\n",
              "        [0.7487, 0.7427, 0.2390, 0.8913, 0.4314],\n",
              "        [0.0385, 0.2567, 0.3511, 0.7067, 0.8236],\n",
              "        [0.4440, 0.7488, 0.1461, 0.0392, 0.8697],\n",
              "        [0.6245, 0.3750, 0.1147, 0.9513, 0.3793],\n",
              "        [0.1599, 0.3161, 0.4800, 0.7429, 0.3671]])"
            ]
          },
          "metadata": {
            "tags": []
          },
          "execution_count": 72
        }
      ]
    },
    {
      "cell_type": "code",
      "metadata": {
        "colab": {
          "base_uri": "https://localhost:8080/"
        },
        "id": "mOZNS4Lu-TvU",
        "outputId": "e2c87a3b-2a2b-4db8-9b36-9841efc87ab3"
      },
      "source": [
        "a [[0, 2, 4]].shape"
      ],
      "execution_count": null,
      "outputs": [
        {
          "output_type": "execute_result",
          "data": {
            "text/plain": [
              "torch.Size([3, 5])"
            ]
          },
          "metadata": {
            "tags": []
          },
          "execution_count": 73
        }
      ]
    },
    {
      "cell_type": "code",
      "metadata": {
        "colab": {
          "base_uri": "https://localhost:8080/"
        },
        "id": "Nm53Wpbp-M4Q",
        "outputId": "7472d63e-30bb-4a03-df7d-b5afdaa60117"
      },
      "source": [
        "torch.transpose (a [[0, 2, 4]], 0, 1).shape"
      ],
      "execution_count": null,
      "outputs": [
        {
          "output_type": "execute_result",
          "data": {
            "text/plain": [
              "torch.Size([5, 3])"
            ]
          },
          "metadata": {
            "tags": []
          },
          "execution_count": 77
        }
      ]
    },
    {
      "cell_type": "markdown",
      "metadata": {
        "id": "naDzFMkslU0b"
      },
      "source": [
        "## Tensor Shapes\n",
        "\n",
        "Reshaping a tensor is a frequently used operation. We can change the shape of a tensor without the memory copying overhead. There are two methods for that: `reshape` and `view`. \n",
        "\n",
        "The difference is the following: \n",
        "\n",
        "\n",
        "*   view tries to return a tensor, and it shares the same memory as the original tensor. In case, if it cannot reuse the same memory due to [some reason](https://pytorch.org/docs/stable/tensors.html?highlight=view#torch.Tensor.view), it just fails. \n",
        "*   reshape always returns the tensor with the desired shape and tries to reuse the memory. If it cannot, it creates a copy\n",
        "\n",
        "Let's see with the help of an example:"
      ]
    },
    {
      "cell_type": "code",
      "metadata": {
        "id": "HClDkqLLlMJh",
        "colab": {
          "base_uri": "https://localhost:8080/"
        },
        "outputId": "6a34bfde-b006-4863-fa51-4f0429cf9380"
      },
      "source": [
        "tensor = torch.rand(2, 3, 4)\n",
        "print('Pointer to data: ', tensor.data_ptr())\n",
        "print('Shape: ', tensor.shape)\n",
        "\n",
        "reshaped = tensor.reshape(24)\n",
        "print('Reshaped tensor - pointer to data', reshaped.data_ptr())\n",
        "print('Reshaped tensor shape ', reshaped.shape)\n",
        "\n",
        "view = tensor.view(3, 2, 4)\n",
        "print('Viewed tensor - pointer to data', view.data_ptr())\n",
        "print('Viewed tensor shape ', view.shape)\n",
        "\n",
        "assert tensor.data_ptr() == view.data_ptr()\n",
        "\n",
        "assert np.all(np.equal(tensor.numpy().flat, reshaped.numpy().flat))\n",
        "\n",
        "print('Original stride: ', tensor.stride())\n",
        "print('Reshaped stride: ', reshaped.stride())\n",
        "print('Viewed stride: ', view.stride())"
      ],
      "execution_count": null,
      "outputs": [
        {
          "output_type": "stream",
          "text": [
            "Pointer to data:  94823152966656\n",
            "Shape:  torch.Size([2, 3, 4])\n",
            "Reshaped tensor - pointer to data 94823152966656\n",
            "Reshaped tensor shape  torch.Size([24])\n",
            "Viewed tensor - pointer to data 94823152966656\n",
            "Viewed tensor shape  torch.Size([3, 2, 4])\n",
            "Original stride:  (12, 4, 1)\n",
            "Reshaped stride:  (1,)\n",
            "Viewed stride:  (8, 4, 1)\n"
          ],
          "name": "stdout"
        }
      ]
    },
    {
      "cell_type": "markdown",
      "metadata": {
        "id": "jIN5jSppm4yC"
      },
      "source": [
        "The basic rule about reshaping the tensor is definitely that you cannot change the total number of elements in it, so the product of all tensor's dimensions should always be the same. It gives us the ability to avoid specifying one dimension when reshaping the tensor - Pytorch can calculate it for us:"
      ]
    },
    {
      "cell_type": "code",
      "metadata": {
        "id": "e3D19ERFmzOl",
        "colab": {
          "base_uri": "https://localhost:8080/",
          "height": 71
        },
        "outputId": "b49f6393-7a79-4da7-bb31-b5d8cd885e3a"
      },
      "source": [
        "print(tensor.reshape(3, 2, 4).shape)\n",
        "print(tensor.reshape(3, 2, -1).shape)\n",
        "print(tensor.reshape(3, -1, 4).shape)"
      ],
      "execution_count": null,
      "outputs": [
        {
          "output_type": "stream",
          "text": [
            "torch.Size([3, 2, 4])\n",
            "torch.Size([3, 2, 4])\n",
            "torch.Size([3, 2, 4])\n"
          ],
          "name": "stdout"
        }
      ]
    },
    {
      "cell_type": "markdown",
      "metadata": {
        "id": "ObgCQKUiETak"
      },
      "source": [
        "---\n",
        "## Question 9:\n",
        "\n",
        "Consider a tensor `a` created with [1, 2, 3] and [1, 2, 3] of size (2, 3) is reshaped with operation `.reshape(-1, 2)`. Also consider a tensor `b` created with [[2, 1]] and of size (1, 2), later operated with `view(2, -1)` operation. \n",
        "\n",
        "If we do a dot product of a and b (using `torch.mm`) and perform the sum of all the elements (using `torch.sum`) what do we get? (enter int value without any decimal point in the quiz)\n",
        "\n",
        "> **Ans: 18**\n",
        "---\n",
        "\n"
      ]
    },
    {
      "cell_type": "code",
      "metadata": {
        "colab": {
          "base_uri": "https://localhost:8080/"
        },
        "id": "9bDYFk5FBLBA",
        "outputId": "5c47b612-1ad9-4bd4-a7f2-4892358c99c3"
      },
      "source": [
        "a = torch.tensor ([[1, 2, 3],\n",
        "                   [1, 2, 3]]).reshape (-1, 2)\n",
        "a                   "
      ],
      "execution_count": null,
      "outputs": [
        {
          "output_type": "execute_result",
          "data": {
            "text/plain": [
              "tensor([[1, 2],\n",
              "        [3, 1],\n",
              "        [2, 3]])"
            ]
          },
          "metadata": {
            "tags": []
          },
          "execution_count": 82
        }
      ]
    },
    {
      "cell_type": "code",
      "metadata": {
        "colab": {
          "base_uri": "https://localhost:8080/"
        },
        "id": "fW3cg3j6BpiI",
        "outputId": "dd835630-c346-40a4-d686-2c642be1fc3e"
      },
      "source": [
        "b = torch.tensor ([[2, 1]]).view (2, -1)\n",
        "b"
      ],
      "execution_count": null,
      "outputs": [
        {
          "output_type": "execute_result",
          "data": {
            "text/plain": [
              "tensor([[2],\n",
              "        [1]])"
            ]
          },
          "metadata": {
            "tags": []
          },
          "execution_count": 84
        }
      ]
    },
    {
      "cell_type": "code",
      "metadata": {
        "colab": {
          "base_uri": "https://localhost:8080/"
        },
        "id": "AnjNFe9qCLAU",
        "outputId": "0e8fa6b0-baa1-4f28-eee3-338c4c28d4e3"
      },
      "source": [
        "torch.sum (torch.mm (a, b))"
      ],
      "execution_count": null,
      "outputs": [
        {
          "output_type": "execute_result",
          "data": {
            "text/plain": [
              "tensor(18)"
            ]
          },
          "metadata": {
            "tags": []
          },
          "execution_count": 87
        }
      ]
    },
    {
      "cell_type": "markdown",
      "metadata": {
        "id": "mza7QPg3ndeV"
      },
      "source": [
        "**Alternative ways to view tensors** - `expand` or `expand_as`.\n",
        "\n",
        "\n",
        "\n",
        "*   `expand` - requires the desired shape as an input\n",
        "*   `expand_as` - uses the shape of another tensor\n",
        "\n",
        "These operations \"repeat\" tensor's values along the specified axes without actually copying the data. \n",
        "\n",
        "As the documentation says, expand:\n",
        "\n",
        "\n",
        "> returns a new view of the self tensor with singleton dimensions expanded to a larger size. Tensor can be also expanded to a larger number of dimensions, and the new ones will be appended at the front. For the new dimensions, the size cannot be set to -1. \n",
        "\n",
        "**Use case:**\n",
        "\n",
        "\n",
        "\n",
        "*   index multi-channel tensor with single-channel mask - imagine a color image with 3 channels (RGB) and binary mask for the area of interest on that image. We cannot index the image with this kind of mask directly since the dimensions are different, but we can use `expand_as` operation to create a view of the mask that has the same dimensions as the image we want to apply it to, but has not copied the data. "
      ]
    },
    {
      "cell_type": "code",
      "metadata": {
        "id": "iz33E-V7nPQT",
        "colab": {
          "base_uri": "https://localhost:8080/",
          "height": 595
        },
        "outputId": "048994c8-5244-4dff-d4a6-d42282e99afc"
      },
      "source": [
        "%matplotlib inline\n",
        "from matplotlib import pyplot as plt\n",
        "\n",
        "# Create a black image\n",
        "image = torch.zeros(size=(3, 256, 256), dtype=torch.int)\n",
        "\n",
        "# Leave the borders and make the rest of the image Green\n",
        "image[1, 18:256 - 18, 18:256 - 18] = 255\n",
        "\n",
        "# Create a mask of the same size\n",
        "mask = torch.zeros(size=(256, 256), dtype=torch.bool)\n",
        "\n",
        "# Assuming the green region in the original image is the Region of interest, change the mask to white for that area\n",
        "mask[18:256 - 18, 18:256 - 18] = 1\n",
        "\n",
        "# Create a view of the mask with the same dimensions as the original image\n",
        "mask_expanded = mask.expand_as(image)\n",
        "print(mask_expanded.shape)\n",
        "\n",
        "mask_np = mask_expanded.numpy().transpose(1, 2, 0) * 255\n",
        "image_np = image.numpy().transpose(1, 2, 0)\n",
        "\n",
        "fig, ax = plt.subplots(1, 2)\n",
        "ax[0].imshow(image_np)\n",
        "ax[1].imshow(mask_np)\n",
        "plt.show()\n",
        "\n",
        "image[0, mask] += 128\n",
        "fig, ax = plt.subplots(1, 2)\n",
        "ax[0].imshow(image_np)\n",
        "ax[1].imshow(mask_np)\n",
        "plt.show()\n",
        "\n",
        "image[mask_expanded] += 128\n",
        "image.clamp_(0, 255)\n",
        "fig, ax = plt.subplots(1, 2)\n",
        "ax[0].imshow(image_np)\n",
        "ax[1].imshow(mask_np)\n",
        "plt.show()"
      ],
      "execution_count": null,
      "outputs": [
        {
          "output_type": "stream",
          "text": [
            "torch.Size([3, 256, 256])\n"
          ],
          "name": "stdout"
        },
        {
          "output_type": "display_data",
          "data": {
            "image/png": "[encoded data removed]",
            "text/plain": [
              "<Figure size 432x288 with 2 Axes>"
            ]
          },
          "metadata": {
            "tags": [],
            "needs_background": "light"
          }
        },
        {
          "output_type": "display_data",
          "data": {
            "image/png": "[encoded data removed]",
            "text/plain": [
              "<Figure size 432x288 with 2 Axes>"
            ]
          },
          "metadata": {
            "tags": [],
            "needs_background": "light"
          }
        },
        {
          "output_type": "display_data",
          "data": {
            "image/png": "[encoded data removed]",
            "text/plain": [
              "<Figure size 432x288 with 2 Axes>"
            ]
          },
          "metadata": {
            "tags": [],
            "needs_background": "light"
          }
        }
      ]
    },
    {
      "cell_type": "markdown",
      "metadata": {
        "id": "jiXBx0k3ptOI"
      },
      "source": [
        "In the example above, one can also find a couple of useful tricks:\n",
        "\n",
        "\n",
        "*   `clamp` method and function is a Pytorch's analogue of NumPy's `clip` function\n",
        "*   many operations on tensors have in-place form, that does not return modified data, but change values in the tensor. The in-place version of the operation has trailing underscore according to Pytorch's naming convension - in the exmaple above it is `clamp_`\n",
        "*   tensors have the same indexing as Numpy's arrays - one can use `:` seperated range, negative indexes and so on.\n",
        "\n",
        "---\n",
        "\n",
        "# Images and their representations\n",
        "\n",
        "Now, let's discuss images, their representations and how different Python librarties work with them. \n",
        "\n",
        "Probably, the most well-known library for image loading and simple processing is [Pillow](https://pillow.readthedocs.io/en/stable/). \n",
        "\n",
        "However, many people in deep learning area stick with OpenCV for image loading and processing with some usage of another libraries when it is justified by performance/functionality. This is because OpenCV is in general much faster than the other libraries. Here you can find a couple of benchmarks: \n",
        "\n",
        "*   https://www.kaggle.com/zfturbo/benchmark-2019-speed-of-image-reading\n",
        "*   https://github.com/albumentations-team/albumentations#benchmarking-results\n",
        "\n",
        "To sum up the benchmarks above, there are two most common image formats, PNG and JPEGs. If your data is in PNG format - use OpenCV to read it. If it is in JPEG - use libturbojpeg. For image processing, use OpenCV if possible. _We will be using PIL a lot along with these._\n",
        "\n",
        "As you will read the code from others, you may find out that some of them use Pillow/something else to read data. You should know, that color image representations in OpenCV and other libraries are different - OpenCV uses \"BGR\" channel order, while others use \"RGB\" one. \n",
        "\n",
        "To change \"BRG\" <-> \"RGB\" the only thing we need to do it to change channel order."
      ]
    },
    {
      "cell_type": "code",
      "metadata": {
        "id": "ZYv4sZMmpndu",
        "colab": {
          "base_uri": "https://localhost:8080/",
          "height": 152
        },
        "outputId": "855ae316-3222-46f9-bbb4-b2a45af93e49"
      },
      "source": [
        "%matplotlib inline\n",
        "from matplotlib import pyplot as plt\n",
        "import cv2\n",
        "import urllib\n",
        "\n",
        "def url_to_image(url):\n",
        "\t# download the image, convert it to a NumPy array, and then read\n",
        "\t# it into OpenCV format\n",
        "\tresp = urllib.request.urlopen(url)\n",
        "\timage = np.asarray(bytearray(resp.read()), dtype=\"uint8\")\n",
        "\timage = cv2.imdecode(image, cv2.IMREAD_COLOR)\n",
        "\t# return the image\n",
        "\treturn image\n",
        "\n",
        "bgr_image = url_to_image ('https://encrypted-tbn0.gstatic.com/images?q=tbn%3AANd9GcRCA40ftnscVzfV8ft8e7vIzQXfXeZdtco8nknJrfCUW6INI40U')\n",
        "#bgr_image = cv2.imread('mars.jpg') \n",
        "# remember to add your own image in case you run this block, if you want to use the same image, \n",
        "# download it from: https://encrypted-tbn0.gstatic.com/images?q=tbn%3AANd9GcRCA40ftnscVzfV8ft8e7vIzQXfXeZdtco8nknJrfCUW6INI40U\n",
        "rgb_image = bgr_image[..., ::-1]\n",
        "fig, ax = plt.subplots(1, 2)\n",
        "ax[0].imshow(bgr_image)\n",
        "ax[1].imshow(rgb_image)\n",
        "plt.show()"
      ],
      "execution_count": null,
      "outputs": [
        {
          "output_type": "display_data",
          "data": {
            "image/png": "[encoded data removed]",
            "text/plain": [
              "<Figure size 432x288 with 2 Axes>"
            ]
          },
          "metadata": {
            "tags": [],
            "needs_background": "light"
          }
        }
      ]
    },
    {
      "cell_type": "markdown",
      "metadata": {
        "id": "yoi4TeNBGHle"
      },
      "source": [
        "---\n",
        "\n",
        "## Question 10:\n",
        "\n",
        "Looking at the results above it can be said that the pixel values in the blue channels would be very small compared to red channel. True/False?\n",
        "\n",
        "> **Ans: True**\n",
        "---\n",
        "\n",
        "\n"
      ]
    },
    {
      "cell_type": "markdown",
      "metadata": {
        "id": "b3ugFd57zNwa"
      },
      "source": [
        "# Autograd\n",
        "\n",
        "Pytorch supports automatic differentiation. The module which implements this is called **AutoGrad**. It calculates the gradients and keeps track in forward and backward passes. For primitive tensors, you need to enable or disable it using the `required_grad` flag. But, for advanced tensors, it is enabled by default"
      ]
    },
    {
      "cell_type": "code",
      "metadata": {
        "id": "VMOp4aiou6JR",
        "colab": {
          "base_uri": "https://localhost:8080/"
        },
        "outputId": "1fe8e9e5-cec9-408a-c9b8-fa26ff08ff3b"
      },
      "source": [
        "a = torch.rand((3, 5), requires_grad = True)\n",
        "print(a)\n",
        "result = a * 5\n",
        "print(result)\n",
        "\n",
        "# grad can be implicitly created only for scalar outputs\n",
        "# so let's calculate the sum here so that the output becomes a scalar and we can apply a backward pass\n",
        "mean_result = result.sum()\n",
        "print(mean_result)\n",
        "# calculate gradient\n",
        "mean_result.backward()\n",
        "# print gradient of a\n",
        "print(a.grad)"
      ],
      "execution_count": null,
      "outputs": [
        {
          "output_type": "stream",
          "text": [
            "tensor([[0.2555, 0.2012, 0.4829, 0.3737, 0.0286],\n",
            "        [0.8875, 0.8545, 0.8846, 0.2994, 0.6013],\n",
            "        [0.6230, 0.5660, 0.0379, 0.6759, 0.2915]], requires_grad=True)\n",
            "tensor([[1.2777, 1.0061, 2.4147, 1.8687, 0.1428],\n",
            "        [4.4375, 4.2723, 4.4231, 1.4968, 3.0065],\n",
            "        [3.1150, 2.8301, 0.1895, 3.3797, 1.4576]], grad_fn=<MulBackward0>)\n",
            "tensor(35.3181, grad_fn=<SumBackward0>)\n",
            "tensor([[5., 5., 5., 5., 5.],\n",
            "        [5., 5., 5., 5., 5.],\n",
            "        [5., 5., 5., 5., 5.]])\n"
          ],
          "name": "stdout"
        }
      ]
    },
    {
      "cell_type": "markdown",
      "metadata": {
        "id": "ym0Amk2IGfLx"
      },
      "source": [
        "---\n",
        "\n",
        "## Question 11: \n",
        "\n",
        "Why the gradient of a is all 5s above?\n",
        "\n",
        "> **Ans: The fn is defined as the sum of all elementes of a*5 and since the derivative of w.r.t a is 5 it returns that**\n",
        "---\n",
        "\n"
      ]
    },
    {
      "cell_type": "markdown",
      "metadata": {
        "id": "7PDgGq2R0k7I"
      },
      "source": [
        "As we see, Pytorch automagically calculated the gradient value for us. It looks to be the correct value - we multiplied an input by 5, so the gradient of this operation equals to 5.\n",
        "\n",
        "# Disabling Autograd for tensors\n",
        "\n",
        "We don't need to compute gradients for all the variables that are involved in the pipeline. The Pytorch API provides 2 ways to disable autograd.\n",
        "\n",
        "`detach` - returns a copy of the tensor with autograd disabled. This \n",
        "\n",
        "1.   copy is built on the same memory as the original tensor, so in-place size / stride / storage changes (such as resize_ / resizeas / set / transpose) modifications are not allowed.\n",
        "2.   torch.no_grad() - It is a context manager that allows you to guard a series of operations from autograd without creating new tensors."
      ]
    },
    {
      "cell_type": "code",
      "metadata": {
        "id": "yqVG9fQb0cLW",
        "colab": {
          "base_uri": "https://localhost:8080/"
        },
        "outputId": "c472d5e8-6904-45f0-a51b-a272559dd936"
      },
      "source": [
        "a = torch.rand((3, 5), requires_grad=True)\n",
        "print (a)\n",
        "\n",
        "detached_a = a.detach()\n",
        "detached_result = detached_a * 5\n",
        "print (detached_result)\n",
        "result = a * 10\n",
        "\n",
        "# we cannot do backward pass that is required for autograd using multideminsional output,\n",
        "# so let's calculate the sum here\n",
        "mean_result = result.sum()\n",
        "mean_result.backward()\n",
        "a.grad"
      ],
      "execution_count": null,
      "outputs": [
        {
          "output_type": "stream",
          "text": [
            "tensor([[0.0699, 0.5949, 0.0549, 0.6388, 0.6812],\n",
            "        [0.7177, 0.2876, 0.2344, 0.7021, 0.0465],\n",
            "        [0.5830, 0.1912, 0.4437, 0.2363, 0.5385]], requires_grad=True)\n",
            "tensor([[0.3493, 2.9745, 0.2745, 3.1942, 3.4059],\n",
            "        [3.5884, 1.4380, 1.1722, 3.5104, 0.2323],\n",
            "        [2.9150, 0.9562, 2.2184, 1.1814, 2.6924]])\n"
          ],
          "name": "stdout"
        },
        {
          "output_type": "execute_result",
          "data": {
            "text/plain": [
              "tensor([[10., 10., 10., 10., 10.],\n",
              "        [10., 10., 10., 10., 10.],\n",
              "        [10., 10., 10., 10., 10.]])"
            ]
          },
          "metadata": {
            "tags": []
          },
          "execution_count": 94
        }
      ]
    },
    {
      "cell_type": "code",
      "metadata": {
        "id": "uqpch2Be02J7",
        "colab": {
          "base_uri": "https://localhost:8080/",
          "height": 71
        },
        "outputId": "0a5ee8e8-81b8-46f0-c7fc-ac406657e928"
      },
      "source": [
        "a = torch.rand((3, 5), requires_grad=True)\n",
        "with torch.no_grad():\n",
        "    detached_result = a * 5\n",
        "result = a * 10\n",
        "# we cannot do backward pass that is required for autograd using multideminsional output,\n",
        "# so let's calculate the sum here\n",
        "mean_result = result.sum()\n",
        "mean_result.backward()\n",
        "a.grad"
      ],
      "execution_count": null,
      "outputs": [
        {
          "output_type": "execute_result",
          "data": {
            "text/plain": [
              "tensor([[10., 10., 10., 10., 10.],\n",
              "        [10., 10., 10., 10., 10.],\n",
              "        [10., 10., 10., 10., 10.]])"
            ]
          },
          "metadata": {
            "tags": []
          },
          "execution_count": 38
        }
      ]
    },
    {
      "cell_type": "markdown",
      "metadata": {
        "id": "vjh2rYOPJUAZ"
      },
      "source": [
        "# Custom Network\n",
        "\n",
        "A fully-connected ReLU network with one hidden layer and no biases, trained to predict y from x by minimizing squared Euclidean distance.\n",
        "\n",
        "This implementation uses PyTorch tensors to manually compute the forward pass, loss, and backward pass.\n",
        "\n",
        "A PyTorch Tensor is basically the same as a numpy array: it does not know anything about deep learning or computational graphs or gradients, and is just a generic n-dimensional array to be used for arbitrary numeric computation.\n",
        "\n",
        "The biggest difference between a numpy array and a PyTorch Tensor is that a PyTorch Tensor can run on either CPU or GPU. To run operations on the GPU, just cast the Tensor to a cuda datatype."
      ]
    },
    {
      "cell_type": "code",
      "metadata": {
        "id": "0nf5RaB104Vp"
      },
      "source": [
        "dtype = torch.float\n",
        "device = torch.device(\"cpu\")\n",
        "# device = torch.device(\"cuda:0\") # Uncomment this to run on GPU\n",
        "\n",
        "# N is batch size; D_in is input dimension;\n",
        "# H is hidden dimension; D_out is output dimension.\n",
        "N, D_in, H, D_out = 64, 1000, 100, 10\n",
        "\n",
        "# Create random input and output data\n",
        "x = torch.randn(N, D_in, device=device, dtype=dtype)\n",
        "y = torch.randn(N, D_out, device=device, dtype=dtype)\n",
        "\n",
        "# Randomly initialize weights\n",
        "w1 = torch.randn(D_in, H, device=device, dtype=dtype)\n",
        "w2 = torch.randn(H, D_out, device=device, dtype=dtype)\n",
        "\n",
        "learning_rate = 1e-6"
      ],
      "execution_count": null,
      "outputs": []
    },
    {
      "cell_type": "code",
      "metadata": {
        "id": "1wBmQ0FoKyyY"
      },
      "source": [
        "w1_copy = w1.detach ().clone ()\n",
        "w2_copy = w2.detach ().clone ()"
      ],
      "execution_count": null,
      "outputs": []
    },
    {
      "cell_type": "code",
      "metadata": {
        "colab": {
          "base_uri": "https://localhost:8080/"
        },
        "id": "1AuauboUKhso",
        "outputId": "fbfe126a-72ea-43e5-c4b9-d9764021f62d"
      },
      "source": [
        "# Reinitialize w1 and w2\n",
        "w1 = w1_copy.detach ().clone ()\n",
        "w2 = w2_copy.detach ().clone ()\n",
        "\n",
        "for t in range(500):\n",
        "    # Forward pass: compute predicted y\n",
        "    h = x.mm(w1)\n",
        "    h_relu = h.clamp(min=0)\n",
        "    y_pred = h_relu.mm(w2)\n",
        "\n",
        "    # Compute and print loss\n",
        "    loss = (y_pred - y).pow(2).sum().item()\n",
        "    print(t, loss)\n",
        "\n",
        "    # Backprop to compute gradients of w1 and w2 with respect to loss\n",
        "    grad_y_pred = 2*(y_pred - y)\n",
        "    grad_w2 = h_relu.t().mm(grad_y_pred)\n",
        "    grad_h_relu = grad_y_pred.mm(w2.t())\n",
        "    grad_h = grad_h_relu#.clone()\n",
        "    grad_h[h < 0] = 0\n",
        "    grad_w1 = x.t().mm(grad_h)\n",
        "\n",
        "    # Update weights using gradient descent\n",
        "    w1 -= learning_rate * grad_w1\n",
        "    w2 -= learning_rate * grad_w2"
      ],
      "execution_count": null,
      "outputs": [
        {
          "output_type": "stream",
          "text": [
            "0 40546392.0\n",
            "1 42366028.0\n",
            "2 44626992.0\n",
            "3 38548064.0\n",
            "4 24841974.0\n",
            "5 12132409.0\n",
            "6 5398982.0\n",
            "7 2701757.5\n",
            "8 1674204.875\n",
            "9 1219170.5\n",
            "10 966369.5\n",
            "11 796200.6875\n",
            "12 668638.125\n",
            "13 567923.25\n",
            "14 486717.40625\n",
            "15 419932.65625\n",
            "16 364466.65625\n",
            "17 317975.78125\n",
            "18 278683.96875\n",
            "19 245284.0625\n",
            "20 216732.3125\n",
            "21 192203.890625\n",
            "22 171015.84375\n",
            "23 152642.515625\n",
            "24 136644.75\n",
            "25 122665.0625\n",
            "26 110403.3671875\n",
            "27 99611.40625\n",
            "28 90090.2421875\n",
            "29 81670.765625\n",
            "30 74194.4375\n",
            "31 67538.953125\n",
            "32 61600.2265625\n",
            "33 56275.30859375\n",
            "34 51492.83203125\n",
            "35 47191.30859375\n",
            "36 43312.6328125\n",
            "37 39812.01953125\n",
            "38 36649.2421875\n",
            "39 33783.703125\n",
            "40 31182.8203125\n",
            "41 28813.982421875\n",
            "42 26653.423828125\n",
            "43 24679.830078125\n",
            "44 22874.0\n",
            "45 21219.857421875\n",
            "46 19701.671875\n",
            "47 18306.927734375\n",
            "48 17024.037109375\n",
            "49 15844.060546875\n",
            "50 14756.568359375\n",
            "51 13752.423828125\n",
            "52 12825.1748046875\n",
            "53 11968.1142578125\n",
            "54 11175.662109375\n",
            "55 10441.453125\n",
            "56 9760.7587890625\n",
            "57 9129.146484375\n",
            "58 8543.01171875\n",
            "59 8000.10546875\n",
            "60 7495.0556640625\n",
            "61 7025.06640625\n",
            "62 6587.2841796875\n",
            "63 6179.2578125\n",
            "64 5799.3466796875\n",
            "65 5444.904296875\n",
            "66 5113.9326171875\n",
            "67 4806.345703125\n",
            "68 4518.89697265625\n",
            "69 4250.09814453125\n",
            "70 3998.599365234375\n",
            "71 3763.30029296875\n",
            "72 3542.879638671875\n",
            "73 3336.28857421875\n",
            "74 3142.618896484375\n",
            "75 2961.039306640625\n",
            "76 2790.66796875\n",
            "77 2630.83056640625\n",
            "78 2480.887451171875\n",
            "79 2340.01318359375\n",
            "80 2207.63720703125\n",
            "81 2083.25927734375\n",
            "82 1966.361328125\n",
            "83 1856.44921875\n",
            "84 1753.085205078125\n",
            "85 1655.8529052734375\n",
            "86 1564.3525390625\n",
            "87 1478.237060546875\n",
            "88 1397.1903076171875\n",
            "89 1320.8837890625\n",
            "90 1248.983642578125\n",
            "91 1181.2392578125\n",
            "92 1117.398193359375\n",
            "93 1057.2269287109375\n",
            "94 1000.4863891601562\n",
            "95 946.9797973632812\n",
            "96 896.489990234375\n",
            "97 848.8565673828125\n",
            "98 803.8873901367188\n",
            "99 761.4444580078125\n",
            "100 721.36572265625\n",
            "101 683.5307006835938\n",
            "102 647.787109375\n",
            "103 614.0087280273438\n",
            "104 582.1074829101562\n",
            "105 551.95166015625\n",
            "106 523.4461669921875\n",
            "107 496.498046875\n",
            "108 471.0076904296875\n",
            "109 446.9037780761719\n",
            "110 424.1116943359375\n",
            "111 402.52978515625\n",
            "112 382.11669921875\n",
            "113 362.7972717285156\n",
            "114 344.5137939453125\n",
            "115 327.205322265625\n",
            "116 310.82415771484375\n",
            "117 295.30072021484375\n",
            "118 280.5945739746094\n",
            "119 266.6632080078125\n",
            "120 253.46458435058594\n",
            "121 240.94989013671875\n",
            "122 229.08926391601562\n",
            "123 217.84439086914062\n",
            "124 207.1798858642578\n",
            "125 197.06866455078125\n",
            "126 187.47567749023438\n",
            "127 178.37283325195312\n",
            "128 169.7391357421875\n",
            "129 161.5456085205078\n",
            "130 153.75794982910156\n",
            "131 146.3667449951172\n",
            "132 139.35145568847656\n",
            "133 132.6886749267578\n",
            "134 126.3614730834961\n",
            "135 120.35133361816406\n",
            "136 114.64830017089844\n",
            "137 109.22395324707031\n",
            "138 104.07136535644531\n",
            "139 99.17305755615234\n",
            "140 94.51667785644531\n",
            "141 90.09103393554688\n",
            "142 85.88459014892578\n",
            "143 81.88288879394531\n",
            "144 78.07676696777344\n",
            "145 74.45777893066406\n",
            "146 71.01316833496094\n",
            "147 67.73886108398438\n",
            "148 64.62013244628906\n",
            "149 61.65331268310547\n",
            "150 58.830299377441406\n",
            "151 56.14224624633789\n",
            "152 53.58290481567383\n",
            "153 51.14650344848633\n",
            "154 48.825870513916016\n",
            "155 46.61480712890625\n",
            "156 44.51045227050781\n",
            "157 42.50562286376953\n",
            "158 40.595115661621094\n",
            "159 38.77598571777344\n",
            "160 37.041259765625\n",
            "161 35.389312744140625\n",
            "162 33.81365203857422\n",
            "163 32.31070327758789\n",
            "164 30.877904891967773\n",
            "165 29.511707305908203\n",
            "166 28.208656311035156\n",
            "167 26.9659481048584\n",
            "168 25.779930114746094\n",
            "169 24.64861488342285\n",
            "170 23.56890869140625\n",
            "171 22.537967681884766\n",
            "172 21.55508041381836\n",
            "173 20.61602783203125\n",
            "174 19.720474243164062\n",
            "175 18.86618995666504\n",
            "176 18.049514770507812\n",
            "177 17.26938247680664\n",
            "178 16.523900985717773\n",
            "179 15.812397003173828\n",
            "180 15.132366180419922\n",
            "181 14.482955932617188\n",
            "182 13.862346649169922\n",
            "183 13.269500732421875\n",
            "184 12.702192306518555\n",
            "185 12.160691261291504\n",
            "186 11.64313793182373\n",
            "187 11.148174285888672\n",
            "188 10.674845695495605\n",
            "189 10.222530364990234\n",
            "190 9.790336608886719\n",
            "191 9.37697982788086\n",
            "192 8.981382369995117\n",
            "193 8.60318374633789\n",
            "194 8.242066383361816\n",
            "195 7.895944118499756\n",
            "196 7.564663887023926\n",
            "197 7.248161792755127\n",
            "198 6.945390701293945\n",
            "199 6.655329704284668\n",
            "200 6.378009796142578\n",
            "201 6.112310409545898\n",
            "202 5.857998847961426\n",
            "203 5.614518165588379\n",
            "204 5.381946086883545\n",
            "205 5.158627033233643\n",
            "206 4.945343017578125\n",
            "207 4.741217136383057\n",
            "208 4.54545783996582\n",
            "209 4.358104228973389\n",
            "210 4.178781509399414\n",
            "211 4.006929874420166\n",
            "212 3.8424487113952637\n",
            "213 3.684966802597046\n",
            "214 3.534027338027954\n",
            "215 3.38940167427063\n",
            "216 3.250324010848999\n",
            "217 3.117271900177002\n",
            "218 2.9894745349884033\n",
            "219 2.867166757583618\n",
            "220 2.7499217987060547\n",
            "221 2.6378672122955322\n",
            "222 2.530254364013672\n",
            "223 2.427147150039673\n",
            "224 2.3284335136413574\n",
            "225 2.2336676120758057\n",
            "226 2.1431357860565186\n",
            "227 2.055875539779663\n",
            "228 1.9726176261901855\n",
            "229 1.8927477598190308\n",
            "230 1.8161543607711792\n",
            "231 1.7425849437713623\n",
            "232 1.672468662261963\n",
            "233 1.6050907373428345\n",
            "234 1.54035484790802\n",
            "235 1.4781965017318726\n",
            "236 1.4186997413635254\n",
            "237 1.3616732358932495\n",
            "238 1.3070037364959717\n",
            "239 1.2543699741363525\n",
            "240 1.204073190689087\n",
            "241 1.155743956565857\n",
            "242 1.109529972076416\n",
            "243 1.065024495124817\n",
            "244 1.022465705871582\n",
            "245 0.9816092848777771\n",
            "246 0.9423499703407288\n",
            "247 0.9046953320503235\n",
            "248 0.8686250448226929\n",
            "249 0.8339269161224365\n",
            "250 0.8007332682609558\n",
            "251 0.7687710523605347\n",
            "252 0.7382334470748901\n",
            "253 0.7089644074440002\n",
            "254 0.6807400584220886\n",
            "255 0.6537216901779175\n",
            "256 0.6277807354927063\n",
            "257 0.6028127670288086\n",
            "258 0.5788342952728271\n",
            "259 0.5559276938438416\n",
            "260 0.5339450240135193\n",
            "261 0.5127770900726318\n",
            "262 0.4925500154495239\n",
            "263 0.4730192720890045\n",
            "264 0.45433294773101807\n",
            "265 0.43636035919189453\n",
            "266 0.4191879332065582\n",
            "267 0.4025663137435913\n",
            "268 0.3867093324661255\n",
            "269 0.37146052718162537\n",
            "270 0.35677191615104675\n",
            "271 0.34276896715164185\n",
            "272 0.3293253481388092\n",
            "273 0.31634214520454407\n",
            "274 0.30387720465660095\n",
            "275 0.2919457256793976\n",
            "276 0.2804783880710602\n",
            "277 0.2694387137889862\n",
            "278 0.25886455178260803\n",
            "279 0.24870175123214722\n",
            "280 0.238909512758255\n",
            "281 0.2295878529548645\n",
            "282 0.22057662904262543\n",
            "283 0.21192008256912231\n",
            "284 0.2036338448524475\n",
            "285 0.19564542174339294\n",
            "286 0.18800276517868042\n",
            "287 0.180629700422287\n",
            "288 0.1735801249742508\n",
            "289 0.1667911857366562\n",
            "290 0.16031460464000702\n",
            "291 0.1540306657552719\n",
            "292 0.14801283180713654\n",
            "293 0.1422898769378662\n",
            "294 0.1367272436618805\n",
            "295 0.13139159977436066\n",
            "296 0.1262267529964447\n",
            "297 0.12133694440126419\n",
            "298 0.11657257378101349\n",
            "299 0.11204063147306442\n",
            "300 0.10766849666833878\n",
            "301 0.10349525511264801\n",
            "302 0.09947758913040161\n",
            "303 0.09559136629104614\n",
            "304 0.09186743199825287\n",
            "305 0.08829613029956818\n",
            "306 0.08488185703754425\n",
            "307 0.08156971633434296\n",
            "308 0.07840139418840408\n",
            "309 0.0753757506608963\n",
            "310 0.0724240392446518\n",
            "311 0.06961014866828918\n",
            "312 0.0669025182723999\n",
            "313 0.06431552767753601\n",
            "314 0.06184026598930359\n",
            "315 0.059439580887556076\n",
            "316 0.05715273320674896\n",
            "317 0.05492474511265755\n",
            "318 0.05280570685863495\n",
            "319 0.05076085403561592\n",
            "320 0.04880321025848389\n",
            "321 0.046916015446186066\n",
            "322 0.04512515664100647\n",
            "323 0.04336796700954437\n",
            "324 0.04169265553355217\n",
            "325 0.04010038450360298\n",
            "326 0.03855408355593681\n",
            "327 0.03704690933227539\n",
            "328 0.03562423959374428\n",
            "329 0.03425872325897217\n",
            "330 0.0329410582780838\n",
            "331 0.03167467564344406\n",
            "332 0.030464325100183487\n",
            "333 0.029292818158864975\n",
            "334 0.028169285506010056\n",
            "335 0.027089249342679977\n",
            "336 0.026056360453367233\n",
            "337 0.025060143321752548\n",
            "338 0.024098819121718407\n",
            "339 0.023170242086052895\n",
            "340 0.022292299196124077\n",
            "341 0.021441640332341194\n",
            "342 0.020611613988876343\n",
            "343 0.01982283592224121\n",
            "344 0.01907009445130825\n",
            "345 0.018351761624217033\n",
            "346 0.01765400357544422\n",
            "347 0.016990220174193382\n",
            "348 0.01635143719613552\n",
            "349 0.015723461285233498\n",
            "350 0.015126635320484638\n",
            "351 0.01455613598227501\n",
            "352 0.014008130878210068\n",
            "353 0.013482130132615566\n",
            "354 0.012976482510566711\n",
            "355 0.012490708380937576\n",
            "356 0.012015976943075657\n",
            "357 0.011566425673663616\n",
            "358 0.011128534562885761\n",
            "359 0.010711749084293842\n",
            "360 0.010317382402718067\n",
            "361 0.009938421659171581\n",
            "362 0.009571860544383526\n",
            "363 0.00921191368252039\n",
            "364 0.00886751338839531\n",
            "365 0.008538429625332355\n",
            "366 0.008218785747885704\n",
            "367 0.007919837720692158\n",
            "368 0.0076279789209365845\n",
            "369 0.0073483968153595924\n",
            "370 0.007074745371937752\n",
            "371 0.006820508278906345\n",
            "372 0.006572853308171034\n",
            "373 0.00633487431332469\n",
            "374 0.006101949140429497\n",
            "375 0.005877893418073654\n",
            "376 0.005667938385158777\n",
            "377 0.005463413428515196\n",
            "378 0.00526291923597455\n",
            "379 0.005076043773442507\n",
            "380 0.00489870086312294\n",
            "381 0.004718388896435499\n",
            "382 0.004554223269224167\n",
            "383 0.00439423555508256\n",
            "384 0.004236948676407337\n",
            "385 0.0040891035459935665\n",
            "386 0.003946692682802677\n",
            "387 0.003810396883636713\n",
            "388 0.00367803405970335\n",
            "389 0.0035503653343766928\n",
            "390 0.003424168098717928\n",
            "391 0.003308061044663191\n",
            "392 0.0031957097817212343\n",
            "393 0.003085561329498887\n",
            "394 0.002978576347231865\n",
            "395 0.0028788461349904537\n",
            "396 0.0027798365335911512\n",
            "397 0.002685762941837311\n",
            "398 0.0025969520211219788\n",
            "399 0.0025087574031203985\n",
            "400 0.00242647435516119\n",
            "401 0.0023458634968847036\n",
            "402 0.0022712545469403267\n",
            "403 0.0021955445408821106\n",
            "404 0.002125741448253393\n",
            "405 0.0020548836328089237\n",
            "406 0.001987011171877384\n",
            "407 0.0019236025400459766\n",
            "408 0.0018633336294442415\n",
            "409 0.001800833735615015\n",
            "410 0.0017459405353292823\n",
            "411 0.0016928428085520864\n",
            "412 0.0016392713878303766\n",
            "413 0.00158673245459795\n",
            "414 0.0015364042483270168\n",
            "415 0.0014894094783812761\n",
            "416 0.0014444044791162014\n",
            "417 0.0013971314765512943\n",
            "418 0.001357606379315257\n",
            "419 0.0013158395886421204\n",
            "420 0.001277375966310501\n",
            "421 0.0012397827813401818\n",
            "422 0.0012017465196549892\n",
            "423 0.001167247537523508\n",
            "424 0.0011315662413835526\n",
            "425 0.0010986370034515858\n",
            "426 0.0010662417626008391\n",
            "427 0.0010355038102716208\n",
            "428 0.0010052378056570888\n",
            "429 0.0009775081416592002\n",
            "430 0.000947941152844578\n",
            "431 0.0009229106944985688\n",
            "432 0.0008971040952019393\n",
            "433 0.0008718657772988081\n",
            "434 0.0008481821278110147\n",
            "435 0.000825385854113847\n",
            "436 0.000801165821030736\n",
            "437 0.0007815333665348589\n",
            "438 0.0007592262700200081\n",
            "439 0.0007368849474005401\n",
            "440 0.0007177458028309047\n",
            "441 0.0006989442626945674\n",
            "442 0.000680325785651803\n",
            "443 0.0006623762892559171\n",
            "444 0.0006440451252274215\n",
            "445 0.0006273345788940787\n",
            "446 0.0006117182783782482\n",
            "447 0.0005962742725387216\n",
            "448 0.0005810523871332407\n",
            "449 0.000566717004403472\n",
            "450 0.0005523842410184443\n",
            "451 0.0005377736524678767\n",
            "452 0.0005250497488304973\n",
            "453 0.0005131802172400057\n",
            "454 0.000500157882925123\n",
            "455 0.00048771966248750687\n",
            "456 0.00047569090384058654\n",
            "457 0.0004633113567251712\n",
            "458 0.0004538893699645996\n",
            "459 0.00044225435703992844\n",
            "460 0.00043309092870913446\n",
            "461 0.0004232476931065321\n",
            "462 0.000413331959862262\n",
            "463 0.00040416105184704065\n",
            "464 0.00039477436803281307\n",
            "465 0.000385317369364202\n",
            "466 0.0003769265895243734\n",
            "467 0.0003686387208290398\n",
            "468 0.0003598982293624431\n",
            "469 0.00035251767258159816\n",
            "470 0.0003446863265708089\n",
            "471 0.00033696068567223847\n",
            "472 0.00032978062517941\n",
            "473 0.0003225340333301574\n",
            "474 0.00031612347811460495\n",
            "475 0.0003086476062890142\n",
            "476 0.0003027172351721674\n",
            "477 0.0002968623593915254\n",
            "478 0.00029014653409831226\n",
            "479 0.00028364951140247285\n",
            "480 0.0002787416451610625\n",
            "481 0.00027283182134851813\n",
            "482 0.0002674002025742084\n",
            "483 0.0002618888975121081\n",
            "484 0.0002563988382462412\n",
            "485 0.00025127659318968654\n",
            "486 0.00024602317716926336\n",
            "487 0.00024215428857132792\n",
            "488 0.00023719333694316447\n",
            "489 0.0002323984808754176\n",
            "490 0.00022838125005364418\n",
            "491 0.00022402431932277977\n",
            "492 0.0002199486189056188\n",
            "493 0.00021634275617543608\n",
            "494 0.0002121087454725057\n",
            "495 0.00020771179697476327\n",
            "496 0.00020400616631377488\n",
            "497 0.00020011313608847558\n",
            "498 0.00019611866446211934\n",
            "499 0.00019214529311284423\n"
          ],
          "name": "stdout"
        }
      ]
    },
    {
      "cell_type": "markdown",
      "metadata": {
        "id": "ycwxAPHZLNST"
      },
      "source": [
        "---\n",
        "## Question 12\n",
        "\n",
        "In the code above, why do we have 2 in '2.0*(y_pred - y)`?\n",
        "\n",
        "> Ans: Loss function is defined as $ \\Sigma (y_{pred} - y)^2 $, so its derivative would have as mentioned in the question\n",
        "\n",
        "---\n",
        "## Question 13\n",
        "In the code above, what does `grad_h[h < 0] = 0` signify?\n",
        "\n",
        "> **Ans: Since ReLu was used as the activations the gradient whose value of h is less than 0 was clipped, so its derivatives are also 0**\n",
        "\n",
        "---\n",
        "## Question 14\n",
        "In the code above, how many \"epochs\" have we trained the model for? \n",
        "\n",
        "> **Ans: 500**\n",
        "\n",
        "---\n",
        "## Question 15\n",
        "In the code above, if we take the trained model, and run it on fresh  inputs, the trained model will be able to predict fresh output with high accuracy. \n",
        "\n",
        "> **Ans: No, the loss is still high and also it was trained on random data, so which wouldn't not have any significance with the output y (x & y are random)**\n",
        "\n",
        "---\n",
        "## Question 16\n",
        "In the code above, if we dont use clone in `grad_h = grad_h_relu.clone()` the model will still train without any issues. \n",
        "\n",
        "> **Ans: Yes, it runs without any issue and also returns the same results**\n",
        "---"
      ]
    },
    {
      "cell_type": "code",
      "metadata": {
        "id": "PnJ49I07JJI6"
      },
      "source": [
        ""
      ],
      "execution_count": null,
      "outputs": []
    }
  ]
}