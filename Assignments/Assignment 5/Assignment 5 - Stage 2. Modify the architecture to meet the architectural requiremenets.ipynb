{
 "cells": [
  {
   "cell_type": "markdown",
   "metadata": {
    "id": "MrPrD3WillJc"
   },
   "source": [
    "## Objective\n",
    "Build up to an architecture that can predict digits with 99.4% or higher accuracy (on test set) in 3 stages.\n",
    "\n",
    "This notebook refers to the **2nd of the 3 stages**, where the model architecture is refined to meet the specification of the task (i.e. the number of model parameters should be $\\le 8000$). Further add _Dropout_ and _BatchNormalization_ to the network to reduce overfitting.\n",
    "\n",
    "<br>\n",
    "\n",
    "---\n",
    "\n",
    "**Target**\n",
    "- Refine the model architecture to meet the specifications\n",
    "    - Parameters should be $\\le 8000$\n",
    "    - Use _Dropout_ of $0.05$\n",
    "- Prevent fluctuations in the test accuracy\n",
    "    - Using _BatchNormalization_ might help stabalize\n",
    "- Reduce overfitting (i.e. training and test/validation accuracy should be vary proportionally)\n",
    "\n",
    "**Results**\n",
    "- Best Training Accuracy: _99.02_ (Iteration 14)\n",
    "- Best Test Accuracy: _99.30_ (Iteration 12)\n",
    "- Model Parameters: _7,940_\n",
    "\n",
    "**Analysis**\n",
    "- The number of model parameters required has been reduced substantially, which would reduce the training time.\n",
    "- It no longer overfits (rather its a bit underfit)\n",
    "- Perhaps using a higher learning rate with a LR scheduler should help the model learn better with additional augmentation methods incorporated as well (refer to Stage 3)\n",
    "\n",
    "---"
   ]
  },
  {
   "cell_type": "markdown",
   "metadata": {
    "id": "l7jzq756llJc"
   },
   "source": [
    "## Imports"
   ]
  },
  {
   "cell_type": "code",
   "execution_count": 1,
   "metadata": {
    "id": "NQKwFzzRhNfA"
   },
   "outputs": [],
   "source": [
    "# PyTorch, everything from PyTorch can be referred with this\n",
    "import torch\n",
    "\n",
    "# Import the neural network model seperately\n",
    "import torch.nn as nn\n",
    "\n",
    "# Contains functions that are required such as ReLu (Activation function)\n",
    "import torch.nn.functional as F \n",
    "\n",
    "# Optimizers required to converge using Backpropogation\n",
    "import torch.optim as optim\n",
    "\n",
    "# Datasets are used to download and load the data\n",
    "# used to train and validate\n",
    "# Transforms can be used to define modifications and/or augmentations methods\n",
    "# to be applied while passing the data\n",
    "# Normalization can also be one of the compositions of transforms\n",
    "import torchvision\n",
    "from torchvision import datasets, transforms\n",
    "\n",
    "# Dataset abstract class using which custom dataset classes can be created\n",
    "# DataLoader to create batches and to shuffle the data\n",
    "from torch.utils.data import Dataset, DataLoader\n",
    "\n",
    "# Visualize the images\n",
    "import matplotlib.pyplot as plt\n",
    "from mpl_toolkits.axes_grid1 import ImageGrid # ImageGrid to form a grid of images\n",
    "\n",
    "# Utils\n",
    "import cv2\n",
    "import numpy as np\n",
    "import seaborn as sns\n",
    "from collections import OrderedDict"
   ]
  },
  {
   "cell_type": "code",
   "execution_count": 2,
   "metadata": {
    "id": "j4YXlPG3NBcI"
   },
   "outputs": [],
   "source": [
    "# Disable warnings\n",
    "import warnings\n",
    "warnings.simplefilter(action='ignore', category=FutureWarning)\n",
    "warnings.simplefilter(action='ignore', category=UserWarning)"
   ]
  },
  {
   "cell_type": "markdown",
   "metadata": {
    "id": "CO5hw_HA1AAU"
   },
   "source": [
    "## Create a custom dataset class\n",
    "Define a class a that loads and takes the images from MNIST to use as input along with the actual label of the handwritten digit which constitutes the required output"
   ]
  },
  {
   "cell_type": "code",
   "execution_count": 3,
   "metadata": {
    "id": "Xiu5mj_20pck"
   },
   "outputs": [],
   "source": [
    "class MNISTDataset (Dataset):\n",
    "    ''' Extending the Dataset class to provide customized inputs and modified \n",
    "    outputs for training '''\n",
    "\n",
    "    def __init__(self, mode='training', additional_transforms=None):\n",
    "        ''' Get/Download the data (MNIST) and setup up other configurations\n",
    "        required to get the data\n",
    "        \n",
    "        Parameters:\n",
    "            mode - Indicates either 'training' or 'validation'\n",
    "            transforms - A list of additional transformations to be added while training\n",
    "                            By default Normalized the dataset\n",
    "        '''\n",
    "\n",
    "        # Start by initializing the base class\n",
    "        super().__init__()\n",
    "\n",
    "        # Save the mode\n",
    "        # Check if the mode is valid\n",
    "        assert mode in ['training', 'validation'], \\\n",
    "            '\"mode\" should be either \"training\" or \"validation\"'\n",
    "        self.mode = mode\n",
    "\n",
    "        # Seed the random generator to results that are reproduceable\n",
    "        # Remove during production\n",
    "        torch.manual_seed (1)\n",
    "\n",
    "        # Define the transformations\n",
    "        #   First convert into a tensor and then normalization\n",
    "        #   Values for normalization where got from \n",
    "        #   https://discuss.pytorch.org/t/normalization-in-the-mnist-example/457\n",
    "\n",
    "        # Define a list of transforms to chain together            \n",
    "        # Both the train and validation transforms are the same, but might decide \n",
    "        # to update with some data augmentation methods for train later\n",
    "        # so keeping it seperate\n",
    "        self.transforms = [\n",
    "            transforms.ToTensor (), \n",
    "            transforms.Normalize((0.1307,), (0.3081,))]\n",
    "\n",
    "        # Get MNIST data\n",
    "        if self.mode == 'training':        \n",
    "\n",
    "            # Chain the transforms\n",
    "            if additional_transforms:\n",
    "                self.transforms = self.transforms+additional_transforms \n",
    "        \n",
    "            # Download the training set and store it at the root directory\n",
    "            self.data = datasets.MNIST (\n",
    "                root='./data/train/',\n",
    "                train=True,\n",
    "                download=True,\n",
    "                transform=transforms.Compose (self.transforms))\n",
    "            \n",
    "        elif self.mode == 'validation':\n",
    "\n",
    "            # Get the validation set\n",
    "            self.data = datasets.MNIST (\n",
    "                root='./data/val/',\n",
    "                train=False,\n",
    "                download=True,\n",
    "                transform=transforms.Compose (self.transforms))\n",
    "        \n",
    "\n",
    "    def __len__(self):\n",
    "        ''' Get the total size of the dataset '''\n",
    "        return len (self.data)\n",
    "\n",
    "\n",
    "    def __getitem__(self, index):\n",
    "        ''' Used to get the index-th item from the dataset \n",
    "        \n",
    "        Parameters:\n",
    "            index - Element value to retrieve from the data\n",
    "        '''\n",
    "\n",
    "        # Check if the within the bounds of the data\n",
    "        assert index < len (self.data), 'The index value is out-of-bound'\n",
    "\n",
    "        # Index into the data to get the image and the corresponding label\n",
    "        img, label = self.data [index]\n",
    "\n",
    "        # Return the training set and the corresponding label\n",
    "        return img, label"
   ]
  },
  {
   "cell_type": "markdown",
   "metadata": {
    "id": "cu4Y5itFDM-s"
   },
   "source": [
    "### Load the data\n",
    "Define the data loaders for train and test with $batch\\_size = 128$."
   ]
  },
  {
   "cell_type": "code",
   "execution_count": 4,
   "metadata": {
    "colab": {
     "base_uri": "https://localhost:8080/",
     "height": 1000,
     "referenced_widgets": [
      "50fefe339ae945838e02f3be403f1386",
      "7cb398d7231146479fedce815496c13c",
      "8f3a1b3194414b5f9aa78ce47703e112",
      "9c097503a1a649898502483d77703148",
      "212495e8a56f42008bc0e7cb65dedb81",
      "45e1a24173b74ea0935a926c6683e624",
      "2e76545a480742eb80d7924be62a97cf",
      "baaf449e2cd84fab91e6219c02e79778"
     ]
    },
    "id": "DqTWLaM5GHgH",
    "outputId": "633a46e8-95eb-44df-e502-7a195a73b051"
   },
   "outputs": [
    {
     "name": "stdout",
     "output_type": "stream",
     "text": [
      "Downloading http://yann.lecun.com/exdb/mnist/train-images-idx3-ubyte.gz\n",
      "Downloading http://yann.lecun.com/exdb/mnist/train-images-idx3-ubyte.gz to ./data/train/MNIST/raw/train-images-idx3-ubyte.gz\n",
      "Failed to download (trying next):\n",
      "HTTP Error 503: Service Unavailable\n",
      "\n",
      "Downloading https://ossci-datasets.s3.amazonaws.com/mnist/train-images-idx3-ubyte.gz\n",
      "Downloading https://ossci-datasets.s3.amazonaws.com/mnist/train-images-idx3-ubyte.gz to ./data/train/MNIST/raw/train-images-idx3-ubyte.gz\n"
     ]
    },
    {
     "data": {
      "application/vnd.jupyter.widget-view+json": {
       "model_id": "50fefe339ae945838e02f3be403f1386",
       "version_major": 2,
       "version_minor": 0
      },
      "text/plain": [
       "HBox(children=(FloatProgress(value=0.0, max=9912422.0), HTML(value='')))"
      ]
     },
     "metadata": {
      "tags": []
     },
     "output_type": "display_data"
    },
    {
     "name": "stdout",
     "output_type": "stream",
     "text": [
      "\n",
      "Extracting ./data/train/MNIST/raw/train-images-idx3-ubyte.gz to ./data/train/MNIST/raw\n",
      "\n",
      "Downloading http://yann.lecun.com/exdb/mnist/train-labels-idx1-ubyte.gz\n",
      "Downloading http://yann.lecun.com/exdb/mnist/train-labels-idx1-ubyte.gz to ./data/train/MNIST/raw/train-labels-idx1-ubyte.gz\n"
     ]
    },
    {
     "data": {
      "application/vnd.jupyter.widget-view+json": {
       "model_id": "7cb398d7231146479fedce815496c13c",
       "version_major": 2,
       "version_minor": 0
      },
      "text/plain": [
       "HBox(children=(FloatProgress(value=0.0, max=28881.0), HTML(value='')))"
      ]
     },
     "metadata": {
      "tags": []
     },
     "output_type": "display_data"
    },
    {
     "name": "stdout",
     "output_type": "stream",
     "text": [
      "\n",
      "Extracting ./data/train/MNIST/raw/train-labels-idx1-ubyte.gz to ./data/train/MNIST/raw\n",
      "\n",
      "Downloading http://yann.lecun.com/exdb/mnist/t10k-images-idx3-ubyte.gz\n",
      "Downloading http://yann.lecun.com/exdb/mnist/t10k-images-idx3-ubyte.gz to ./data/train/MNIST/raw/t10k-images-idx3-ubyte.gz\n",
      "Failed to download (trying next):\n",
      "HTTP Error 503: Service Unavailable\n",
      "\n",
      "Downloading https://ossci-datasets.s3.amazonaws.com/mnist/t10k-images-idx3-ubyte.gz\n",
      "Downloading https://ossci-datasets.s3.amazonaws.com/mnist/t10k-images-idx3-ubyte.gz to ./data/train/MNIST/raw/t10k-images-idx3-ubyte.gz\n"
     ]
    },
    {
     "data": {
      "application/vnd.jupyter.widget-view+json": {
       "model_id": "8f3a1b3194414b5f9aa78ce47703e112",
       "version_major": 2,
       "version_minor": 0
      },
      "text/plain": [
       "HBox(children=(FloatProgress(value=0.0, max=1648877.0), HTML(value='')))"
      ]
     },
     "metadata": {
      "tags": []
     },
     "output_type": "display_data"
    },
    {
     "name": "stdout",
     "output_type": "stream",
     "text": [
      "\n",
      "Extracting ./data/train/MNIST/raw/t10k-images-idx3-ubyte.gz to ./data/train/MNIST/raw\n",
      "\n",
      "Downloading http://yann.lecun.com/exdb/mnist/t10k-labels-idx1-ubyte.gz\n",
      "Downloading http://yann.lecun.com/exdb/mnist/t10k-labels-idx1-ubyte.gz to ./data/train/MNIST/raw/t10k-labels-idx1-ubyte.gz\n",
      "Failed to download (trying next):\n",
      "HTTP Error 503: Service Unavailable\n",
      "\n",
      "Downloading https://ossci-datasets.s3.amazonaws.com/mnist/t10k-labels-idx1-ubyte.gz\n",
      "Downloading https://ossci-datasets.s3.amazonaws.com/mnist/t10k-labels-idx1-ubyte.gz to ./data/train/MNIST/raw/t10k-labels-idx1-ubyte.gz\n"
     ]
    },
    {
     "data": {
      "application/vnd.jupyter.widget-view+json": {
       "model_id": "9c097503a1a649898502483d77703148",
       "version_major": 2,
       "version_minor": 0
      },
      "text/plain": [
       "HBox(children=(FloatProgress(value=0.0, max=4542.0), HTML(value='')))"
      ]
     },
     "metadata": {
      "tags": []
     },
     "output_type": "display_data"
    },
    {
     "name": "stdout",
     "output_type": "stream",
     "text": [
      "\n",
      "Extracting ./data/train/MNIST/raw/t10k-labels-idx1-ubyte.gz to ./data/train/MNIST/raw\n",
      "\n",
      "Processing...\n",
      "Done!\n",
      "Downloading http://yann.lecun.com/exdb/mnist/train-images-idx3-ubyte.gz\n",
      "Downloading http://yann.lecun.com/exdb/mnist/train-images-idx3-ubyte.gz to ./data/val/MNIST/raw/train-images-idx3-ubyte.gz\n",
      "Failed to download (trying next):\n",
      "HTTP Error 503: Service Unavailable\n",
      "\n",
      "Downloading https://ossci-datasets.s3.amazonaws.com/mnist/train-images-idx3-ubyte.gz\n",
      "Downloading https://ossci-datasets.s3.amazonaws.com/mnist/train-images-idx3-ubyte.gz to ./data/val/MNIST/raw/train-images-idx3-ubyte.gz\n"
     ]
    },
    {
     "data": {
      "application/vnd.jupyter.widget-view+json": {
       "model_id": "212495e8a56f42008bc0e7cb65dedb81",
       "version_major": 2,
       "version_minor": 0
      },
      "text/plain": [
       "HBox(children=(FloatProgress(value=0.0, max=9912422.0), HTML(value='')))"
      ]
     },
     "metadata": {
      "tags": []
     },
     "output_type": "display_data"
    },
    {
     "name": "stdout",
     "output_type": "stream",
     "text": [
      "\n",
      "Extracting ./data/val/MNIST/raw/train-images-idx3-ubyte.gz to ./data/val/MNIST/raw\n",
      "\n",
      "Downloading http://yann.lecun.com/exdb/mnist/train-labels-idx1-ubyte.gz\n",
      "Downloading http://yann.lecun.com/exdb/mnist/train-labels-idx1-ubyte.gz to ./data/val/MNIST/raw/train-labels-idx1-ubyte.gz\n"
     ]
    },
    {
     "data": {
      "application/vnd.jupyter.widget-view+json": {
       "model_id": "45e1a24173b74ea0935a926c6683e624",
       "version_major": 2,
       "version_minor": 0
      },
      "text/plain": [
       "HBox(children=(FloatProgress(value=0.0, max=28881.0), HTML(value='')))"
      ]
     },
     "metadata": {
      "tags": []
     },
     "output_type": "display_data"
    },
    {
     "name": "stdout",
     "output_type": "stream",
     "text": [
      "\n",
      "Extracting ./data/val/MNIST/raw/train-labels-idx1-ubyte.gz to ./data/val/MNIST/raw\n",
      "\n",
      "Downloading http://yann.lecun.com/exdb/mnist/t10k-images-idx3-ubyte.gz\n",
      "Downloading http://yann.lecun.com/exdb/mnist/t10k-images-idx3-ubyte.gz to ./data/val/MNIST/raw/t10k-images-idx3-ubyte.gz\n",
      "Failed to download (trying next):\n",
      "HTTP Error 503: Service Unavailable\n",
      "\n",
      "Downloading https://ossci-datasets.s3.amazonaws.com/mnist/t10k-images-idx3-ubyte.gz\n",
      "Downloading https://ossci-datasets.s3.amazonaws.com/mnist/t10k-images-idx3-ubyte.gz to ./data/val/MNIST/raw/t10k-images-idx3-ubyte.gz\n"
     ]
    },
    {
     "data": {
      "application/vnd.jupyter.widget-view+json": {
       "model_id": "2e76545a480742eb80d7924be62a97cf",
       "version_major": 2,
       "version_minor": 0
      },
      "text/plain": [
       "HBox(children=(FloatProgress(value=0.0, max=1648877.0), HTML(value='')))"
      ]
     },
     "metadata": {
      "tags": []
     },
     "output_type": "display_data"
    },
    {
     "name": "stdout",
     "output_type": "stream",
     "text": [
      "\n",
      "Extracting ./data/val/MNIST/raw/t10k-images-idx3-ubyte.gz to ./data/val/MNIST/raw\n",
      "\n",
      "Downloading http://yann.lecun.com/exdb/mnist/t10k-labels-idx1-ubyte.gz\n",
      "Downloading http://yann.lecun.com/exdb/mnist/t10k-labels-idx1-ubyte.gz to ./data/val/MNIST/raw/t10k-labels-idx1-ubyte.gz\n"
     ]
    },
    {
     "data": {
      "application/vnd.jupyter.widget-view+json": {
       "model_id": "baaf449e2cd84fab91e6219c02e79778",
       "version_major": 2,
       "version_minor": 0
      },
      "text/plain": [
       "HBox(children=(FloatProgress(value=0.0, max=4542.0), HTML(value='')))"
      ]
     },
     "metadata": {
      "tags": []
     },
     "output_type": "display_data"
    },
    {
     "name": "stdout",
     "output_type": "stream",
     "text": [
      "\n",
      "Extracting ./data/val/MNIST/raw/t10k-labels-idx1-ubyte.gz to ./data/val/MNIST/raw\n",
      "\n",
      "Processing...\n",
      "Done!\n"
     ]
    }
   ],
   "source": [
    "# Seed the random generator used by PyTorch\n",
    "# so that the results are reproduceable\n",
    "torch.manual_seed(1)\n",
    "\n",
    "# Define the batch size to be used\n",
    "# i.e. the number of images to be used per batch\n",
    "batch_size = 128\n",
    "\n",
    "# Set it to use GPU if available\n",
    "use_cuda = torch.cuda.is_available()\n",
    "device = torch.device(\"cuda\" if use_cuda else \"cpu\")\n",
    "\n",
    "# Define a dataloader \n",
    "# Set the batch_size and shuffle to select\n",
    "# random images for every batch and epoch\n",
    "\n",
    "# Parameters to be used while loading the data\n",
    "kwargs = {'num_workers': 1, 'pin_memory': True} if use_cuda else {}\n",
    "\n",
    "# Additional transformations/augmentations are not added to this\n",
    "# version, will add that in the next steps\n",
    "train_loader = DataLoader (\n",
    "    MNISTDataset (\n",
    "        mode='training'),\n",
    "        #additional_transforms=[\n",
    "        #    RandomErosion ((2, 2)),\n",
    "        #    RandomDilation ((2, 2))]),\n",
    "    batch_size=batch_size,\n",
    "    shuffle=True,\n",
    "    **kwargs)\n",
    "\n",
    "test_loader = DataLoader (\n",
    "    MNISTDataset (mode='validation'),\n",
    "    batch_size=batch_size,\n",
    "    shuffle=True,\n",
    "    **kwargs)"
   ]
  },
  {
   "cell_type": "code",
   "execution_count": 5,
   "metadata": {
    "colab": {
     "base_uri": "https://localhost:8080/"
    },
    "id": "2bxfCVqMOTLI",
    "outputId": "dfbc26cc-3310-433f-e198-4a45a692972a"
   },
   "outputs": [
    {
     "name": "stdout",
     "output_type": "stream",
     "text": [
      "No. of training batches: 469\n",
      "No. of test batches: 79\n"
     ]
    }
   ],
   "source": [
    "print (f'No. of training batches: {len (train_loader)}\\nNo. of test batches: {len (test_loader)}')"
   ]
  },
  {
   "cell_type": "markdown",
   "metadata": {
    "id": "QfO98MkD12do"
   },
   "source": [
    "## Define the network architecture"
   ]
  },
  {
   "cell_type": "code",
   "execution_count": 40,
   "metadata": {
    "id": "h_Cx9q2QFgM7"
   },
   "outputs": [],
   "source": [
    "class MNISTNet(nn.Module):\n",
    "    ''' Define a class initializing the layers constituting the required \n",
    "    CNN Architecture and the code for forward pass\n",
    "    Note: The class extends to the nn.Module, which is a base class for \n",
    "    Neural Network modules in PyTorch https://pytorch.org/docs/stable/generated/torch.nn.Module.html\n",
    "    '''\n",
    "\n",
    "    def __init__(self, drop_perc=0.05):\n",
    "        ''' Define the layers that constitute the network and\n",
    "        initialize the base class '''\n",
    "\n",
    "        # Start by initializing the base class\n",
    "        super().__init__()\n",
    "\n",
    "        # Store the dropout percentage\n",
    "        self.drop_perc = drop_perc\n",
    "    \n",
    "        # Define the layers that make up the network\n",
    "        # i.e. the Network Architecture\n",
    "        # nn.Conv2d - Used to perform 2-dimensional convolution using the defined size of the kernel\n",
    "        # nn.MaxPool2d - 2d MaxPooling Layer of the defined size\n",
    "\n",
    "        # MNIST contains images of size 28x28\n",
    "        # Since the images are padded, the resultant images after convolution\n",
    "        # would have the same size\n",
    "        \n",
    "        # Input Block\n",
    "        self.input_block = nn.Sequential (\n",
    "            OrderedDict ([\n",
    "                ('input_block_conv1', nn.Conv2d (1, 16, 3, padding=False, bias=False)),\n",
    "                ('input_block_bn', nn.BatchNorm2d (16)),\n",
    "                ('input_block_relu', nn.ReLU ()),\n",
    "                ('input_block_dropout', nn.Dropout (self.drop_perc)), # Out: 26\n",
    "                ('input_block_one', nn.Conv2d (16, 8, 1, padding=False, bias=False)) # Out: 26\n",
    "            ])\n",
    "        )\n",
    "\n",
    "        # First Convolution Block\n",
    "        self.block1 = nn.Sequential (\n",
    "            OrderedDict ([\n",
    "                ('block1_conv1', nn.Conv2d (8, 8, 3, padding=False, bias=False)),\n",
    "                ('block1_bn1', nn.BatchNorm2d (8)),\n",
    "                ('block1_relu1', nn.ReLU ()),\n",
    "                ('block1_dropout1', nn.Dropout (self.drop_perc)), # Out: 24\n",
    "\n",
    "                ('block1_conv2', nn.Conv2d (8, 16, 3, padding=True, bias=False)),\n",
    "                ('block1_bn2', nn.BatchNorm2d (16)),\n",
    "                ('block1_relu2', nn.ReLU ()),\n",
    "                ('block1_dropout2', nn.Dropout (self.drop_perc)), # Out: 24    \n",
    "            ])    \n",
    "        )\n",
    "\n",
    "        # Pooling Layer\n",
    "        self.pool_block1 = nn.Sequential (\n",
    "            OrderedDict ([\n",
    "                ('pool_b1_mp', nn.MaxPool2d (2, 2)), # Out: 12\n",
    "                ('pool_b1_one', nn.Conv2d (16, 8, 1, padding=False, bias=False)) # Out: 12\n",
    "            ])\n",
    "        )\n",
    "\n",
    "        # Second Convolution Block\n",
    "        self.block2 = nn.Sequential (\n",
    "            OrderedDict ([\n",
    "                ('block2_conv1', nn.Conv2d (8, 8, 3, padding=False, bias=False)),\n",
    "                ('block2_bn1', nn.BatchNorm2d (8)),\n",
    "                ('block2_relu1', nn.ReLU ()),\n",
    "                ('block2_dropout1', nn.Dropout (self.drop_perc)), # Out: 10\n",
    "\n",
    "                ('block2_conv2', nn.Conv2d (8, 14, 3, padding=True, bias=False)),\n",
    "                ('block2_bn2', nn.BatchNorm2d (14)),\n",
    "                ('block2_relu2', nn.ReLU ()),\n",
    "                ('block2_dropout2', nn.Dropout (self.drop_perc)), # Out: 10     \n",
    "                ('block2_one', nn.Conv2d (14, 8, 1, padding=False, bias=False)) # Out: 10\n",
    "            ])    \n",
    "        )\n",
    "\n",
    "        # Last Convolution Block\n",
    "        self.block3 = nn.Sequential (\n",
    "            OrderedDict ([\n",
    "                ('block3_conv1', nn.Conv2d (8, 16, 3, padding=False, bias=False)),\n",
    "                ('block3_bn1', nn.BatchNorm2d (16)),\n",
    "                ('block3_relu1', nn.ReLU ()),\n",
    "                ('block3_dropout1', nn.Dropout (self.drop_perc)), # Out: 8\n",
    "\n",
    "                ('block3_conv2', nn.Conv2d (16, 18, 3, padding=False, bias=False)),\n",
    "                ('block3_bn2', nn.BatchNorm2d (18)),\n",
    "                ('block3_relu2', nn.ReLU ()),\n",
    "                ('block3_dropout2', nn.Dropout (self.drop_perc)), # Out: 6   \n",
    "            ])\n",
    "        )\n",
    "\n",
    "        # Gap & Final layer with the predictions\n",
    "        self.prediction = nn.Sequential (\n",
    "            OrderedDict ([\n",
    "                ('gap', nn.AvgPool2d (kernel_size=6)),\n",
    "                ('pred_layer', nn.Conv2d (18, 10, 1, padding=False, bias=False))\n",
    "            ])\n",
    "        )\n",
    "\n",
    "        \n",
    "    def forward(self, x):\n",
    "        ''' Define the forward pass\n",
    "        Each convolution layer is activated using ReLU to add non-linearity\n",
    "        '''\n",
    "        # Start with the input block to convert the grayscale (no. of channels = 1)\n",
    "        # to something higher\n",
    "        x = self.input_block (x)\n",
    "\n",
    "        # Convolution layer followed by ReLU Activation, followed by Batch Normalization\n",
    "        # followed by Dropout and then finally a pooling layer\n",
    "        # Block 1\n",
    "        x = self.block1 (x)\n",
    "\n",
    "        # Pooling layer\n",
    "        x = self.pool_block1 (x)\n",
    "\n",
    "        # Block 2\n",
    "        x = self.block2 (x)\n",
    "\n",
    "        # Block 3\n",
    "        x = self.block3 (x)\n",
    "\n",
    "        # The final layer shouldn't be passed through ReLU, but should be retained\n",
    "        # Using Global Average Pooling & and 1x1 to reduce the final output size\n",
    "        x = self.prediction (x)\n",
    "\n",
    "        # Reshape to fit the output and return\n",
    "        x = x.view (-1, 10)\n",
    "        return F.log_softmax (x)"
   ]
  },
  {
   "cell_type": "code",
   "execution_count": 41,
   "metadata": {
    "colab": {
     "base_uri": "https://localhost:8080/"
    },
    "id": "xdydjYTZFyi3",
    "outputId": "467fef92-43f0-4d8c-e6cb-efb9dd40e1fc"
   },
   "outputs": [
    {
     "name": "stdout",
     "output_type": "stream",
     "text": [
      "Requirement already satisfied: torchsummary in /usr/local/lib/python3.7/dist-packages (1.5.1)\n",
      "----------------------------------------------------------------\n",
      "        Layer (type)               Output Shape         Param #\n",
      "================================================================\n",
      "            Conv2d-1           [-1, 16, 26, 26]             144\n",
      "       BatchNorm2d-2           [-1, 16, 26, 26]              32\n",
      "              ReLU-3           [-1, 16, 26, 26]               0\n",
      "           Dropout-4           [-1, 16, 26, 26]               0\n",
      "            Conv2d-5            [-1, 8, 26, 26]             128\n",
      "            Conv2d-6            [-1, 8, 24, 24]             576\n",
      "       BatchNorm2d-7            [-1, 8, 24, 24]              16\n",
      "              ReLU-8            [-1, 8, 24, 24]               0\n",
      "           Dropout-9            [-1, 8, 24, 24]               0\n",
      "           Conv2d-10           [-1, 16, 24, 24]           1,152\n",
      "      BatchNorm2d-11           [-1, 16, 24, 24]              32\n",
      "             ReLU-12           [-1, 16, 24, 24]               0\n",
      "          Dropout-13           [-1, 16, 24, 24]               0\n",
      "        MaxPool2d-14           [-1, 16, 12, 12]               0\n",
      "           Conv2d-15            [-1, 8, 12, 12]             128\n",
      "           Conv2d-16            [-1, 8, 10, 10]             576\n",
      "      BatchNorm2d-17            [-1, 8, 10, 10]              16\n",
      "             ReLU-18            [-1, 8, 10, 10]               0\n",
      "          Dropout-19            [-1, 8, 10, 10]               0\n",
      "           Conv2d-20           [-1, 14, 10, 10]           1,008\n",
      "      BatchNorm2d-21           [-1, 14, 10, 10]              28\n",
      "             ReLU-22           [-1, 14, 10, 10]               0\n",
      "          Dropout-23           [-1, 14, 10, 10]               0\n",
      "           Conv2d-24            [-1, 8, 10, 10]             112\n",
      "           Conv2d-25             [-1, 16, 8, 8]           1,152\n",
      "      BatchNorm2d-26             [-1, 16, 8, 8]              32\n",
      "             ReLU-27             [-1, 16, 8, 8]               0\n",
      "          Dropout-28             [-1, 16, 8, 8]               0\n",
      "           Conv2d-29             [-1, 18, 6, 6]           2,592\n",
      "      BatchNorm2d-30             [-1, 18, 6, 6]              36\n",
      "             ReLU-31             [-1, 18, 6, 6]               0\n",
      "          Dropout-32             [-1, 18, 6, 6]               0\n",
      "        AvgPool2d-33             [-1, 18, 1, 1]               0\n",
      "           Conv2d-34             [-1, 10, 1, 1]             180\n",
      "================================================================\n",
      "Total params: 7,940\n",
      "Trainable params: 7,940\n",
      "Non-trainable params: 0\n",
      "----------------------------------------------------------------\n",
      "Input size (MB): 0.00\n",
      "Forward/backward pass size (MB): 0.94\n",
      "Params size (MB): 0.03\n",
      "Estimated Total Size (MB): 0.98\n",
      "----------------------------------------------------------------\n"
     ]
    }
   ],
   "source": [
    "# To display an overview/summary of the network\n",
    "# Is also useful to validate whether the structure of the network is \n",
    "# correct, i.e. the input channels and the output channels and its flow\n",
    "!pip install torchsummary\n",
    "from torchsummary import summary\n",
    "\n",
    "# Set it to use GPU if available\n",
    "use_cuda = torch.cuda.is_available()\n",
    "device = torch.device(\"cuda\" if use_cuda else \"cpu\")\n",
    "\n",
    "# Define the dropout_percentage\n",
    "dropout_percentage = 0.05\n",
    "\n",
    "# Create a model object\n",
    "model = MNISTNet (drop_perc=dropout_percentage).to (device)\n",
    "summary(model, input_size=(1, 28, 28))"
   ]
  },
  {
   "cell_type": "markdown",
   "metadata": {
    "id": "6o8uCexBDQw4"
   },
   "source": [
    "## Train and Validate"
   ]
  },
  {
   "cell_type": "code",
   "execution_count": 42,
   "metadata": {
    "id": "8fDefDhaFlwH"
   },
   "outputs": [],
   "source": [
    "# TQDM is just awesome... provides a progress status bar as the training \n",
    "# (or any operation) proceeds\n",
    "from tqdm import tqdm\n",
    "\n",
    "\n",
    "def train(model, device, train_loader, optimizer, epoch):\n",
    "    ''' Define the training steps '''\n",
    "\n",
    "    # Set the model to training mode\n",
    "    model.train()\n",
    "    \n",
    "    # Initialize the counters\n",
    "    correct = 0\n",
    "    processed = 0\n",
    "\n",
    "    # Initialize the progress bar\n",
    "    pbar = tqdm(train_loader)\n",
    "\n",
    "    # Start iterating through the training data\n",
    "    for batch_idx, (data, target) in enumerate(pbar):\n",
    "        # Start by converting the data to the required type \n",
    "        # (PyTorch Cuda Tensor while using GPU)\n",
    "        data, target = data.to(device), target.to(device)\n",
    "\n",
    "        # Discard/reset the gradients from the last iteration\n",
    "        optimizer.zero_grad()\n",
    "\n",
    "        # Get the predictions for the given data\n",
    "        output = model(data)\n",
    "\n",
    "        # Compute the negative loss likelihood of the predictions vs the actuals\n",
    "        # and propogate the loss backwards (back propogation)\n",
    "        loss = F.nll_loss(output, target)\n",
    "        loss.backward()\n",
    "\n",
    "        # Use the optimizer to take a step in the -ve of the gradient direction\n",
    "        # by the amount equal to the gradient magnitude times the learning rate \n",
    "        optimizer.step()\n",
    "        \n",
    "        # Get the index of the prediction\n",
    "        # i.e. the output is one-hot encoded, so get the argument with the max\n",
    "        # log probability\n",
    "        pred = output.argmax(dim=1, keepdim=True)  # get the index of the max log-probability\n",
    "\n",
    "        # Get a count of the correct preditcions\n",
    "        correct += pred.eq(target.view_as(pred)).sum().item()\n",
    "        \n",
    "        # Update the no of records processed\n",
    "        processed += len (data)\n",
    "\n",
    "        # Update the progress bar\n",
    "        pbar.set_description(\n",
    "            desc=f'Loss={loss.item():.4f}; '+\\\n",
    "                 f'Accuracy={correct*100/processed:.2f}; '+\\\n",
    "                 f'Learning Rate={optimizer.param_groups[0][\"lr\"]:.4f}')\n",
    "        \n",
    "        # Store the training accuracy & loss\n",
    "        training_accuracy.append (correct*100/processed)\n",
    "        training_losses.append (loss)\n",
    "\n",
    "\n",
    "def test(model, device, test_loader):\n",
    "    ''' Validate the trained model on a hold-out set '''\n",
    "\n",
    "    # Set the model to evalution mode\n",
    "    model.eval()\n",
    "    \n",
    "    # Initialize the losses\n",
    "    # and the no of correct predictions to 0\n",
    "    test_loss = 0\n",
    "    correct = 0\n",
    "\n",
    "    # Disable the gradient computations\n",
    "    # While evaulating only forward pass is used and the backward pass\n",
    "    # along with the gradient (likewise the gradient update) isn't required\n",
    "    with torch.no_grad():\n",
    "        # Iterate over the test/validation set\n",
    "        for data, target in test_loader:\n",
    "            # Converting the data to the required type \n",
    "            # (PyTorch Cuda Tensor while using GPU)\n",
    "            data, target = data.to(device), target.to(device)\n",
    "\n",
    "            # Get the predictions\n",
    "            output = model(data)\n",
    "\n",
    "            # Compute the loss against the target\n",
    "            test_loss += F.nll_loss(output, target, reduction='sum').item()  # sum up batch loss\n",
    "\n",
    "            # Get the index of the prediction\n",
    "            # i.e. the output is one-hot encoded, so get the argument with the max\n",
    "            # log probability\n",
    "            pred = output.argmax(dim=1, keepdim=True)  # get the index of the max log-probability\n",
    "\n",
    "            # Get a count of the correct preditcions\n",
    "            correct += pred.eq(target.view_as(pred)).sum().item()\n",
    "\n",
    "    # Compute the final loss on the test/validation data\n",
    "    test_loss /= len(test_loader.dataset)\n",
    "\n",
    "    # Display the results\n",
    "    print('\\nTest set: Loss={:.4f}; Accuracy={}/{} ({:.2f}%)\\n\\n'.format(\n",
    "        test_loss, correct, len(test_loader.dataset),\n",
    "        100. * correct / len(test_loader.dataset)))\n",
    "    \n",
    "    # Store the training accuracy & loss\n",
    "    test_accuracy.append (correct*100/len(test_loader.dataset))\n",
    "    test_losses.append (test_loss)"
   ]
  },
  {
   "cell_type": "code",
   "execution_count": 43,
   "metadata": {
    "colab": {
     "base_uri": "https://localhost:8080/"
    },
    "id": "MMWbLWO6FuHb",
    "outputId": "d4a72a21-ccf8-4889-dccb-8ff93aaa6ff4",
    "scrolled": true,
    "tags": []
   },
   "outputs": [
    {
     "name": "stderr",
     "output_type": "stream",
     "text": [
      "  0%|          | 0/469 [00:00<?, ?it/s]"
     ]
    },
    {
     "name": "stdout",
     "output_type": "stream",
     "text": [
      "Iteration 1\n"
     ]
    },
    {
     "name": "stderr",
     "output_type": "stream",
     "text": [
      "Loss=0.1710; Accuracy=79.09; Learning Rate=0.0100: 100%|██████████| 469/469 [00:12<00:00, 36.13it/s]\n",
      "  0%|          | 0/469 [00:00<?, ?it/s]"
     ]
    },
    {
     "name": "stdout",
     "output_type": "stream",
     "text": [
      "\n",
      "Test set: Loss=0.1362; Accuracy=9648/10000 (96.48%)\n",
      "\n",
      "\n",
      "Iteration 2\n"
     ]
    },
    {
     "name": "stderr",
     "output_type": "stream",
     "text": [
      "Loss=0.0646; Accuracy=97.10; Learning Rate=0.0100: 100%|██████████| 469/469 [00:13<00:00, 35.87it/s]\n",
      "  0%|          | 0/469 [00:00<?, ?it/s]"
     ]
    },
    {
     "name": "stdout",
     "output_type": "stream",
     "text": [
      "\n",
      "Test set: Loss=0.0772; Accuracy=9802/10000 (98.02%)\n",
      "\n",
      "\n",
      "Iteration 3\n"
     ]
    },
    {
     "name": "stderr",
     "output_type": "stream",
     "text": [
      "Loss=0.0618; Accuracy=97.91; Learning Rate=0.0100: 100%|██████████| 469/469 [00:12<00:00, 36.34it/s]\n",
      "  0%|          | 0/469 [00:00<?, ?it/s]"
     ]
    },
    {
     "name": "stdout",
     "output_type": "stream",
     "text": [
      "\n",
      "Test set: Loss=0.0560; Accuracy=9832/10000 (98.32%)\n",
      "\n",
      "\n",
      "Iteration 4\n"
     ]
    },
    {
     "name": "stderr",
     "output_type": "stream",
     "text": [
      "Loss=0.0206; Accuracy=98.30; Learning Rate=0.0100: 100%|██████████| 469/469 [00:13<00:00, 36.04it/s]\n",
      "  0%|          | 0/469 [00:00<?, ?it/s]"
     ]
    },
    {
     "name": "stdout",
     "output_type": "stream",
     "text": [
      "\n",
      "Test set: Loss=0.0551; Accuracy=9848/10000 (98.48%)\n",
      "\n",
      "\n",
      "Iteration 5\n"
     ]
    },
    {
     "name": "stderr",
     "output_type": "stream",
     "text": [
      "Loss=0.0459; Accuracy=98.44; Learning Rate=0.0100: 100%|██████████| 469/469 [00:12<00:00, 36.16it/s]\n",
      "  0%|          | 0/469 [00:00<?, ?it/s]"
     ]
    },
    {
     "name": "stdout",
     "output_type": "stream",
     "text": [
      "\n",
      "Test set: Loss=0.0394; Accuracy=9892/10000 (98.92%)\n",
      "\n",
      "\n",
      "Iteration 6\n"
     ]
    },
    {
     "name": "stderr",
     "output_type": "stream",
     "text": [
      "Loss=0.0179; Accuracy=98.57; Learning Rate=0.0100: 100%|██████████| 469/469 [00:13<00:00, 35.83it/s]\n",
      "  0%|          | 0/469 [00:00<?, ?it/s]"
     ]
    },
    {
     "name": "stdout",
     "output_type": "stream",
     "text": [
      "\n",
      "Test set: Loss=0.0385; Accuracy=9883/10000 (98.83%)\n",
      "\n",
      "\n",
      "Iteration 7\n"
     ]
    },
    {
     "name": "stderr",
     "output_type": "stream",
     "text": [
      "Loss=0.0387; Accuracy=98.67; Learning Rate=0.0100: 100%|██████████| 469/469 [00:13<00:00, 35.94it/s]\n",
      "  0%|          | 0/469 [00:00<?, ?it/s]"
     ]
    },
    {
     "name": "stdout",
     "output_type": "stream",
     "text": [
      "\n",
      "Test set: Loss=0.0325; Accuracy=9902/10000 (99.02%)\n",
      "\n",
      "\n",
      "Iteration 8\n"
     ]
    },
    {
     "name": "stderr",
     "output_type": "stream",
     "text": [
      "Loss=0.0100; Accuracy=98.70; Learning Rate=0.0100: 100%|██████████| 469/469 [00:13<00:00, 35.66it/s]\n",
      "  0%|          | 0/469 [00:00<?, ?it/s]"
     ]
    },
    {
     "name": "stdout",
     "output_type": "stream",
     "text": [
      "\n",
      "Test set: Loss=0.0390; Accuracy=9885/10000 (98.85%)\n",
      "\n",
      "\n",
      "Iteration 9\n"
     ]
    },
    {
     "name": "stderr",
     "output_type": "stream",
     "text": [
      "Loss=0.0178; Accuracy=98.82; Learning Rate=0.0100: 100%|██████████| 469/469 [00:13<00:00, 36.06it/s]\n",
      "  0%|          | 0/469 [00:00<?, ?it/s]"
     ]
    },
    {
     "name": "stdout",
     "output_type": "stream",
     "text": [
      "\n",
      "Test set: Loss=0.0315; Accuracy=9908/10000 (99.08%)\n",
      "\n",
      "\n",
      "Iteration 10\n"
     ]
    },
    {
     "name": "stderr",
     "output_type": "stream",
     "text": [
      "Loss=0.0446; Accuracy=98.81; Learning Rate=0.0100: 100%|██████████| 469/469 [00:13<00:00, 36.01it/s]\n",
      "  0%|          | 0/469 [00:00<?, ?it/s]"
     ]
    },
    {
     "name": "stdout",
     "output_type": "stream",
     "text": [
      "\n",
      "Test set: Loss=0.0275; Accuracy=9914/10000 (99.14%)\n",
      "\n",
      "\n",
      "Iteration 11\n"
     ]
    },
    {
     "name": "stderr",
     "output_type": "stream",
     "text": [
      "Loss=0.0226; Accuracy=98.93; Learning Rate=0.0100: 100%|██████████| 469/469 [00:13<00:00, 34.84it/s]\n",
      "  0%|          | 0/469 [00:00<?, ?it/s]"
     ]
    },
    {
     "name": "stdout",
     "output_type": "stream",
     "text": [
      "\n",
      "Test set: Loss=0.0259; Accuracy=9918/10000 (99.18%)\n",
      "\n",
      "\n",
      "Iteration 12\n"
     ]
    },
    {
     "name": "stderr",
     "output_type": "stream",
     "text": [
      "Loss=0.0230; Accuracy=99.01; Learning Rate=0.0100: 100%|██████████| 469/469 [00:13<00:00, 35.87it/s]\n",
      "  0%|          | 0/469 [00:00<?, ?it/s]"
     ]
    },
    {
     "name": "stdout",
     "output_type": "stream",
     "text": [
      "\n",
      "Test set: Loss=0.0245; Accuracy=9930/10000 (99.30%)\n",
      "\n",
      "\n",
      "Iteration 13\n"
     ]
    },
    {
     "name": "stderr",
     "output_type": "stream",
     "text": [
      "Loss=0.0481; Accuracy=99.00; Learning Rate=0.0100: 100%|██████████| 469/469 [00:13<00:00, 35.79it/s]\n",
      "  0%|          | 0/469 [00:00<?, ?it/s]"
     ]
    },
    {
     "name": "stdout",
     "output_type": "stream",
     "text": [
      "\n",
      "Test set: Loss=0.0258; Accuracy=9913/10000 (99.13%)\n",
      "\n",
      "\n",
      "Iteration 14\n"
     ]
    },
    {
     "name": "stderr",
     "output_type": "stream",
     "text": [
      "Loss=0.0146; Accuracy=99.02; Learning Rate=0.0100: 100%|██████████| 469/469 [00:12<00:00, 36.53it/s]\n"
     ]
    },
    {
     "name": "stdout",
     "output_type": "stream",
     "text": [
      "\n",
      "Test set: Loss=0.0238; Accuracy=9923/10000 (99.23%)\n",
      "\n",
      "\n",
      "Best Model had a Training Accuracy of 100.00 & a Test Accuracy of 99.30\n"
     ]
    }
   ],
   "source": [
    "# Initialize the model instance\n",
    "model = MNISTNet().to(device)\n",
    "\n",
    "# Define an optimizer to use to perform gradient descent\n",
    "# Various optimizers are suitable for different usecase, which help\n",
    "# reach the global optimal (i.e. a model with least errors/loss) quickly\n",
    "# In this case, Stochastic Gradient Descent (SGD) is used with momentum of 0.9\n",
    "# and the learning rate (alpha) set to 0.01 \n",
    "optimizer = optim.SGD (model.parameters(), lr=0.01, momentum=0.9)\n",
    "\n",
    "# Train the model for n epochs\n",
    "epochs = 14\n",
    "\n",
    "# Store the training accuracy and losses\n",
    "training_accuracy = []\n",
    "training_losses = []\n",
    "\n",
    "# Store the test accuracy and losses\n",
    "test_accuracy = []\n",
    "test_losses = []\n",
    "\n",
    "for epoch in range(0, epochs):\n",
    "    print (f'Iteration {epoch+1}')\n",
    "    # Initiate training phase\n",
    "    train(model, device, train_loader, optimizer, epoch)\n",
    "\n",
    "    # Validate the results on the test/validation set\n",
    "    test(model, device, test_loader)\n",
    "\n",
    "print (f'Best Model had a Training Accuracy of {np.max (training_accuracy):.2f}', \n",
    "        f'& a Test Accuracy of {np.max (test_accuracy):.2f}')"
   ]
  },
  {
   "cell_type": "markdown",
   "metadata": {
    "id": "isWcfTYZczhM"
   },
   "source": [
    "### Plot the accuracy and loss"
   ]
  },
  {
   "cell_type": "code",
   "execution_count": 44,
   "metadata": {
    "colab": {
     "base_uri": "https://localhost:8080/",
     "height": 621
    },
    "id": "orpsJmhMT5-Q",
    "outputId": "4a22dd5e-dfaf-40c9-9824-bbd26fdfbb97"
   },
   "outputs": [
    {
     "data": {
      "image/png": "[encoded data removed]",
      "text/plain": [
       "<Figure size 1080x720 with 4 Axes>"
      ]
     },
     "metadata": {
      "tags": []
     },
     "output_type": "display_data"
    }
   ],
   "source": [
    "plt.style.use ('dark_background') # Dark mode rocks!!!\n",
    "\n",
    "# Define the size of the figure\n",
    "plt.figure (figsize=(15, 10))\n",
    "\n",
    "# Plot the Training Accuracy\n",
    "plt.subplot (221)\n",
    "plt.plot (training_accuracy)\n",
    "plt.title ('Training Accuracy')\n",
    "plt.ylabel ('Accuracy'); plt.xlabel ('Epochs');\n",
    "\n",
    "# Losses during training\n",
    "plt.subplot (222)\n",
    "plt.plot (training_losses)\n",
    "plt.title ('Training Loss')\n",
    "plt.ylabel ('Loss'); plt.xlabel ('Epochs');\n",
    "\n",
    "# Test Accuracy at each epoch\n",
    "plt.subplot (223)\n",
    "plt.plot (test_accuracy)\n",
    "plt.title ('Test Accuracy')\n",
    "plt.ylabel ('Accuracy'); plt.xlabel ('Epochs');\n",
    "\n",
    "# Test Losses at each epoch\n",
    "plt.subplot (224)\n",
    "plt.plot (test_losses)\n",
    "plt.title ('Test Loss')\n",
    "plt.ylabel ('Loss'); plt.xlabel ('Epochs');"
   ]
  },
  {
   "cell_type": "markdown",
   "metadata": {
    "id": "gQZnL3x0rxWo"
   },
   "source": [
    "- Training and Test accuracies are more or less similar\n",
    "- The traning accuracy is at best at 99.0% (for the text accuracy of 99.21%)\n",
    "    - Tweaking the learning rate might speed up learning"
   ]
  },
  {
   "cell_type": "code",
   "execution_count": 10,
   "metadata": {
    "id": "oO2tNnW7lLg8"
   },
   "outputs": [],
   "source": []
  }
 ],
 "metadata": {
  "accelerator": "GPU",
  "colab": {
   "collapsed_sections": [],
   "name": "Assignment 5 - Stage 2. Modify the architecture to meet the architectural requiremenets.ipynb",
   "provenance": [],
   "toc_visible": true
  },
  "kernelspec": {
   "display_name": "Python 3",
   "language": "python",
   "name": "python3"
  },
  "language_info": {
   "codemirror_mode": {
    "name": "ipython",
    "version": 3
   },
   "file_extension": ".py",
   "mimetype": "text/x-python",
   "name": "python",
   "nbconvert_exporter": "python",
   "pygments_lexer": "ipython3",
   "version": "3.7.10"
  },
  "widgets": {
   "application/vnd.jupyter.widget-state+json": {
    "212495e8a56f42008bc0e7cb65dedb81": {
     "model_module": "@jupyter-widgets/controls",
     "model_name": "HBoxModel",
     "state": {
      "_dom_classes": [],
      "_model_module": "@jupyter-widgets/controls",
      "_model_module_version": "1.5.0",
      "_model_name": "HBoxModel",
      "_view_count": null,
      "_view_module": "@jupyter-widgets/controls",
      "_view_module_version": "1.5.0",
      "_view_name": "HBoxView",
      "box_style": "",
      "children": [
       "IPY_MODEL_e3333c5aac0e495fa742377fa64aa25e",
       "IPY_MODEL_90c688d4ee10468786316513f176e6f7"
      ],
      "layout": "IPY_MODEL_bf4e07820b5a434d862acf4217611968"
     }
    },
    "2e76545a480742eb80d7924be62a97cf": {
     "model_module": "@jupyter-widgets/controls",
     "model_name": "HBoxModel",
     "state": {
      "_dom_classes": [],
      "_model_module": "@jupyter-widgets/controls",
      "_model_module_version": "1.5.0",
      "_model_name": "HBoxModel",
      "_view_count": null,
      "_view_module": "@jupyter-widgets/controls",
      "_view_module_version": "1.5.0",
      "_view_name": "HBoxView",
      "box_style": "",
      "children": [
       "IPY_MODEL_80aefccd063943909f72f98f7d607b74",
       "IPY_MODEL_723cb4033f32421ca30ef71bb894b4ab"
      ],
      "layout": "IPY_MODEL_1cc6f1881ac340c6b0ca0782c81cfa44"
     }
    },
    "45e1a24173b74ea0935a926c6683e624": {
     "model_module": "@jupyter-widgets/controls",
     "model_name": "HBoxModel",
     "state": {
      "_dom_classes": [],
      "_model_module": "@jupyter-widgets/controls",
      "_model_module_version": "1.5.0",
      "_model_name": "HBoxModel",
      "_view_count": null,
      "_view_module": "@jupyter-widgets/controls",
      "_view_module_version": "1.5.0",
      "_view_name": "HBoxView",
      "box_style": "",
      "children": [
       "IPY_MODEL_700976d233e9429e9efc9c9446c218fe",
       "IPY_MODEL_b1333bc403a74910b7318051733af652"
      ],
      "layout": "IPY_MODEL_86546aca518f4a4b9f3328b24e02f87c"
     }
    },
    "50fefe339ae945838e02f3be403f1386": {
     "model_module": "@jupyter-widgets/controls",
     "model_name": "HBoxModel",
     "state": {
      "_dom_classes": [],
      "_model_module": "@jupyter-widgets/controls",
      "_model_module_version": "1.5.0",
      "_model_name": "HBoxModel",
      "_view_count": null,
      "_view_module": "@jupyter-widgets/controls",
      "_view_module_version": "1.5.0",
      "_view_name": "HBoxView",
      "box_style": "",
      "children": [
       "IPY_MODEL_974dc2e030ad4b5fb8ee890d36309324",
       "IPY_MODEL_bf74d9a8c9534e3ba794403c25ee76bf"
      ],
      "layout": "IPY_MODEL_7ebcd1847ac04ebc96a400271af98827"
     }
    },
    "7cb398d7231146479fedce815496c13c": {
     "model_module": "@jupyter-widgets/controls",
     "model_name": "HBoxModel",
     "state": {
      "_dom_classes": [],
      "_model_module": "@jupyter-widgets/controls",
      "_model_module_version": "1.5.0",
      "_model_name": "HBoxModel",
      "_view_count": null,
      "_view_module": "@jupyter-widgets/controls",
      "_view_module_version": "1.5.0",
      "_view_name": "HBoxView",
      "box_style": "",
      "children": [
       "IPY_MODEL_c1bdc97021c94ca7a69ef45cfe54451d",
       "IPY_MODEL_f47aea38b9214ae7a3df7151397ef9be"
      ],
      "layout": "IPY_MODEL_6d3b591cee4145338c0e5efdca2c6af4"
     }
    },
    "8f3a1b3194414b5f9aa78ce47703e112": {
     "model_module": "@jupyter-widgets/controls",
     "model_name": "HBoxModel",
     "state": {
      "_dom_classes": [],
      "_model_module": "@jupyter-widgets/controls",
      "_model_module_version": "1.5.0",
      "_model_name": "HBoxModel",
      "_view_count": null,
      "_view_module": "@jupyter-widgets/controls",
      "_view_module_version": "1.5.0",
      "_view_name": "HBoxView",
      "box_style": "",
      "children": [
       "IPY_MODEL_dbdb17a401ea4a1fb2ea64aad57ed5a4",
       "IPY_MODEL_0ece1ca2225a408499d5aee336de7877"
      ],
      "layout": "IPY_MODEL_2b494a50d1564eb19b7f9b623bd0c769"
     }
    },
    "9c097503a1a649898502483d77703148": {
     "model_module": "@jupyter-widgets/controls",
     "model_name": "HBoxModel",
     "state": {
      "_dom_classes": [],
      "_model_module": "@jupyter-widgets/controls",
      "_model_module_version": "1.5.0",
      "_model_name": "HBoxModel",
      "_view_count": null,
      "_view_module": "@jupyter-widgets/controls",
      "_view_module_version": "1.5.0",
      "_view_name": "HBoxView",
      "box_style": "",
      "children": [
       "IPY_MODEL_f2dc31d8741d45709f4238b6b2e5af9b",
       "IPY_MODEL_2f37d580b845485a8cd761494ce329e3"
      ],
      "layout": "IPY_MODEL_53863e2e45354fa499bef2f37d834d7a"
     }
    },
    "baaf449e2cd84fab91e6219c02e79778": {
     "model_module": "@jupyter-widgets/controls",
     "model_name": "HBoxModel",
     "state": {
      "_dom_classes": [],
      "_model_module": "@jupyter-widgets/controls",
      "_model_module_version": "1.5.0",
      "_model_name": "HBoxModel",
      "_view_count": null,
      "_view_module": "@jupyter-widgets/controls",
      "_view_module_version": "1.5.0",
      "_view_name": "HBoxView",
      "box_style": "",
      "children": [
       "IPY_MODEL_8a17acc9643e4f7f9aa9c4064bff9c97",
       "IPY_MODEL_7582558b7f584bd89edf40941cd3616e"
      ],
      "layout": "IPY_MODEL_e835ce52dbfa45148e3432b037cb2af2"
     }
    }
   }
  }
 },
 "nbformat": 4,
 "nbformat_minor": 4
}
