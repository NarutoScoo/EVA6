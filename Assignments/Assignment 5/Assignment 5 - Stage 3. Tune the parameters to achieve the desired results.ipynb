{
 "cells": [
  {
   "cell_type": "markdown",
   "metadata": {
    "id": "MrPrD3WillJc"
   },
   "source": [
    "## Objective\n",
    "Build up to an architecture that can predict digits with 99.4% or higher accuracy (on test set) in 3 stages.\n",
    "\n",
    "This notebook refers to the **3nd of the 3 stages**, where the refined model architecture is used to meet the specification of the task (model parameters, Dropout, BN). Further Learning Rate Schedulers were used to start the learning faster (with higher initial LR) to quickly find the region of global minima and then reduce the Learning Rate, so that it converges to the minima around that region, thus avoiding falling into the trap of local minima. Augmentation methods such as Rotation ($\\pm6.9^\\circ$) was also used to help the model generalize better\n",
    "\n",
    "<br>\n",
    "\n",
    "---\n",
    "\n",
    "**Target**\n",
    "- Use the refined model (without any changes)\n",
    "- Add Augmentation methods so it generalizes better\n",
    "    - Rotation of $\\pm6.9^\\circ$ was used\n",
    "- Use LR Scheduler to regulate the learning rate during training\n",
    "- Get the model consistantly over 99.4% accuracy on test set\n",
    "\n",
    "**Results**\n",
    "- Best Training Accuracy: _99.17_ (Iteration 14)\n",
    "- Best Test Accuracy: _99.48_ (Iteration 14)\n",
    "    - Consistantly over 99.4 from Iteration 10\n",
    "- Model Parameters: _7,940_\n",
    "\n",
    "**Analysis**\n",
    "- Learning Rate Schedulers were used to start the learning faster (with higher initial LR) to quickly find the region of global minima and then reduce the Learning Rate, so that it converges to the minima around that region, thus avoiding falling into the trap of local minima.\n",
    "- Training accuracy is still not as high as possible; there's still room for improving the results further\n",
    "---"
   ]
  },
  {
   "cell_type": "markdown",
   "metadata": {
    "id": "l7jzq756llJc"
   },
   "source": [
    "## Imports"
   ]
  },
  {
   "cell_type": "code",
   "execution_count": 1,
   "metadata": {
    "id": "NQKwFzzRhNfA"
   },
   "outputs": [],
   "source": [
    "# PyTorch, everything from PyTorch can be referred with this\n",
    "import torch\n",
    "\n",
    "# Import the neural network model seperately\n",
    "import torch.nn as nn\n",
    "\n",
    "# Contains functions that are required such as ReLu (Activation function)\n",
    "import torch.nn.functional as F \n",
    "\n",
    "# Optimizers required to converge using Backpropogation\n",
    "import torch.optim as optim\n",
    "\n",
    "# Datasets are used to download and load the data\n",
    "# used to train and validate\n",
    "# Transforms can be used to define modifications and/or augmentations methods\n",
    "# to be applied while passing the data\n",
    "# Normalization can also be one of the compositions of transforms\n",
    "import torchvision\n",
    "from torchvision import datasets, transforms\n",
    "\n",
    "# Dataset abstract class using which custom dataset classes can be created\n",
    "# DataLoader to create batches and to shuffle the data\n",
    "from torch.utils.data import Dataset, DataLoader\n",
    "\n",
    "# Visualize the images\n",
    "import matplotlib.pyplot as plt\n",
    "from mpl_toolkits.axes_grid1 import ImageGrid # ImageGrid to form a grid of images\n",
    "\n",
    "# Utils\n",
    "import cv2\n",
    "import numpy as np\n",
    "import seaborn as sns\n",
    "from collections import OrderedDict"
   ]
  },
  {
   "cell_type": "code",
   "execution_count": 2,
   "metadata": {
    "id": "j4YXlPG3NBcI"
   },
   "outputs": [],
   "source": [
    "# Disable warnings\n",
    "import warnings\n",
    "warnings.simplefilter(action='ignore', category=FutureWarning)\n",
    "warnings.simplefilter(action='ignore', category=UserWarning)"
   ]
  },
  {
   "cell_type": "markdown",
   "metadata": {
    "id": "CO5hw_HA1AAU"
   },
   "source": [
    "## Create a custom dataset class\n",
    "Define a class a that loads and takes the images from MNIST to use as input along with the actual label of the handwritten digit which constitutes the required output"
   ]
  },
  {
   "cell_type": "code",
   "execution_count": 3,
   "metadata": {
    "id": "Xiu5mj_20pck"
   },
   "outputs": [],
   "source": [
    "class MNISTDataset (Dataset):\n",
    "    ''' Extending the Dataset class to provide customized inputs and modified \n",
    "    outputs for training '''\n",
    "\n",
    "    def __init__(self, mode='training', additional_transforms=None):\n",
    "        ''' Get/Download the data (MNIST) and setup up other configurations\n",
    "        required to get the data\n",
    "        \n",
    "        Parameters:\n",
    "            mode - Indicates either 'training' or 'validation'\n",
    "            transforms - A list of additional transformations to be added while training\n",
    "                            By default Normalized the dataset\n",
    "        '''\n",
    "\n",
    "        # Start by initializing the base class\n",
    "        super().__init__()\n",
    "\n",
    "        # Save the mode\n",
    "        # Check if the mode is valid\n",
    "        assert mode in ['training', 'validation'], \\\n",
    "            '\"mode\" should be either \"training\" or \"validation\"'\n",
    "        self.mode = mode\n",
    "\n",
    "        # Seed the random generator to results that are reproduceable\n",
    "        # Remove during production\n",
    "        torch.manual_seed (1)\n",
    "\n",
    "        # Define the transformations\n",
    "        #   First convert into a tensor and then normalization\n",
    "        #   Values for normalization where got from \n",
    "        #   https://discuss.pytorch.org/t/normalization-in-the-mnist-example/457\n",
    "\n",
    "        # Define a list of transforms to chain together            \n",
    "        # Both the train and validation transforms are the same, but might decide \n",
    "        # to update with some data augmentation methods for train later\n",
    "        # so keeping it seperate\n",
    "        self.transforms = [\n",
    "            transforms.ToTensor (), \n",
    "            transforms.Normalize((0.1307,), (0.3081,))]\n",
    "\n",
    "        # Get MNIST data\n",
    "        if self.mode == 'training':        \n",
    "\n",
    "            # Chain the transforms\n",
    "            if additional_transforms:\n",
    "                self.transforms = self.transforms+additional_transforms \n",
    "        \n",
    "            # Download the training set and store it at the root directory\n",
    "            self.data = datasets.MNIST (\n",
    "                root='./data/train/',\n",
    "                train=True,\n",
    "                download=True,\n",
    "                transform=transforms.Compose (self.transforms))\n",
    "            \n",
    "        elif self.mode == 'validation':\n",
    "\n",
    "            # Get the validation set\n",
    "            self.data = datasets.MNIST (\n",
    "                root='./data/val/',\n",
    "                train=False,\n",
    "                download=True,\n",
    "                transform=transforms.Compose (self.transforms))\n",
    "        \n",
    "\n",
    "    def __len__(self):\n",
    "        ''' Get the total size of the dataset '''\n",
    "        return len (self.data)\n",
    "\n",
    "\n",
    "    def __getitem__(self, index):\n",
    "        ''' Used to get the index-th item from the dataset \n",
    "        \n",
    "        Parameters:\n",
    "            index - Element value to retrieve from the data\n",
    "        '''\n",
    "\n",
    "        # Check if the within the bounds of the data\n",
    "        assert index < len (self.data), 'The index value is out-of-bound'\n",
    "\n",
    "        # Index into the data to get the image and the corresponding label\n",
    "        img, label = self.data [index]\n",
    "\n",
    "        # Return the training set and the corresponding label\n",
    "        return img, label"
   ]
  },
  {
   "cell_type": "markdown",
   "metadata": {
    "id": "cu4Y5itFDM-s"
   },
   "source": [
    "### Load the data\n",
    "Define the data loaders for train and test with $batch\\_size = 128$."
   ]
  },
  {
   "cell_type": "code",
   "execution_count": 7,
   "metadata": {
    "colab": {
     "base_uri": "https://localhost:8080/",
     "height": 330,
     "referenced_widgets": [
      "af2c152db16e4d2c8f161d9cb007cfef",
      "f5a959ac88114174ad3e72e9a5078ef4"
     ]
    },
    "id": "DqTWLaM5GHgH",
    "outputId": "efd7b264-103c-4b90-f26d-6a76570fa339"
   },
   "outputs": [
    {
     "name": "stdout",
     "output_type": "stream",
     "text": [
      "Downloading http://yann.lecun.com/exdb/mnist/train-images-idx3-ubyte.gz\n",
      "Using downloaded and verified file: ./data/val/MNIST/raw/train-images-idx3-ubyte.gz\n",
      "Extracting ./data/val/MNIST/raw/train-images-idx3-ubyte.gz to ./data/val/MNIST/raw\n",
      "\n",
      "Downloading http://yann.lecun.com/exdb/mnist/train-labels-idx1-ubyte.gz\n",
      "Using downloaded and verified file: ./data/val/MNIST/raw/train-labels-idx1-ubyte.gz\n",
      "Extracting ./data/val/MNIST/raw/train-labels-idx1-ubyte.gz to ./data/val/MNIST/raw\n",
      "\n",
      "Downloading http://yann.lecun.com/exdb/mnist/t10k-images-idx3-ubyte.gz\n",
      "Downloading http://yann.lecun.com/exdb/mnist/t10k-images-idx3-ubyte.gz to ./data/val/MNIST/raw/t10k-images-idx3-ubyte.gz\n"
     ]
    },
    {
     "data": {
      "application/vnd.jupyter.widget-view+json": {
       "model_id": "af2c152db16e4d2c8f161d9cb007cfef",
       "version_major": 2,
       "version_minor": 0
      },
      "text/plain": [
       "HBox(children=(FloatProgress(value=0.0, max=1648877.0), HTML(value='')))"
      ]
     },
     "metadata": {
      "tags": []
     },
     "output_type": "display_data"
    },
    {
     "name": "stdout",
     "output_type": "stream",
     "text": [
      "\n",
      "Extracting ./data/val/MNIST/raw/t10k-images-idx3-ubyte.gz to ./data/val/MNIST/raw\n",
      "\n",
      "Downloading http://yann.lecun.com/exdb/mnist/t10k-labels-idx1-ubyte.gz\n",
      "Downloading http://yann.lecun.com/exdb/mnist/t10k-labels-idx1-ubyte.gz to ./data/val/MNIST/raw/t10k-labels-idx1-ubyte.gz\n"
     ]
    },
    {
     "data": {
      "application/vnd.jupyter.widget-view+json": {
       "model_id": "f5a959ac88114174ad3e72e9a5078ef4",
       "version_major": 2,
       "version_minor": 0
      },
      "text/plain": [
       "HBox(children=(FloatProgress(value=0.0, max=4542.0), HTML(value='')))"
      ]
     },
     "metadata": {
      "tags": []
     },
     "output_type": "display_data"
    },
    {
     "name": "stdout",
     "output_type": "stream",
     "text": [
      "\n",
      "Extracting ./data/val/MNIST/raw/t10k-labels-idx1-ubyte.gz to ./data/val/MNIST/raw\n",
      "\n"
     ]
    }
   ],
   "source": [
    "# Seed the random generator used by PyTorch\n",
    "# so that the results are reproduceable\n",
    "torch.manual_seed(1)\n",
    "\n",
    "# Define the batch size to be used\n",
    "# i.e. the number of images to be used per batch\n",
    "batch_size = 128\n",
    "\n",
    "# Set it to use GPU if available\n",
    "use_cuda = torch.cuda.is_available()\n",
    "device = torch.device(\"cuda\" if use_cuda else \"cpu\")\n",
    "\n",
    "# Define a dataloader \n",
    "# Set the batch_size and shuffle to select\n",
    "# random images for every batch and epoch\n",
    "\n",
    "# Parameters to be used while loading the data\n",
    "kwargs = {'num_workers': 1, 'pin_memory': True} if use_cuda else {}\n",
    "\n",
    "# Additional transformations/augmentations are not added to this\n",
    "# version, will add that in the next steps\n",
    "train_loader = DataLoader (\n",
    "    MNISTDataset (\n",
    "        mode='training',\n",
    "        additional_transforms=[\n",
    "            transforms.RandomRotation (6.9),\n",
    "            #RandomErosion ((2, 2)),\n",
    "            #RandomDilation ((2, 2))\n",
    "        ]),\n",
    "    batch_size=batch_size,\n",
    "    shuffle=True,\n",
    "    **kwargs)\n",
    "\n",
    "test_loader = DataLoader (\n",
    "    MNISTDataset (mode='validation'),\n",
    "    batch_size=batch_size,\n",
    "    shuffle=True,\n",
    "    **kwargs)"
   ]
  },
  {
   "cell_type": "code",
   "execution_count": 8,
   "metadata": {
    "colab": {
     "base_uri": "https://localhost:8080/"
    },
    "id": "2bxfCVqMOTLI",
    "outputId": "fbb540fb-143d-4487-86cd-d740ce2821b1"
   },
   "outputs": [
    {
     "name": "stdout",
     "output_type": "stream",
     "text": [
      "No. of training batches: 469\n",
      "No. of test batches: 79\n"
     ]
    }
   ],
   "source": [
    "print (f'No. of training batches: {len (train_loader)}\\nNo. of test batches: {len (test_loader)}')"
   ]
  },
  {
   "cell_type": "markdown",
   "metadata": {
    "id": "QfO98MkD12do"
   },
   "source": [
    "## Define the network architecture"
   ]
  },
  {
   "cell_type": "code",
   "execution_count": 12,
   "metadata": {
    "id": "h_Cx9q2QFgM7"
   },
   "outputs": [],
   "source": [
    "class MNISTNet(nn.Module):\n",
    "    ''' Define a class initializing the layers constituting the required \n",
    "    CNN Architecture and the code for forward pass\n",
    "    Note: The class extends to the nn.Module, which is a base class for \n",
    "    Neural Network modules in PyTorch https://pytorch.org/docs/stable/generated/torch.nn.Module.html\n",
    "    '''\n",
    "\n",
    "    def __init__(self, drop_perc=0.05):\n",
    "        ''' Define the layers that constitute the network and\n",
    "        initialize the base class '''\n",
    "\n",
    "        # Start by initializing the base class\n",
    "        super().__init__()\n",
    "\n",
    "        # Store the dropout percentage\n",
    "        self.drop_perc = drop_perc\n",
    "    \n",
    "        # Define the layers that make up the network\n",
    "        # i.e. the Network Architecture\n",
    "        # nn.Conv2d - Used to perform 2-dimensional convolution using the defined size of the kernel\n",
    "        # nn.MaxPool2d - 2d MaxPooling Layer of the defined size\n",
    "\n",
    "        # MNIST contains images of size 28x28\n",
    "        # Since the images are padded, the resultant images after convolution\n",
    "        # would have the same size\n",
    "        \n",
    "        # Input Block\n",
    "        self.input_block = nn.Sequential (\n",
    "            OrderedDict ([\n",
    "                ('input_block_conv1', nn.Conv2d (1, 16, 3, padding=0, bias=False)),\n",
    "                ('input_block_bn', nn.BatchNorm2d (16)),\n",
    "                ('input_block_relu', nn.ReLU ()),\n",
    "                ('input_block_dropout', nn.Dropout (self.drop_perc)), # Out: 26\n",
    "                ('input_block_one', nn.Conv2d (16, 8, 1, padding=0, bias=False)) # Out: 26\n",
    "            ])\n",
    "        )\n",
    "\n",
    "        # First Convolution Block\n",
    "        self.block1 = nn.Sequential (\n",
    "            OrderedDict ([\n",
    "                ('block1_conv1', nn.Conv2d (8, 8, 3, padding=0, bias=False)),\n",
    "                ('block1_bn1', nn.BatchNorm2d (8)),\n",
    "                ('block1_relu1', nn.ReLU ()),\n",
    "                ('block1_dropout1', nn.Dropout (self.drop_perc)), # Out: 24\n",
    "\n",
    "                ('block1_conv2', nn.Conv2d (8, 16, 3, padding=1, bias=False)),\n",
    "                ('block1_bn2', nn.BatchNorm2d (16)),\n",
    "                ('block1_relu2', nn.ReLU ()),\n",
    "                ('block1_dropout2', nn.Dropout (self.drop_perc)), # Out: 24    \n",
    "            ])    \n",
    "        )\n",
    "\n",
    "        # Pooling Layer\n",
    "        self.pool_block1 = nn.Sequential (\n",
    "            OrderedDict ([\n",
    "                ('pool_b1_mp', nn.MaxPool2d (2, 2)), # Out: 12\n",
    "                ('pool_b1_one', nn.Conv2d (16, 8, 1, padding=0, bias=False)) # Out: 12\n",
    "            ])\n",
    "        )\n",
    "\n",
    "        # Second Convolution Block\n",
    "        self.block2 = nn.Sequential (\n",
    "            OrderedDict ([\n",
    "                ('block2_conv1', nn.Conv2d (8, 8, 3, padding=0, bias=False)),\n",
    "                ('block2_bn1', nn.BatchNorm2d (8)),\n",
    "                ('block2_relu1', nn.ReLU ()),\n",
    "                ('block2_dropout1', nn.Dropout (self.drop_perc)), # Out: 10\n",
    "\n",
    "                ('block2_conv2', nn.Conv2d (8, 14, 3, padding=1, bias=False)),\n",
    "                ('block2_bn2', nn.BatchNorm2d (14)),\n",
    "                ('block2_relu2', nn.ReLU ()),\n",
    "                ('block2_dropout2', nn.Dropout (self.drop_perc)), # Out: 10     \n",
    "                ('block2_one', nn.Conv2d (14, 8, 1, padding=0, bias=False)) # Out: 10\n",
    "            ])    \n",
    "        )\n",
    "\n",
    "        # Last Convolution Block\n",
    "        self.block3 = nn.Sequential (\n",
    "            OrderedDict ([\n",
    "                ('block3_conv1', nn.Conv2d (8, 16, 3, padding=0, bias=False)),\n",
    "                ('block3_bn1', nn.BatchNorm2d (16)),\n",
    "                ('block3_relu1', nn.ReLU ()),\n",
    "                ('block3_dropout1', nn.Dropout (self.drop_perc)), # Out: 8\n",
    "\n",
    "                ('block3_conv2', nn.Conv2d (16, 18, 3, padding=0, bias=False)),\n",
    "                ('block3_bn2', nn.BatchNorm2d (18)),\n",
    "                ('block3_relu2', nn.ReLU ()),\n",
    "                ('block3_dropout2', nn.Dropout (self.drop_perc)), # Out: 6   \n",
    "            ])\n",
    "        )\n",
    "\n",
    "        # Gap & Final layer with the predictions\n",
    "        self.prediction = nn.Sequential (\n",
    "            OrderedDict ([\n",
    "                ('gap', nn.AvgPool2d (kernel_size=6)),\n",
    "                ('pred_layer', nn.Conv2d (18, 10, 1, padding=0, bias=False))\n",
    "            ])\n",
    "        )\n",
    "\n",
    "        \n",
    "    def forward(self, x):\n",
    "        ''' Define the forward pass\n",
    "        Each convolution layer is activated using ReLU to add non-linearity\n",
    "        '''\n",
    "        # Start with the input block to convert the grayscale (no. of channels = 1)\n",
    "        # to something higher\n",
    "        x = self.input_block (x)\n",
    "\n",
    "        # Convolution layer followed by ReLU Activation, followed by Batch Normalization\n",
    "        # followed by Dropout and then finally a pooling layer\n",
    "        # Block 1\n",
    "        x = self.block1 (x)\n",
    "\n",
    "        # Pooling layer\n",
    "        x = self.pool_block1 (x)\n",
    "\n",
    "        # Block 2\n",
    "        x = self.block2 (x)\n",
    "\n",
    "        # Block 3\n",
    "        x = self.block3 (x)\n",
    "\n",
    "        # The final layer shouldn't be passed through ReLU, but should be retained\n",
    "        # Using Global Average Pooling & and 1x1 to reduce the final output size\n",
    "        x = self.prediction (x)\n",
    "\n",
    "        # Reshape to fit the output and return\n",
    "        x = x.view (-1, 10)\n",
    "        return F.log_softmax (x)"
   ]
  },
  {
   "cell_type": "code",
   "execution_count": 13,
   "metadata": {
    "colab": {
     "base_uri": "https://localhost:8080/"
    },
    "id": "xdydjYTZFyi3",
    "outputId": "1386641c-3784-4575-aa72-347046d0a600"
   },
   "outputs": [
    {
     "name": "stdout",
     "output_type": "stream",
     "text": [
      "Requirement already satisfied: torchsummary in /usr/local/lib/python3.7/dist-packages (1.5.1)\n",
      "----------------------------------------------------------------\n",
      "        Layer (type)               Output Shape         Param #\n",
      "================================================================\n",
      "            Conv2d-1           [-1, 16, 26, 26]             144\n",
      "       BatchNorm2d-2           [-1, 16, 26, 26]              32\n",
      "              ReLU-3           [-1, 16, 26, 26]               0\n",
      "           Dropout-4           [-1, 16, 26, 26]               0\n",
      "            Conv2d-5            [-1, 8, 26, 26]             128\n",
      "            Conv2d-6            [-1, 8, 24, 24]             576\n",
      "       BatchNorm2d-7            [-1, 8, 24, 24]              16\n",
      "              ReLU-8            [-1, 8, 24, 24]               0\n",
      "           Dropout-9            [-1, 8, 24, 24]               0\n",
      "           Conv2d-10           [-1, 16, 24, 24]           1,152\n",
      "      BatchNorm2d-11           [-1, 16, 24, 24]              32\n",
      "             ReLU-12           [-1, 16, 24, 24]               0\n",
      "          Dropout-13           [-1, 16, 24, 24]               0\n",
      "        MaxPool2d-14           [-1, 16, 12, 12]               0\n",
      "           Conv2d-15            [-1, 8, 12, 12]             128\n",
      "           Conv2d-16            [-1, 8, 10, 10]             576\n",
      "      BatchNorm2d-17            [-1, 8, 10, 10]              16\n",
      "             ReLU-18            [-1, 8, 10, 10]               0\n",
      "          Dropout-19            [-1, 8, 10, 10]               0\n",
      "           Conv2d-20           [-1, 14, 10, 10]           1,008\n",
      "      BatchNorm2d-21           [-1, 14, 10, 10]              28\n",
      "             ReLU-22           [-1, 14, 10, 10]               0\n",
      "          Dropout-23           [-1, 14, 10, 10]               0\n",
      "           Conv2d-24            [-1, 8, 10, 10]             112\n",
      "           Conv2d-25             [-1, 16, 8, 8]           1,152\n",
      "      BatchNorm2d-26             [-1, 16, 8, 8]              32\n",
      "             ReLU-27             [-1, 16, 8, 8]               0\n",
      "          Dropout-28             [-1, 16, 8, 8]               0\n",
      "           Conv2d-29             [-1, 18, 6, 6]           2,592\n",
      "      BatchNorm2d-30             [-1, 18, 6, 6]              36\n",
      "             ReLU-31             [-1, 18, 6, 6]               0\n",
      "          Dropout-32             [-1, 18, 6, 6]               0\n",
      "        AvgPool2d-33             [-1, 18, 1, 1]               0\n",
      "           Conv2d-34             [-1, 10, 1, 1]             180\n",
      "================================================================\n",
      "Total params: 7,940\n",
      "Trainable params: 7,940\n",
      "Non-trainable params: 0\n",
      "----------------------------------------------------------------\n",
      "Input size (MB): 0.00\n",
      "Forward/backward pass size (MB): 0.94\n",
      "Params size (MB): 0.03\n",
      "Estimated Total Size (MB): 0.98\n",
      "----------------------------------------------------------------\n"
     ]
    }
   ],
   "source": [
    "# To display an overview/summary of the network\n",
    "# Is also useful to validate whether the structure of the network is \n",
    "# correct, i.e. the input channels and the output channels and its flow\n",
    "!pip install torchsummary\n",
    "from torchsummary import summary\n",
    "\n",
    "# Set it to use GPU if available\n",
    "use_cuda = torch.cuda.is_available()\n",
    "device = torch.device(\"cuda\" if use_cuda else \"cpu\")\n",
    "\n",
    "# Define the dropout_percentage\n",
    "dropout_percentage = 0.05\n",
    "\n",
    "# Create a model object\n",
    "model = MNISTNet (drop_perc=dropout_percentage).to (device)\n",
    "summary(model, input_size=(1, 28, 28))"
   ]
  },
  {
   "cell_type": "markdown",
   "metadata": {
    "id": "6o8uCexBDQw4"
   },
   "source": [
    "## Train and Validate"
   ]
  },
  {
   "cell_type": "code",
   "execution_count": 14,
   "metadata": {
    "id": "8fDefDhaFlwH"
   },
   "outputs": [],
   "source": [
    "# TQDM is just awesome... provides a progress status bar as the training \n",
    "# (or any operation) proceeds\n",
    "from tqdm import tqdm\n",
    "\n",
    "\n",
    "def train(model, device, train_loader, optimizer, epoch, scheduler=None):\n",
    "    ''' Define the training steps '''\n",
    "\n",
    "    # Set the model to training mode\n",
    "    model.train()\n",
    "    \n",
    "    # Initialize the counters\n",
    "    correct = 0\n",
    "    processed = 0\n",
    "\n",
    "    # Initialize the progress bar\n",
    "    pbar = tqdm(train_loader)\n",
    "\n",
    "    # Start iterating through the training data\n",
    "    for batch_idx, (data, target) in enumerate(pbar):\n",
    "        # Start by converting the data to the required type \n",
    "        # (PyTorch Cuda Tensor while using GPU)\n",
    "        data, target = data.to(device), target.to(device)\n",
    "\n",
    "        # Discard/reset the gradients from the last iteration\n",
    "        optimizer.zero_grad()\n",
    "\n",
    "        # Get the predictions for the given data\n",
    "        output = model(data)\n",
    "\n",
    "        # Compute the negative loss likelihood of the predictions vs the actuals\n",
    "        # and propogate the loss backwards (back propogation)\n",
    "        loss = F.nll_loss(output, target)\n",
    "        loss.backward()\n",
    "\n",
    "        # Use the optimizer to take a step in the -ve of the gradient direction\n",
    "        # by the amount equal to the gradient magnitude times the learning rate \n",
    "        optimizer.step()\n",
    "        \n",
    "        # Get the index of the prediction\n",
    "        # i.e. the output is one-hot encoded, so get the argument with the max\n",
    "        # log probability\n",
    "        pred = output.argmax(dim=1, keepdim=True)  # get the index of the max log-probability\n",
    "\n",
    "        # Get a count of the correct preditcions\n",
    "        correct += pred.eq(target.view_as(pred)).sum().item()\n",
    "        \n",
    "        # Update the no of records processed\n",
    "        processed += len (data)\n",
    "\n",
    "        # Update the progress bar\n",
    "        pbar.set_description(\n",
    "            desc=f'Loss={loss.item():.4f}; '+\\\n",
    "                 f'Accuracy={correct*100/processed:.2f}; '+\\\n",
    "                 f'Learning Rate={optimizer.param_groups[0][\"lr\"]:.4f}')\n",
    "        \n",
    "        # Store the training accuracy & loss\n",
    "        training_accuracy.append (correct*100/processed)\n",
    "        training_losses.append (loss)\n",
    "\n",
    "    # Update the learning rate after each training cycle\n",
    "    if scheduler:\n",
    "        scheduler.step ()\n",
    "\n",
    "\n",
    "def test(model, device, test_loader):\n",
    "    ''' Validate the trained model on a hold-out set '''\n",
    "\n",
    "    # Set the model to evalution mode\n",
    "    model.eval()\n",
    "    \n",
    "    # Initialize the losses\n",
    "    # and the no of correct predictions to 0\n",
    "    test_loss = 0\n",
    "    correct = 0\n",
    "\n",
    "    # Disable the gradient computations\n",
    "    # While evaulating only forward pass is used and the backward pass\n",
    "    # along with the gradient (likewise the gradient update) isn't required\n",
    "    with torch.no_grad():\n",
    "        # Iterate over the test/validation set\n",
    "        for data, target in test_loader:\n",
    "            # Converting the data to the required type \n",
    "            # (PyTorch Cuda Tensor while using GPU)\n",
    "            data, target = data.to(device), target.to(device)\n",
    "\n",
    "            # Get the predictions\n",
    "            output = model(data)\n",
    "\n",
    "            # Compute the loss against the target\n",
    "            test_loss += F.nll_loss(output, target, reduction='sum').item()  # sum up batch loss\n",
    "\n",
    "            # Get the index of the prediction\n",
    "            # i.e. the output is one-hot encoded, so get the argument with the max\n",
    "            # log probability\n",
    "            pred = output.argmax(dim=1, keepdim=True)  # get the index of the max log-probability\n",
    "\n",
    "            # Get a count of the correct preditcions\n",
    "            correct += pred.eq(target.view_as(pred)).sum().item()\n",
    "\n",
    "    # Compute the final loss on the test/validation data\n",
    "    test_loss /= len(test_loader.dataset)\n",
    "\n",
    "    # Display the results\n",
    "    print('\\nTest set: Loss={:.4f}; Accuracy={}/{} ({:.2f}%)\\n\\n'.format(\n",
    "        test_loss, correct, len(test_loader.dataset),\n",
    "        100. * correct / len(test_loader.dataset)))\n",
    "    \n",
    "    # Store the training accuracy & loss\n",
    "    test_accuracy.append (correct*100/len(test_loader.dataset))\n",
    "    test_losses.append (test_loss)\n",
    "\n",
    "    # Return the test accuracy and loss\n",
    "    # Update LR based on this\n",
    "    return test_accuracy [-1], test_losses [-1]"
   ]
  },
  {
   "cell_type": "code",
   "execution_count": 19,
   "metadata": {
    "colab": {
     "base_uri": "https://localhost:8080/"
    },
    "id": "MMWbLWO6FuHb",
    "outputId": "3606c200-827a-4472-8a6e-0e7176e14c83",
    "scrolled": true,
    "tags": []
   },
   "outputs": [
    {
     "name": "stderr",
     "output_type": "stream",
     "text": [
      "  0%|          | 0/469 [00:00<?, ?it/s]"
     ]
    },
    {
     "name": "stdout",
     "output_type": "stream",
     "text": [
      "Adjusting learning rate of group 0 to 6.0000e-02.\n",
      "Iteration 1\n"
     ]
    },
    {
     "name": "stderr",
     "output_type": "stream",
     "text": [
      "Loss=0.1068; Accuracy=90.25; Learning Rate=0.0600: 100%|██████████| 469/469 [00:32<00:00, 14.63it/s]"
     ]
    },
    {
     "name": "stdout",
     "output_type": "stream",
     "text": [
      "Adjusting learning rate of group 0 to 6.0000e-02.\n"
     ]
    },
    {
     "name": "stderr",
     "output_type": "stream",
     "text": [
      "\n",
      "  0%|          | 0/469 [00:00<?, ?it/s]"
     ]
    },
    {
     "name": "stdout",
     "output_type": "stream",
     "text": [
      "\n",
      "Test set: Loss=0.0700; Accuracy=9781/10000 (97.81%)\n",
      "\n",
      "\n",
      "Iteration 2\n"
     ]
    },
    {
     "name": "stderr",
     "output_type": "stream",
     "text": [
      "Loss=0.1812; Accuracy=97.68; Learning Rate=0.0600: 100%|██████████| 469/469 [00:31<00:00, 14.69it/s]"
     ]
    },
    {
     "name": "stdout",
     "output_type": "stream",
     "text": [
      "Adjusting learning rate of group 0 to 6.0000e-02.\n"
     ]
    },
    {
     "name": "stderr",
     "output_type": "stream",
     "text": [
      "\n",
      "  0%|          | 0/469 [00:00<?, ?it/s]"
     ]
    },
    {
     "name": "stdout",
     "output_type": "stream",
     "text": [
      "\n",
      "Test set: Loss=0.0533; Accuracy=9845/10000 (98.45%)\n",
      "\n",
      "\n",
      "Iteration 3\n"
     ]
    },
    {
     "name": "stderr",
     "output_type": "stream",
     "text": [
      "Loss=0.1714; Accuracy=97.91; Learning Rate=0.0600: 100%|██████████| 469/469 [00:31<00:00, 14.78it/s]"
     ]
    },
    {
     "name": "stdout",
     "output_type": "stream",
     "text": [
      "Adjusting learning rate of group 0 to 6.0000e-02.\n"
     ]
    },
    {
     "name": "stderr",
     "output_type": "stream",
     "text": [
      "\n",
      "  0%|          | 0/469 [00:00<?, ?it/s]"
     ]
    },
    {
     "name": "stdout",
     "output_type": "stream",
     "text": [
      "\n",
      "Test set: Loss=0.0312; Accuracy=9908/10000 (99.08%)\n",
      "\n",
      "\n",
      "Iteration 4\n"
     ]
    },
    {
     "name": "stderr",
     "output_type": "stream",
     "text": [
      "Loss=0.0735; Accuracy=98.33; Learning Rate=0.0600: 100%|██████████| 469/469 [00:31<00:00, 14.77it/s]"
     ]
    },
    {
     "name": "stdout",
     "output_type": "stream",
     "text": [
      "Adjusting learning rate of group 0 to 6.0000e-02.\n"
     ]
    },
    {
     "name": "stderr",
     "output_type": "stream",
     "text": [
      "\n",
      "  0%|          | 0/469 [00:00<?, ?it/s]"
     ]
    },
    {
     "name": "stdout",
     "output_type": "stream",
     "text": [
      "\n",
      "Test set: Loss=0.0274; Accuracy=9916/10000 (99.16%)\n",
      "\n",
      "\n",
      "Iteration 5\n"
     ]
    },
    {
     "name": "stderr",
     "output_type": "stream",
     "text": [
      "Loss=0.0749; Accuracy=98.39; Learning Rate=0.0600: 100%|██████████| 469/469 [00:31<00:00, 14.77it/s]"
     ]
    },
    {
     "name": "stdout",
     "output_type": "stream",
     "text": [
      "Adjusting learning rate of group 0 to 3.0000e-02.\n"
     ]
    },
    {
     "name": "stderr",
     "output_type": "stream",
     "text": [
      "\n",
      "  0%|          | 0/469 [00:00<?, ?it/s]"
     ]
    },
    {
     "name": "stdout",
     "output_type": "stream",
     "text": [
      "\n",
      "Test set: Loss=0.0416; Accuracy=9865/10000 (98.65%)\n",
      "\n",
      "\n",
      "Iteration 6\n"
     ]
    },
    {
     "name": "stderr",
     "output_type": "stream",
     "text": [
      "Loss=0.0052; Accuracy=98.74; Learning Rate=0.0300: 100%|██████████| 469/469 [00:31<00:00, 14.74it/s]"
     ]
    },
    {
     "name": "stdout",
     "output_type": "stream",
     "text": [
      "Adjusting learning rate of group 0 to 3.0000e-02.\n"
     ]
    },
    {
     "name": "stderr",
     "output_type": "stream",
     "text": [
      "\n",
      "  0%|          | 0/469 [00:00<?, ?it/s]"
     ]
    },
    {
     "name": "stdout",
     "output_type": "stream",
     "text": [
      "\n",
      "Test set: Loss=0.0262; Accuracy=9914/10000 (99.14%)\n",
      "\n",
      "\n",
      "Iteration 7\n"
     ]
    },
    {
     "name": "stderr",
     "output_type": "stream",
     "text": [
      "Loss=0.0091; Accuracy=98.80; Learning Rate=0.0300: 100%|██████████| 469/469 [00:31<00:00, 14.66it/s]"
     ]
    },
    {
     "name": "stdout",
     "output_type": "stream",
     "text": [
      "Adjusting learning rate of group 0 to 1.5000e-02.\n"
     ]
    },
    {
     "name": "stderr",
     "output_type": "stream",
     "text": [
      "\n",
      "  0%|          | 0/469 [00:00<?, ?it/s]"
     ]
    },
    {
     "name": "stdout",
     "output_type": "stream",
     "text": [
      "\n",
      "Test set: Loss=0.0230; Accuracy=9929/10000 (99.29%)\n",
      "\n",
      "\n",
      "Iteration 8\n"
     ]
    },
    {
     "name": "stderr",
     "output_type": "stream",
     "text": [
      "Loss=0.0449; Accuracy=98.92; Learning Rate=0.0150: 100%|██████████| 469/469 [00:32<00:00, 14.64it/s]"
     ]
    },
    {
     "name": "stdout",
     "output_type": "stream",
     "text": [
      "Adjusting learning rate of group 0 to 1.5000e-02.\n"
     ]
    },
    {
     "name": "stderr",
     "output_type": "stream",
     "text": [
      "\n",
      "  0%|          | 0/469 [00:00<?, ?it/s]"
     ]
    },
    {
     "name": "stdout",
     "output_type": "stream",
     "text": [
      "\n",
      "Test set: Loss=0.0194; Accuracy=9943/10000 (99.43%)\n",
      "\n",
      "\n",
      "Iteration 9\n"
     ]
    },
    {
     "name": "stderr",
     "output_type": "stream",
     "text": [
      "Loss=0.0649; Accuracy=99.06; Learning Rate=0.0150: 100%|██████████| 469/469 [00:31<00:00, 14.70it/s]"
     ]
    },
    {
     "name": "stdout",
     "output_type": "stream",
     "text": [
      "Adjusting learning rate of group 0 to 1.5000e-02.\n"
     ]
    },
    {
     "name": "stderr",
     "output_type": "stream",
     "text": [
      "\n",
      "  0%|          | 0/469 [00:00<?, ?it/s]"
     ]
    },
    {
     "name": "stdout",
     "output_type": "stream",
     "text": [
      "\n",
      "Test set: Loss=0.0192; Accuracy=9937/10000 (99.37%)\n",
      "\n",
      "\n",
      "Iteration 10\n"
     ]
    },
    {
     "name": "stderr",
     "output_type": "stream",
     "text": [
      "Loss=0.0348; Accuracy=99.04; Learning Rate=0.0150: 100%|██████████| 469/469 [00:32<00:00, 14.61it/s]"
     ]
    },
    {
     "name": "stdout",
     "output_type": "stream",
     "text": [
      "Adjusting learning rate of group 0 to 1.5000e-02.\n"
     ]
    },
    {
     "name": "stderr",
     "output_type": "stream",
     "text": [
      "\n",
      "  0%|          | 0/469 [00:00<?, ?it/s]"
     ]
    },
    {
     "name": "stdout",
     "output_type": "stream",
     "text": [
      "\n",
      "Test set: Loss=0.0174; Accuracy=9945/10000 (99.45%)\n",
      "\n",
      "\n",
      "Iteration 11\n"
     ]
    },
    {
     "name": "stderr",
     "output_type": "stream",
     "text": [
      "Loss=0.0472; Accuracy=99.04; Learning Rate=0.0150: 100%|██████████| 469/469 [00:31<00:00, 14.81it/s]"
     ]
    },
    {
     "name": "stdout",
     "output_type": "stream",
     "text": [
      "Adjusting learning rate of group 0 to 1.5000e-02.\n"
     ]
    },
    {
     "name": "stderr",
     "output_type": "stream",
     "text": [
      "\n",
      "  0%|          | 0/469 [00:00<?, ?it/s]"
     ]
    },
    {
     "name": "stdout",
     "output_type": "stream",
     "text": [
      "\n",
      "Test set: Loss=0.0187; Accuracy=9947/10000 (99.47%)\n",
      "\n",
      "\n",
      "Iteration 12\n"
     ]
    },
    {
     "name": "stderr",
     "output_type": "stream",
     "text": [
      "Loss=0.0301; Accuracy=98.97; Learning Rate=0.0150: 100%|██████████| 469/469 [00:31<00:00, 14.71it/s]"
     ]
    },
    {
     "name": "stdout",
     "output_type": "stream",
     "text": [
      "Adjusting learning rate of group 0 to 7.5000e-03.\n"
     ]
    },
    {
     "name": "stderr",
     "output_type": "stream",
     "text": [
      "\n",
      "  0%|          | 0/469 [00:00<?, ?it/s]"
     ]
    },
    {
     "name": "stdout",
     "output_type": "stream",
     "text": [
      "\n",
      "Test set: Loss=0.0180; Accuracy=9947/10000 (99.47%)\n",
      "\n",
      "\n",
      "Iteration 13\n"
     ]
    },
    {
     "name": "stderr",
     "output_type": "stream",
     "text": [
      "Loss=0.0233; Accuracy=99.10; Learning Rate=0.0075: 100%|██████████| 469/469 [00:31<00:00, 14.68it/s]"
     ]
    },
    {
     "name": "stdout",
     "output_type": "stream",
     "text": [
      "Adjusting learning rate of group 0 to 7.5000e-03.\n"
     ]
    },
    {
     "name": "stderr",
     "output_type": "stream",
     "text": [
      "\n",
      "  0%|          | 0/469 [00:00<?, ?it/s]"
     ]
    },
    {
     "name": "stdout",
     "output_type": "stream",
     "text": [
      "\n",
      "Test set: Loss=0.0182; Accuracy=9947/10000 (99.47%)\n",
      "\n",
      "\n",
      "Epoch    13: reducing learning rate of group 0 to 3.7500e-04.\n",
      "Iteration 14\n"
     ]
    },
    {
     "name": "stderr",
     "output_type": "stream",
     "text": [
      "Loss=0.0184; Accuracy=99.17; Learning Rate=0.0004: 100%|██████████| 469/469 [00:31<00:00, 14.71it/s]"
     ]
    },
    {
     "name": "stdout",
     "output_type": "stream",
     "text": [
      "Adjusting learning rate of group 0 to 3.7500e-04.\n"
     ]
    },
    {
     "name": "stderr",
     "output_type": "stream",
     "text": [
      "\n"
     ]
    },
    {
     "name": "stdout",
     "output_type": "stream",
     "text": [
      "\n",
      "Test set: Loss=0.0172; Accuracy=9948/10000 (99.48%)\n",
      "\n",
      "\n",
      "Best Model had a Training Accuracy of 100.00 & a Test Accuracy of 99.48\n"
     ]
    }
   ],
   "source": [
    "# Initialize the model instance\n",
    "model = MNISTNet().to(device)\n",
    "\n",
    "# Define an optimizer to use to perform gradient descent\n",
    "# Various optimizers are suitable for different usecase, which help\n",
    "# reach the global optimal (i.e. a model with least errors/loss) quickly\n",
    "# In this case, Stochastic Gradient Descent (SGD) is used with momentum of 0.9\n",
    "# and the learning rate (alpha) set to 0.01 \n",
    "\n",
    "# Have the learning rate initially so that it gets to the region of the global minima\n",
    "# faster and then reduce it so the it converges slowly to the required minima\n",
    "# This should avoid falling into local minima\n",
    "optimizer = optim.SGD (model.parameters(), lr=0.06, momentum=0.9)\n",
    "\n",
    "# Define a learning rate scheduler\n",
    "# Refered from: https://www.kaggle.com/isbhargav/guide-to-pytorch-learning-rate-scheduling\n",
    "# and https://pytorch.org/docs/master/optim.html\n",
    "# https://pytorch.org/docs/master/generated/torch.optim.lr_scheduler.ReduceLROnPlateau.html#torch.optim.lr_scheduler.ReduceLROnPlateau\n",
    "# Decrease the learning rate after a particular step\n",
    "plat_scheduler = optim.lr_scheduler.ReduceLROnPlateau(\n",
    "    optimizer, mode='min', \n",
    "    factor=0.05, patience=2, \n",
    "    min_lr=0.0001, threshold=0.001, \n",
    "    verbose=True)\n",
    "\n",
    "# Reduce the Learning Rate at the specified iteration\n",
    "# Choose this is based on the previous runs\n",
    "multistep_scheduler = torch.optim.lr_scheduler.MultiStepLR(\n",
    "    optimizer, milestones=[5, 7, 12], \n",
    "    gamma=0.5, verbose=True)\n",
    "\n",
    "# Train the model for n epochs\n",
    "epochs = 14\n",
    "\n",
    "# Store the training accuracy and losses\n",
    "training_accuracy = []\n",
    "training_losses = []\n",
    "\n",
    "# Store the test accuracy and losses\n",
    "test_accuracy = []\n",
    "test_losses = []\n",
    "\n",
    "for epoch in range(0, epochs):\n",
    "    print (f'Iteration {epoch+1}')\n",
    "    # Initiate training phase\n",
    "    train(model, device, train_loader, optimizer, epoch, multistep_scheduler)\n",
    "\n",
    "    # Validate the results on the test/validation set\n",
    "    accuracy, loss = test(model, device, test_loader)\n",
    "\n",
    "    # Reduce the learning rate if the loss has plateaued\n",
    "    plat_scheduler.step (loss)\n",
    "\n",
    "print (f'Best Model had a Training Accuracy of {np.max (training_accuracy):.2f}', \n",
    "        f'& a Test Accuracy of {np.max (test_accuracy):.2f}')"
   ]
  },
  {
   "cell_type": "markdown",
   "metadata": {
    "id": "isWcfTYZczhM"
   },
   "source": [
    "### Plot the accuracy and loss"
   ]
  },
  {
   "cell_type": "code",
   "execution_count": 20,
   "metadata": {
    "colab": {
     "base_uri": "https://localhost:8080/",
     "height": 621
    },
    "id": "orpsJmhMT5-Q",
    "outputId": "554dc718-bb47-432a-fee4-688ad9dc5407"
   },
   "outputs": [
    {
     "data": {
      "image/png": "[encoded data removed]",
      "text/plain": [
       "<Figure size 1080x720 with 4 Axes>"
      ]
     },
     "metadata": {
      "tags": []
     },
     "output_type": "display_data"
    }
   ],
   "source": [
    "plt.style.use ('dark_background') # Dark mode rocks!!!\n",
    "\n",
    "# Define the size of the figure\n",
    "plt.figure (figsize=(15, 10))\n",
    "\n",
    "# Plot the Training Accuracy\n",
    "plt.subplot (221)\n",
    "plt.plot (training_accuracy)\n",
    "plt.title ('Training Accuracy')\n",
    "plt.ylabel ('Accuracy'); plt.xlabel ('Epochs');\n",
    "\n",
    "# Losses during training\n",
    "plt.subplot (222)\n",
    "plt.plot (training_losses)\n",
    "plt.title ('Training Loss')\n",
    "plt.ylabel ('Loss'); plt.xlabel ('Epochs');\n",
    "\n",
    "# Test Accuracy at each epoch\n",
    "plt.subplot (223)\n",
    "plt.plot (test_accuracy)\n",
    "plt.title ('Test Accuracy')\n",
    "plt.ylabel ('Accuracy'); plt.xlabel ('Epochs');\n",
    "\n",
    "# Test Losses at each epoch\n",
    "plt.subplot (224)\n",
    "plt.plot (test_losses)\n",
    "plt.title ('Test Loss')\n",
    "plt.ylabel ('Loss'); plt.xlabel ('Epochs');"
   ]
  },
  {
   "cell_type": "markdown",
   "metadata": {
    "id": "gQZnL3x0rxWo"
   },
   "source": [
    "- Training accuracy is still not as high as possible; there's still room for improving the results further"
   ]
  },
  {
   "cell_type": "code",
   "execution_count": 20,
   "metadata": {
    "id": "oO2tNnW7lLg8"
   },
   "outputs": [],
   "source": []
  }
 ],
 "metadata": {
  "colab": {
   "collapsed_sections": [],
   "name": "Assignment 5 - Stage 3. Tune the parameters to achieve the desired results.ipynb",
   "provenance": [],
   "toc_visible": true
  },
  "kernelspec": {
   "display_name": "Python 3",
   "language": "python",
   "name": "python3"
  },
  "language_info": {
   "codemirror_mode": {
    "name": "ipython",
    "version": 3
   },
   "file_extension": ".py",
   "mimetype": "text/x-python",
   "name": "python",
   "nbconvert_exporter": "python",
   "pygments_lexer": "ipython3",
   "version": "3.7.10"
  },
  "widgets": {
   "application/vnd.jupyter.widget-state+json": {
    "af2c152db16e4d2c8f161d9cb007cfef": {
     "model_module": "@jupyter-widgets/controls",
     "model_name": "HBoxModel",
     "state": {
      "_dom_classes": [],
      "_model_module": "@jupyter-widgets/controls",
      "_model_module_version": "1.5.0",
      "_model_name": "HBoxModel",
      "_view_count": null,
      "_view_module": "@jupyter-widgets/controls",
      "_view_module_version": "1.5.0",
      "_view_name": "HBoxView",
      "box_style": "",
      "children": [
       "IPY_MODEL_8423d2780f114a9db9214dddfea29ab4",
       "IPY_MODEL_ea72e186a385405e8ba8225c25d855cc"
      ],
      "layout": "IPY_MODEL_54e7380b7a2e4ec7b3dbcc254ad17f09"
     }
    },
    "f5a959ac88114174ad3e72e9a5078ef4": {
     "model_module": "@jupyter-widgets/controls",
     "model_name": "HBoxModel",
     "state": {
      "_dom_classes": [],
      "_model_module": "@jupyter-widgets/controls",
      "_model_module_version": "1.5.0",
      "_model_name": "HBoxModel",
      "_view_count": null,
      "_view_module": "@jupyter-widgets/controls",
      "_view_module_version": "1.5.0",
      "_view_name": "HBoxView",
      "box_style": "",
      "children": [
       "IPY_MODEL_f169e37fcaa94132ae3b411a7b94552c",
       "IPY_MODEL_72f65bdc2fc741f8ab65cfa59d711f87"
      ],
      "layout": "IPY_MODEL_d6c4dbd31f234ee4bec943ce7b8f095d"
     }
    }
   }
  }
 },
 "nbformat": 4,
 "nbformat_minor": 4
}
