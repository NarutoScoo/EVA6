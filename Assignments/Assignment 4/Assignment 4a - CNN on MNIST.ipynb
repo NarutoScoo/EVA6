{
 "cells": [
  {
   "cell_type": "markdown",
   "metadata": {
    "id": "3ac_yzfOxA7U"
   },
   "source": [
    "## Objective\n",
    "- Predicted the digit using the image from MNIST\n",
    "- Get an accuracy of over 99.4, satisfying the following constraints\n",
    "    - [x] Should achieve the required accuracy using 20K or less parameters\n",
    "    - [x] Should be under 20 epochs\n",
    "    - [x] Have to use BatchNormalization, Dropout and Fully Connected Layer after GAP"
   ]
  },
  {
   "cell_type": "markdown",
   "metadata": {
    "id": "84YbXBdjzJko"
   },
   "source": [
    "## Imports"
   ]
  },
  {
   "cell_type": "code",
   "execution_count": 3,
   "metadata": {
    "id": "3hu-AIG7waD0"
   },
   "outputs": [],
   "source": [
    "# PyTorch, everything from PyTorch can be referred with this\n",
    "import torch\n",
    "\n",
    "# Import the neural network model seperately\n",
    "import torch.nn as nn\n",
    "\n",
    "# Contains functions that are required such as ReLu (Activation function)\n",
    "import torch.nn.functional as F \n",
    "\n",
    "# Optimizers required to converge using Backpropogation\n",
    "import torch.optim as optim\n",
    "\n",
    "# Datasets are used to download and load the data\n",
    "# used to train and validate\n",
    "# Transforms can be used to define modifications and/or augmentations methods\n",
    "# to be applied while passing the data\n",
    "# Normalization can also be one of the compositions of transforms\n",
    "import torchvision\n",
    "from torchvision import datasets, transforms\n",
    "\n",
    "# Dataset abstract class using which custom dataset classes can be created\n",
    "# DataLoader to create batches and to shuffle the data\n",
    "from torch.utils.data import Dataset, DataLoader\n",
    "\n",
    "# Visualize the images\n",
    "import matplotlib.pyplot as plt\n",
    "from mpl_toolkits.axes_grid1 import ImageGrid # ImageGrid to form a grid of images\n",
    "\n",
    "# Utils\n",
    "import numpy as np\n",
    "import seaborn as sns"
   ]
  },
  {
   "cell_type": "markdown",
   "metadata": {
    "id": "CO5hw_HA1AAU"
   },
   "source": [
    "## Load the dataset\n",
    "Define a class a that loads and takes the images from MNIST to use as input along with the actual label of the handwritten digit which constitutes the required output"
   ]
  },
  {
   "cell_type": "code",
   "execution_count": 4,
   "metadata": {
    "id": "Xiu5mj_20pck"
   },
   "outputs": [],
   "source": [
    "class MNISTDataset (Dataset):\n",
    "    ''' Extending the Dataset class to provide customized inputs and modified \n",
    "    outputs for training '''\n",
    "\n",
    "    def __init__(self, mode='training'):\n",
    "        ''' Get/Download the data (MNIST) and setup up other configurations\n",
    "        required to get the data\n",
    "        \n",
    "        Parameters:\n",
    "            mode - Indicates either 'training' or 'validation'\n",
    "        '''\n",
    "\n",
    "        # Start by initializing the base class\n",
    "        super().__init__()\n",
    "\n",
    "        # Save the mode\n",
    "        # Check if the mode is valid\n",
    "        assert mode in ['training', 'validation'], \\\n",
    "            '\"mode\" should be either \"training\" or \"validation\"'\n",
    "        self.mode = mode\n",
    "\n",
    "        # Seed the random generator to results that are reproduceable\n",
    "        # Remove during production\n",
    "        torch.manual_seed(1)\n",
    "\n",
    "        # Get MNIST data\n",
    "        if self.mode == 'training':        \n",
    "            # Define the transformations\n",
    "            #   First convert into a tensor and then normalization\n",
    "            #   Values for normalization where got from \n",
    "            #   https://discuss.pytorch.org/t/normalization-in-the-mnist-example/457\n",
    "            self.transforms = transforms.Compose ([transforms.ToTensor (),\n",
    "                                                   transforms.Normalize((0.1307,), \n",
    "                                                                        (0.3081,))])\n",
    "        \n",
    "            # Download the training set and store it at the root directory\n",
    "            self.data = datasets.MNIST (root='./data/train/',\n",
    "                                               train=True,\n",
    "                                               download=True,\n",
    "                                               transform=self.transforms)\n",
    "            \n",
    "        elif self.mode == 'validation':\n",
    "            # Both the train and validation transforms are the same, but might decide \n",
    "            # to update with some data augmentation methods for train later\n",
    "            # so keeping it seperate\n",
    "            self.transforms = transforms.Compose ([transforms.ToTensor (),\n",
    "                                                   transforms.Normalize((0.1307,), \n",
    "                                                                        (0.3081,))])\n",
    "            \n",
    "            # Get the validation set\n",
    "            self.data = datasets.MNIST (root='./data/val/',\n",
    "                                                  train=False,\n",
    "                                                  download=True,\n",
    "                                                  transform=self.transforms)\n",
    "        \n",
    "\n",
    "    def __len__(self):\n",
    "        ''' Get the total size of the dataset '''\n",
    "        return len (self.data)\n",
    "\n",
    "\n",
    "    def __getitem__(self, index):\n",
    "        ''' Used to get the index-th item from the dataset \n",
    "        \n",
    "        Parameters:\n",
    "            index - Element value to retrieve from the data\n",
    "        '''\n",
    "\n",
    "        # Check if the within the bounds of the data\n",
    "        assert index < len (self.data), 'The index value is out-of-bound'\n",
    "\n",
    "        # Index into the data to get the image and the corresponding label\n",
    "        img, label = self.data [index]\n",
    "\n",
    "        # Return the training set and the corresponding label\n",
    "        return img, label"
   ]
  },
  {
   "cell_type": "markdown",
   "metadata": {
    "id": "_0BWykfE14AM"
   },
   "source": [
    "### Visualize the samples"
   ]
  },
  {
   "cell_type": "code",
   "execution_count": 5,
   "metadata": {
    "colab": {
     "base_uri": "https://localhost:8080/",
     "height": 680,
     "referenced_widgets": [
      "d86aefe55a12401e9b41e7f00fa5df89",
      "5d10f99cadf542279ce990b447d13316",
      "7ee1643fecca44a2addded64f84d9360",
      "f31fed885db1498d861fb77116d9b8f9"
     ]
    },
    "id": "ldtJegVRHNNw",
    "outputId": "e7b1aca1-8209-4045-bd39-9569de493232"
   },
   "outputs": [
    {
     "name": "stdout",
     "output_type": "stream",
     "text": [
      "Downloading http://yann.lecun.com/exdb/mnist/train-images-idx3-ubyte.gz\n",
      "Downloading http://yann.lecun.com/exdb/mnist/train-images-idx3-ubyte.gz to ./data/train/MNIST/raw/train-images-idx3-ubyte.gz\n",
      "Failed to download (trying next):\n",
      "HTTP Error 503: Service Unavailable\n",
      "\n",
      "Downloading https://ossci-datasets.s3.amazonaws.com/mnist/train-images-idx3-ubyte.gz\n",
      "Downloading https://ossci-datasets.s3.amazonaws.com/mnist/train-images-idx3-ubyte.gz to ./data/train/MNIST/raw/train-images-idx3-ubyte.gz\n"
     ]
    },
    {
     "data": {
      "application/vnd.jupyter.widget-view+json": {
       "model_id": "d86aefe55a12401e9b41e7f00fa5df89",
       "version_major": 2,
       "version_minor": 0
      },
      "text/plain": [
       "HBox(children=(FloatProgress(value=0.0, max=9912422.0), HTML(value='')))"
      ]
     },
     "metadata": {
      "tags": []
     },
     "output_type": "display_data"
    },
    {
     "name": "stdout",
     "output_type": "stream",
     "text": [
      "\n",
      "Extracting ./data/train/MNIST/raw/train-images-idx3-ubyte.gz to ./data/train/MNIST/raw\n",
      "\n",
      "Downloading http://yann.lecun.com/exdb/mnist/train-labels-idx1-ubyte.gz\n",
      "Failed to download (trying next):\n",
      "HTTP Error 503: Service Unavailable\n",
      "\n",
      "Downloading https://ossci-datasets.s3.amazonaws.com/mnist/train-labels-idx1-ubyte.gz\n",
      "Downloading https://ossci-datasets.s3.amazonaws.com/mnist/train-labels-idx1-ubyte.gz to ./data/train/MNIST/raw/train-labels-idx1-ubyte.gz\n"
     ]
    },
    {
     "data": {
      "application/vnd.jupyter.widget-view+json": {
       "model_id": "5d10f99cadf542279ce990b447d13316",
       "version_major": 2,
       "version_minor": 0
      },
      "text/plain": [
       "HBox(children=(FloatProgress(value=0.0, max=28881.0), HTML(value='')))"
      ]
     },
     "metadata": {
      "tags": []
     },
     "output_type": "display_data"
    },
    {
     "name": "stdout",
     "output_type": "stream",
     "text": [
      "\n",
      "Extracting ./data/train/MNIST/raw/train-labels-idx1-ubyte.gz to ./data/train/MNIST/raw\n",
      "\n",
      "Downloading http://yann.lecun.com/exdb/mnist/t10k-images-idx3-ubyte.gz\n",
      "Failed to download (trying next):\n",
      "HTTP Error 503: Service Unavailable\n",
      "\n",
      "Downloading https://ossci-datasets.s3.amazonaws.com/mnist/t10k-images-idx3-ubyte.gz\n",
      "Downloading https://ossci-datasets.s3.amazonaws.com/mnist/t10k-images-idx3-ubyte.gz to ./data/train/MNIST/raw/t10k-images-idx3-ubyte.gz\n"
     ]
    },
    {
     "data": {
      "application/vnd.jupyter.widget-view+json": {
       "model_id": "7ee1643fecca44a2addded64f84d9360",
       "version_major": 2,
       "version_minor": 0
      },
      "text/plain": [
       "HBox(children=(FloatProgress(value=0.0, max=1648877.0), HTML(value='')))"
      ]
     },
     "metadata": {
      "tags": []
     },
     "output_type": "display_data"
    },
    {
     "name": "stdout",
     "output_type": "stream",
     "text": [
      "\n",
      "Extracting ./data/train/MNIST/raw/t10k-images-idx3-ubyte.gz to ./data/train/MNIST/raw\n",
      "\n",
      "Downloading http://yann.lecun.com/exdb/mnist/t10k-labels-idx1-ubyte.gz\n",
      "Downloading http://yann.lecun.com/exdb/mnist/t10k-labels-idx1-ubyte.gz to ./data/train/MNIST/raw/t10k-labels-idx1-ubyte.gz\n"
     ]
    },
    {
     "data": {
      "application/vnd.jupyter.widget-view+json": {
       "model_id": "f31fed885db1498d861fb77116d9b8f9",
       "version_major": 2,
       "version_minor": 0
      },
      "text/plain": [
       "HBox(children=(FloatProgress(value=0.0, max=4542.0), HTML(value='')))"
      ]
     },
     "metadata": {
      "tags": []
     },
     "output_type": "display_data"
    },
    {
     "name": "stdout",
     "output_type": "stream",
     "text": [
      "\n",
      "Extracting ./data/train/MNIST/raw/t10k-labels-idx1-ubyte.gz to ./data/train/MNIST/raw\n",
      "\n",
      "Processing...\n",
      "Done!\n"
     ]
    },
    {
     "name": "stderr",
     "output_type": "stream",
     "text": [
      "/usr/local/lib/python3.7/dist-packages/torchvision/datasets/mnist.py:502: UserWarning: The given NumPy array is not writeable, and PyTorch does not support non-writeable tensors. This means you can write to the underlying (supposedly non-writeable) NumPy array using the tensor. You may want to copy the array to protect its data or make it writeable before converting it to a tensor. This type of warning will be suppressed for the rest of this program. (Triggered internally at  /pytorch/torch/csrc/utils/tensor_numpy.cpp:143.)\n",
      "  return torch.from_numpy(parsed.astype(m[2], copy=False)).view(*s)\n"
     ]
    }
   ],
   "source": [
    "# Define an object of the class \n",
    "# Set the \"mode\" to training\n",
    "sample_data = MNISTDataset (mode='training')"
   ]
  },
  {
   "cell_type": "code",
   "execution_count": 6,
   "metadata": {
    "colab": {
     "base_uri": "https://localhost:8080/",
     "height": 862
    },
    "id": "mCfhBQKpK2vE",
    "outputId": "0b83747c-dce0-43b9-f67d-ca49c1b263ed"
   },
   "outputs": [
    {
     "data": {
      "image/png": "[encoded data removed]",
      "text/plain": [
       "<Figure size 1080x1080 with 50 Axes>"
      ]
     },
     "metadata": {
      "tags": []
     },
     "output_type": "display_data"
    }
   ],
   "source": [
    "plt.style.use ('dark_background') # Dark mode rocks!!!\n",
    "\n",
    "# Display random images from the dataset\n",
    "fig = plt.figure(figsize=(15, 15))\n",
    "grid = ImageGrid(fig, 111, \n",
    "                 nrows_ncols=(5, 5),\n",
    "                 axes_pad=0.1)\n",
    "\n",
    "for ax, idx in zip (grid, torch.randint (0, len (sample_data), size=(1, 25))[0]):\n",
    "    # Get the image and label\n",
    "    img, label = sample_data [idx]\n",
    "\n",
    "    # Display the image with the label\n",
    "    ax.imshow (img.view (28, 28), cmap='gray')\n",
    "    ax.set_title (f'Label - {label}')\n",
    "    ax.axis ('off');"
   ]
  },
  {
   "cell_type": "markdown",
   "metadata": {
    "id": "eFKazYFMLLMk"
   },
   "source": [
    "### Explore the data\n",
    "Try to find if optimal receptive field after which MaxPooling can be applied. Ideally for an image of size `400x400`, we would have to go uptill `11x11` to detect most of the required edges/gradients but since the size of the image is `28x28`, the required RF would be around `5x5` or `7x7`."
   ]
  },
  {
   "cell_type": "code",
   "execution_count": 7,
   "metadata": {
    "id": "cv6dqr7QLLMk"
   },
   "outputs": [],
   "source": [
    "# For a sample of 1000 random images, compute the number of pixels horizontally and veritically\n",
    "# to get what the size of the Receptive Field should be before applying MaxPooling\n",
    "\n",
    "# Define the number of samples\n",
    "no_of_samples = 1000\n",
    "\n",
    "# Get `no_of_samples` images and compute RF size required\n",
    "# To do so, calculate the distance (in pixels) of the lowest point to the \n",
    "# highest point, vertically and horizontally\n",
    "\n",
    "# Store the results\n",
    "horizontal_distance, vertical_distance = {}, {}\n",
    "\n",
    "# Iterate through the samples\n",
    "for idx in torch.randint (0, len (sample_data), size=(1, no_of_samples))[0]:\n",
    "    # Get the image and label\n",
    "    img, label = sample_data [idx]\n",
    "\n",
    "    # Compute the vertical distance\n",
    "    # Check for values that are not equal to the min (i.e. the background)\n",
    "    # Since most of the values are the background values, this approach would be faster compute\n",
    "    horizontal, vertical = np.where (img.reshape (28, 28) != img.min ())\n",
    "\n",
    "    # Start with horizontal distance\n",
    "    i, prev_ele = 0, horizontal [0]\n",
    "    for j, ele in enumerate (horizontal):\n",
    "        if ele != prev_ele:\n",
    "            # Compute and store the distance\n",
    "            try:\n",
    "                horizontal_distance [label].append (j-i)\n",
    "            except KeyError:\n",
    "                horizontal_distance [label] = [j-i]\n",
    "\n",
    "            # Save the results of the all the digits\n",
    "            try:\n",
    "                horizontal_distance ['all'].append (j-i)\n",
    "            except KeyError:\n",
    "                horizontal_distance ['all'] = [j-i]\n",
    "\n",
    "            # Update the index\n",
    "            i, prev_ele = j, ele\n",
    "\n",
    "    # Calculate for vertical\n",
    "    i, prev_ele = 0, vertical [0]\n",
    "    for j, ele in enumerate (vertical):\n",
    "        if ele != prev_ele+(j-i):\n",
    "            # Compute and store the distance\n",
    "            try:\n",
    "                vertical_distance [label].append (j-i)\n",
    "            except KeyError:\n",
    "                vertical_distance [label] = [j-i]\n",
    "\n",
    "            # Save the results of the all the digits\n",
    "            try:\n",
    "                vertical_distance ['all'].append (j-i)\n",
    "            except KeyError:\n",
    "                vertical_distance ['all'] = [j-i]\n",
    "\n",
    "            # Update the index\n",
    "            i, prev_ele = j, ele"
   ]
  },
  {
   "cell_type": "code",
   "execution_count": 8,
   "metadata": {
    "colab": {
     "base_uri": "https://localhost:8080/",
     "height": 1000
    },
    "id": "Mc2rJ45eYpD8",
    "outputId": "d96aea1e-ae93-4570-aba3-45a671c68cc9"
   },
   "outputs": [
    {
     "name": "stderr",
     "output_type": "stream",
     "text": [
      "/usr/local/lib/python3.7/dist-packages/seaborn/distributions.py:2557: FutureWarning: `distplot` is a deprecated function and will be removed in a future version. Please adapt your code to use either `displot` (a figure-level function with similar flexibility) or `histplot` (an axes-level function for histograms).\n",
      "  warnings.warn(msg, FutureWarning)\n",
      "/usr/local/lib/python3.7/dist-packages/seaborn/distributions.py:2557: FutureWarning: `distplot` is a deprecated function and will be removed in a future version. Please adapt your code to use either `displot` (a figure-level function with similar flexibility) or `histplot` (an axes-level function for histograms).\n",
      "  warnings.warn(msg, FutureWarning)\n",
      "/usr/local/lib/python3.7/dist-packages/seaborn/distributions.py:2557: FutureWarning: `distplot` is a deprecated function and will be removed in a future version. Please adapt your code to use either `displot` (a figure-level function with similar flexibility) or `histplot` (an axes-level function for histograms).\n",
      "  warnings.warn(msg, FutureWarning)\n",
      "/usr/local/lib/python3.7/dist-packages/seaborn/distributions.py:2557: FutureWarning: `distplot` is a deprecated function and will be removed in a future version. Please adapt your code to use either `displot` (a figure-level function with similar flexibility) or `histplot` (an axes-level function for histograms).\n",
      "  warnings.warn(msg, FutureWarning)\n",
      "/usr/local/lib/python3.7/dist-packages/seaborn/distributions.py:2557: FutureWarning: `distplot` is a deprecated function and will be removed in a future version. Please adapt your code to use either `displot` (a figure-level function with similar flexibility) or `histplot` (an axes-level function for histograms).\n",
      "  warnings.warn(msg, FutureWarning)\n",
      "/usr/local/lib/python3.7/dist-packages/seaborn/distributions.py:2557: FutureWarning: `distplot` is a deprecated function and will be removed in a future version. Please adapt your code to use either `displot` (a figure-level function with similar flexibility) or `histplot` (an axes-level function for histograms).\n",
      "  warnings.warn(msg, FutureWarning)\n",
      "/usr/local/lib/python3.7/dist-packages/seaborn/distributions.py:2557: FutureWarning: `distplot` is a deprecated function and will be removed in a future version. Please adapt your code to use either `displot` (a figure-level function with similar flexibility) or `histplot` (an axes-level function for histograms).\n",
      "  warnings.warn(msg, FutureWarning)\n",
      "/usr/local/lib/python3.7/dist-packages/seaborn/distributions.py:2557: FutureWarning: `distplot` is a deprecated function and will be removed in a future version. Please adapt your code to use either `displot` (a figure-level function with similar flexibility) or `histplot` (an axes-level function for histograms).\n",
      "  warnings.warn(msg, FutureWarning)\n",
      "/usr/local/lib/python3.7/dist-packages/seaborn/distributions.py:2557: FutureWarning: `distplot` is a deprecated function and will be removed in a future version. Please adapt your code to use either `displot` (a figure-level function with similar flexibility) or `histplot` (an axes-level function for histograms).\n",
      "  warnings.warn(msg, FutureWarning)\n",
      "/usr/local/lib/python3.7/dist-packages/seaborn/distributions.py:2557: FutureWarning: `distplot` is a deprecated function and will be removed in a future version. Please adapt your code to use either `displot` (a figure-level function with similar flexibility) or `histplot` (an axes-level function for histograms).\n",
      "  warnings.warn(msg, FutureWarning)\n",
      "/usr/local/lib/python3.7/dist-packages/seaborn/distributions.py:2557: FutureWarning: `distplot` is a deprecated function and will be removed in a future version. Please adapt your code to use either `displot` (a figure-level function with similar flexibility) or `histplot` (an axes-level function for histograms).\n",
      "  warnings.warn(msg, FutureWarning)\n"
     ]
    },
    {
     "data": {
      "image/png": "[encoded data removed]",
      "text/plain": [
       "<Figure size 1440x1080 with 11 Axes>"
      ]
     },
     "metadata": {
      "tags": []
     },
     "output_type": "display_data"
    }
   ],
   "source": [
    "# Iterate through each labels to and display the results\n",
    "plt.figure(figsize=(20, 15))\n",
    "\n",
    "for i, k in enumerate (sorted (horizontal_distance.keys (), key=lambda x: str (x)[0]), start=1):\n",
    "    plt.subplot (3, 4, i)\n",
    "    sns.distplot (horizontal_distance [k])\n",
    "    plt.xticks (range (20))\n",
    "    plt.title (k)"
   ]
  },
  {
   "cell_type": "markdown",
   "metadata": {
    "id": "tltEx8EufTy4"
   },
   "source": [
    "**As seen above, most of the edges can be captured with `5x5`/`7x7` (Refer to the peak of the curve). So instead of having more layers, we can limit each block when this RF is reached.**"
   ]
  },
  {
   "cell_type": "markdown",
   "metadata": {
    "id": "cu4Y5itFDM-s"
   },
   "source": [
    "### Load the data\n",
    "Define the data loaders for train and test with $batch\\_size = 128$."
   ]
  },
  {
   "cell_type": "code",
   "execution_count": 9,
   "metadata": {
    "colab": {
     "base_uri": "https://localhost:8080/",
     "height": 712,
     "referenced_widgets": [
      "fbae64ea160641018281d88797560e16",
      "f82b87b812d5456da2355b6d303a32c8",
      "b9b118a90cf64ade9205e435b213862b",
      "38120c46567b4facb29ab7e5d0e1d269"
     ]
    },
    "id": "DqTWLaM5GHgH",
    "outputId": "6415f073-8689-4669-ccbb-b175f6d0d473"
   },
   "outputs": [
    {
     "name": "stdout",
     "output_type": "stream",
     "text": [
      "Downloading http://yann.lecun.com/exdb/mnist/train-images-idx3-ubyte.gz\n",
      "Downloading http://yann.lecun.com/exdb/mnist/train-images-idx3-ubyte.gz to ./data/val/MNIST/raw/train-images-idx3-ubyte.gz\n",
      "Failed to download (trying next):\n",
      "HTTP Error 503: Service Unavailable\n",
      "\n",
      "Downloading https://ossci-datasets.s3.amazonaws.com/mnist/train-images-idx3-ubyte.gz\n",
      "Downloading https://ossci-datasets.s3.amazonaws.com/mnist/train-images-idx3-ubyte.gz to ./data/val/MNIST/raw/train-images-idx3-ubyte.gz\n"
     ]
    },
    {
     "data": {
      "application/vnd.jupyter.widget-view+json": {
       "model_id": "fbae64ea160641018281d88797560e16",
       "version_major": 2,
       "version_minor": 0
      },
      "text/plain": [
       "HBox(children=(FloatProgress(value=0.0, max=9912422.0), HTML(value='')))"
      ]
     },
     "metadata": {
      "tags": []
     },
     "output_type": "display_data"
    },
    {
     "name": "stdout",
     "output_type": "stream",
     "text": [
      "\n",
      "Extracting ./data/val/MNIST/raw/train-images-idx3-ubyte.gz to ./data/val/MNIST/raw\n",
      "\n",
      "Downloading http://yann.lecun.com/exdb/mnist/train-labels-idx1-ubyte.gz\n",
      "Failed to download (trying next):\n",
      "HTTP Error 503: Service Unavailable\n",
      "\n",
      "Downloading https://ossci-datasets.s3.amazonaws.com/mnist/train-labels-idx1-ubyte.gz\n",
      "Downloading https://ossci-datasets.s3.amazonaws.com/mnist/train-labels-idx1-ubyte.gz to ./data/val/MNIST/raw/train-labels-idx1-ubyte.gz\n"
     ]
    },
    {
     "data": {
      "application/vnd.jupyter.widget-view+json": {
       "model_id": "f82b87b812d5456da2355b6d303a32c8",
       "version_major": 2,
       "version_minor": 0
      },
      "text/plain": [
       "HBox(children=(FloatProgress(value=0.0, max=28881.0), HTML(value='')))"
      ]
     },
     "metadata": {
      "tags": []
     },
     "output_type": "display_data"
    },
    {
     "name": "stdout",
     "output_type": "stream",
     "text": [
      "\n",
      "Extracting ./data/val/MNIST/raw/train-labels-idx1-ubyte.gz to ./data/val/MNIST/raw\n",
      "\n",
      "Downloading http://yann.lecun.com/exdb/mnist/t10k-images-idx3-ubyte.gz\n",
      "Downloading http://yann.lecun.com/exdb/mnist/t10k-images-idx3-ubyte.gz to ./data/val/MNIST/raw/t10k-images-idx3-ubyte.gz\n",
      "Failed to download (trying next):\n",
      "HTTP Error 503: Service Unavailable\n",
      "\n",
      "Downloading https://ossci-datasets.s3.amazonaws.com/mnist/t10k-images-idx3-ubyte.gz\n",
      "Downloading https://ossci-datasets.s3.amazonaws.com/mnist/t10k-images-idx3-ubyte.gz to ./data/val/MNIST/raw/t10k-images-idx3-ubyte.gz\n"
     ]
    },
    {
     "data": {
      "application/vnd.jupyter.widget-view+json": {
       "model_id": "b9b118a90cf64ade9205e435b213862b",
       "version_major": 2,
       "version_minor": 0
      },
      "text/plain": [
       "HBox(children=(FloatProgress(value=0.0, max=1648877.0), HTML(value='')))"
      ]
     },
     "metadata": {
      "tags": []
     },
     "output_type": "display_data"
    },
    {
     "name": "stdout",
     "output_type": "stream",
     "text": [
      "\n",
      "Extracting ./data/val/MNIST/raw/t10k-images-idx3-ubyte.gz to ./data/val/MNIST/raw\n",
      "\n",
      "Downloading http://yann.lecun.com/exdb/mnist/t10k-labels-idx1-ubyte.gz\n",
      "Failed to download (trying next):\n",
      "HTTP Error 503: Service Unavailable\n",
      "\n",
      "Downloading https://ossci-datasets.s3.amazonaws.com/mnist/t10k-labels-idx1-ubyte.gz\n",
      "Downloading https://ossci-datasets.s3.amazonaws.com/mnist/t10k-labels-idx1-ubyte.gz to ./data/val/MNIST/raw/t10k-labels-idx1-ubyte.gz\n"
     ]
    },
    {
     "data": {
      "application/vnd.jupyter.widget-view+json": {
       "model_id": "38120c46567b4facb29ab7e5d0e1d269",
       "version_major": 2,
       "version_minor": 0
      },
      "text/plain": [
       "HBox(children=(FloatProgress(value=0.0, max=4542.0), HTML(value='')))"
      ]
     },
     "metadata": {
      "tags": []
     },
     "output_type": "display_data"
    },
    {
     "name": "stdout",
     "output_type": "stream",
     "text": [
      "\n",
      "Extracting ./data/val/MNIST/raw/t10k-labels-idx1-ubyte.gz to ./data/val/MNIST/raw\n",
      "\n",
      "Processing...\n",
      "Done!\n"
     ]
    }
   ],
   "source": [
    "# Seed the random generator used by PyTorch\n",
    "# so that the results are reproduceable\n",
    "torch.manual_seed(1)\n",
    "\n",
    "# Define the batch size to be used\n",
    "# i.e. the number of images to be used per batch\n",
    "batch_size = 128\n",
    "\n",
    "# Set it to use GPU if available\n",
    "use_cuda = torch.cuda.is_available()\n",
    "device = torch.device(\"cuda\" if use_cuda else \"cpu\")\n",
    "\n",
    "# Define a dataloader \n",
    "# Set the batch_size and shuffle to select\n",
    "# random images for every batch and epoch\n",
    "\n",
    "# Parameters to be used while loading the data\n",
    "kwargs = {'num_workers': 1, 'pin_memory': True} if use_cuda else {}\n",
    "\n",
    "train_loader = DataLoader (MNISTDataset (mode='training'),\n",
    "                           batch_size=batch_size,\n",
    "                           shuffle=True,\n",
    "                           **kwargs)\n",
    "\n",
    "test_loader = DataLoader (MNISTDataset (mode='validation'),\n",
    "                           batch_size=batch_size,\n",
    "                           shuffle=True,\n",
    "                           **kwargs)"
   ]
  },
  {
   "cell_type": "markdown",
   "metadata": {
    "id": "YcSO_bFdUQz4"
   },
   "source": [
    "## Define the network architecture\n",
    "The architecture should be able to predict the digit using the image from MNIST with the constraints applied\n"
   ]
  },
  {
   "cell_type": "code",
   "execution_count": 18,
   "metadata": {
    "id": "h_Cx9q2QFgM7"
   },
   "outputs": [],
   "source": [
    "class MNISTNet(nn.Module):\n",
    "    ''' Define a class initializing the layers constituting the required \n",
    "    CNN Architecture and the code for forward pass\n",
    "    Note: The class extends to the nn.Module, which is a base class for \n",
    "    Neural Network modules in PyTorch https://pytorch.org/docs/stable/generated/torch.nn.Module.html\n",
    "    '''\n",
    "\n",
    "    def __init__(self, drop_perc=0.069):\n",
    "        ''' Define the layers that constitute the network and\n",
    "        initialize the base class '''\n",
    "\n",
    "        # Start by initializing the base class\n",
    "        super().__init__()\n",
    "\n",
    "        # Store the dropout percentage\n",
    "        self.drop_perc = drop_perc\n",
    "    \n",
    "        # Define the layers that make up the network\n",
    "        # i.e. the Network Architecture\n",
    "        # nn.Conv2d - Used to perform 2-dimensional convolution using the defined size of the kernel\n",
    "        # nn.MaxPool2d - 2d MaxPooling Layer of the defined size\n",
    "\n",
    "        # MNIST contains images of size 28x28\n",
    "        # Since the images are padded, the resultant images after convolution\n",
    "        # would have the same size\n",
    "        # Block 1\n",
    "        self.conv1 = nn.Conv2d(1, 16, 3, padding=1, bias=False) # Input: 28x28x1; Output: 28x28x8; RF: 3x3\n",
    "        self.bn1 = nn.BatchNorm2d (16)\n",
    "        self.conv2 = nn.Conv2d(16, 32, 3, padding=1, bias=False) # Input: 28x28x8; Output: 28x28x16; RF: 5x5\n",
    "        self.bn2 = nn.BatchNorm2d (32)\n",
    "        #self.conv3 = nn.Conv2d(32, 64, 3, padding=1, bias=False) # Input: 28x28x16; Output: 28x28x32; RF: 7x7\n",
    "        #self.bn3 = nn.BatchNorm2d (64)\n",
    "        self.pool1 = nn.MaxPool2d(2, 2) # Input: 28x28x64; Output: 14x14x64; RF: 14x14\n",
    "        self.one1 = nn.Conv2d (32, 8, 1, bias=False) # 1x1 conv; summarize the channels\n",
    "\n",
    "\n",
    "        # Block 2\n",
    "        self.conv4 = nn.Conv2d(8, 16, 3, padding=1, bias=False) # Input: 14x14x64; Output: 14x14x128; RF: 12x12 \n",
    "        self.bn4 = nn.BatchNorm2d (16)\n",
    "        #self.one_conv4 = nn.Conv2d (16, 16, 1, bias=False)\n",
    "        self.conv5 = nn.Conv2d(16, 32, 3, padding=1, bias=False) # Input: 14x14x128; Output: 14x14x256; RF: 14x14 \n",
    "        self.bn5 = nn.BatchNorm2d (32)\n",
    "        self.pool2 = nn.MaxPool2d(2, 2) # Input: 14x14x256; Output: 7x7x256; RF: 24x24\n",
    "        self.one2 = nn.Conv2d (32, 8, 1, bias=False) # 1x1 conv\n",
    "\n",
    "\n",
    "        # Block 3\n",
    "        self.conv6 = nn.Conv2d(8, 16, 3, padding=1, bias=False) # Input: 7x7x256; Output: 5x5x512; RF: 26x26\n",
    "        self.bn6 = nn.BatchNorm2d (16)\n",
    "        #self.one_conv6 = nn.Conv2d (32, 16, 1, bias=False)\n",
    "        self.conv7 = nn.Conv2d(16, 32, 3, padding=1, bias=False) # Input: 5x5x512; Output: 3x3x1024; RF: 28x28\n",
    "        self.bn7 = nn.BatchNorm2d (32)\n",
    "\n",
    "        # Global Average Pooling\n",
    "        self.gap = nn.AvgPool2d (7) # Input: 7x7x32; Output: 1x1x32;\n",
    "        self.fc1 = nn.Linear (32, 64, bias=False)\n",
    "        self.fc2 = nn.Linear (64, 10, bias=False)\n",
    "\n",
    "        \n",
    "    def forward(self, x):\n",
    "        ''' Define the forward pass\n",
    "        Each convolution layer is activated using ReLU to add non-linearity\n",
    "        '''\n",
    "        # Convolution layer followed by ReLU Activation, followed by Batch Normalization\n",
    "        # followed by Dropout and then finally a pooling layer\n",
    "        # Block 1\n",
    "        x = F.dropout2d (self.bn1 (F.relu (self.conv1 (x))), self.drop_perc)\n",
    "        x = F.dropout2d (self.bn2 (F.relu (self.conv2 (x))), self.drop_perc)\n",
    "        #x = F.dropout2d (self.bn3 (F.relu (self.conv3 (x))), self.drop_perc)\n",
    "        x = self.one1 (self.pool1 (x))\n",
    "\n",
    "        # Convolution layer followed by ReLU Activation, followed by Batch Normalization\n",
    "        # followed by Dropout and then finally a pooling layer\n",
    "        # Block 2\n",
    "        x = F.dropout2d (self.bn4 (F.relu (self.conv4 (x))), self.drop_perc)\n",
    "        #x = self.one_conv4 (x)\n",
    "        x = F.dropout2d (self.bn5 (F.relu (self.conv5 (x))), self.drop_perc)\n",
    "        x = self.one2 (self.pool2 (x))\n",
    "        \n",
    "        # Convolution layer followed by ReLU Activation, followed by Batch Normalization\n",
    "        # followed by Dropout and then finally a pooling layer\n",
    "        # Block 3\n",
    "        x = F.dropout2d (self.bn6 (F.relu (self.conv6 (x))), self.drop_perc)\n",
    "        #x = self.one_conv6 (x)\n",
    "        x = F.dropout2d (self.bn7 (F.relu (self.conv7 (x))), self.drop_perc)\n",
    "\n",
    "        # The final layer shouldn't be passed through ReLU, but should be retained\n",
    "        # Using Global Average Pooling to reduce the final output size\n",
    "        x = self.gap (x)\n",
    "\n",
    "        # Pass through a few FC layers to get the output\n",
    "        x = F.dropout (F.relu (self.fc1 (x.view (-1, 32))), self.drop_perc)\n",
    "        x = self.fc2 (x)\n",
    "\n",
    "        # Reshape to fit the output and return\n",
    "        x = x.view(-1, 10)\n",
    "        return F.log_softmax(x)"
   ]
  },
  {
   "cell_type": "code",
   "execution_count": 19,
   "metadata": {
    "colab": {
     "base_uri": "https://localhost:8080/"
    },
    "id": "xdydjYTZFyi3",
    "outputId": "985f4058-0a3d-4da8-dbf8-29f1302cc4d6"
   },
   "outputs": [
    {
     "name": "stdout",
     "output_type": "stream",
     "text": [
      "Requirement already satisfied: torchsummary in /usr/local/lib/python3.7/dist-packages (1.5.1)\n",
      "----------------------------------------------------------------\n",
      "        Layer (type)               Output Shape         Param #\n",
      "================================================================\n",
      "            Conv2d-1           [-1, 16, 28, 28]             144\n",
      "       BatchNorm2d-2           [-1, 16, 28, 28]              32\n",
      "            Conv2d-3           [-1, 32, 28, 28]           4,608\n",
      "       BatchNorm2d-4           [-1, 32, 28, 28]              64\n",
      "         MaxPool2d-5           [-1, 32, 14, 14]               0\n",
      "            Conv2d-6            [-1, 8, 14, 14]             256\n",
      "            Conv2d-7           [-1, 16, 14, 14]           1,152\n",
      "       BatchNorm2d-8           [-1, 16, 14, 14]              32\n",
      "            Conv2d-9           [-1, 32, 14, 14]           4,608\n",
      "      BatchNorm2d-10           [-1, 32, 14, 14]              64\n",
      "        MaxPool2d-11             [-1, 32, 7, 7]               0\n",
      "           Conv2d-12              [-1, 8, 7, 7]             256\n",
      "           Conv2d-13             [-1, 16, 7, 7]           1,152\n",
      "      BatchNorm2d-14             [-1, 16, 7, 7]              32\n",
      "           Conv2d-15             [-1, 32, 7, 7]           4,608\n",
      "      BatchNorm2d-16             [-1, 32, 7, 7]              64\n",
      "        AvgPool2d-17             [-1, 32, 1, 1]               0\n",
      "           Linear-18                   [-1, 64]           2,048\n",
      "           Linear-19                   [-1, 10]             640\n",
      "================================================================\n",
      "Total params: 19,760\n",
      "Trainable params: 19,760\n",
      "Non-trainable params: 0\n",
      "----------------------------------------------------------------\n",
      "Input size (MB): 0.00\n",
      "Forward/backward pass size (MB): 0.83\n",
      "Params size (MB): 0.08\n",
      "Estimated Total Size (MB): 0.91\n",
      "----------------------------------------------------------------\n"
     ]
    },
    {
     "name": "stderr",
     "output_type": "stream",
     "text": [
      "/usr/local/lib/python3.7/dist-packages/ipykernel_launcher.py:97: UserWarning: Implicit dimension choice for log_softmax has been deprecated. Change the call to include dim=X as an argument.\n"
     ]
    }
   ],
   "source": [
    "# To display an overview/summary of the network\n",
    "# Is also useful to validate whether the structure of the network is \n",
    "# correct, i.e. the input channels and the output channels and its flow\n",
    "!pip install torchsummary\n",
    "from torchsummary import summary\n",
    "\n",
    "# Create a model object\n",
    "model = MNISTNet(drop_perc=0.01).to(device)\n",
    "summary(model, input_size=(1, 28, 28))"
   ]
  },
  {
   "cell_type": "markdown",
   "metadata": {
    "id": "6o8uCexBDQw4"
   },
   "source": [
    "### Train and Validate"
   ]
  },
  {
   "cell_type": "code",
   "execution_count": 33,
   "metadata": {
    "id": "8fDefDhaFlwH"
   },
   "outputs": [],
   "source": [
    "# TQDM is just awesome... provides a progress status bar as the training \n",
    "# (or any operation) proceeds\n",
    "from tqdm import tqdm\n",
    "\n",
    "def test(model, device, test_loader, set_name='Test'):\n",
    "    ''' Validate the trained model on a hold-out set '''\n",
    "\n",
    "    # Set the model to evalution mode\n",
    "    model.eval()\n",
    "\n",
    "    # Initialize the losses\n",
    "    # and the no of correct predictions to 0\n",
    "    test_loss = 0\n",
    "    correct = 0\n",
    "\n",
    "    # Disable the gradient computations\n",
    "    # While evaulating only forward pass is used and the backward pass\n",
    "    # along with the gradient (likewise the gradient update) isn't required\n",
    "    with torch.no_grad():\n",
    "        # Iterate over the test/validation set\n",
    "        for data, target in test_loader:\n",
    "            # Converting the data to the required type \n",
    "            # (PyTorch Cuda Tensor while using GPU)\n",
    "            # Convert the target from one-hot encoded vector to an it\n",
    "            data = data.to(device)\n",
    "            target = target.to(device)\n",
    "\n",
    "            # Get the predictions\n",
    "            output = model(data)\n",
    "\n",
    "            # Compute the loss against the target\n",
    "            test_loss += F.nll_loss(output, target, reduction='sum').item()  # sum up batch loss\n",
    "\n",
    "            # Get the index of the prediction\n",
    "            # i.e. the output is one-hot encoded, so get the argument with the max\n",
    "            # log probability\n",
    "            pred = output.argmax(dim=1, keepdim=True)  # get the index of the max log-probability\n",
    "\n",
    "            # Get a count of the correct preditcions\n",
    "            correct += pred.eq(target.view_as(pred)).sum().item()\n",
    "\n",
    "    # Compute the final loss on the test/validation data\n",
    "    test_loss /= len(test_loader.dataset)\n",
    "\n",
    "    # Display the results\n",
    "    print('\\n{} set: Average loss: {:.4f}, Accuracy: {}/{} ({:.2f}%)\\n'.format(\n",
    "        set_name, test_loss, correct, len(test_loader.dataset),\n",
    "        100. * correct / len(test_loader.dataset)))\n",
    "    \n",
    "    # Return the loss\n",
    "    # Can be used to update the learning rate\n",
    "    return test_loss\n",
    "\n",
    "\n",
    "def train(model, device, train_loader, optimizer, epoch, scheduler=None):\n",
    "    ''' Define the training steps '''\n",
    "\n",
    "    # Set the model to training mode\n",
    "    model.train()\n",
    "\n",
    "    # Initialize the progress bar\n",
    "    pbar = tqdm(train_loader)\n",
    "\n",
    "    # Init the correct predictions to 0\n",
    "    correct = 0\n",
    "\n",
    "    # Start iterating through the training data\n",
    "    for batch_idx, (data, target) in enumerate(pbar):\n",
    "        # Start by converting the data to the required type \n",
    "        # (PyTorch CUDA Tensor while using GPU)\n",
    "        # Convert the target from one-hot encoded vector to an it\n",
    "        data = data.to(device)\n",
    "        target = target.to(device)\n",
    "\n",
    "        # Discard/reset the gradients from the previous iteration\n",
    "        optimizer.zero_grad()\n",
    "\n",
    "        # Get the predictions for the given data\n",
    "        output = model(data)\n",
    "\n",
    "        # Compute the negative loss likelihood of the predictions vs the actuals\n",
    "        # and propogate the loss backwards (back propogation)\n",
    "        loss = F.nll_loss(output, target)\n",
    "        loss.backward()\n",
    "\n",
    "        # Use the optimizer to take a step in the -ve of the gradient direction\n",
    "        # by the amount equal to the gradient magnitude times the learning rate \n",
    "        optimizer.step()\n",
    "\n",
    "        # Update the progress bar\n",
    "        pbar.set_description(desc=f'Loss={loss.item():.4f}; Batch_id={batch_idx}; ' + \\\n",
    "                             f'Learning Rate={optimizer.param_groups[0][\"lr\"]:.4f}')\n",
    "\n",
    "    # Update the learning rate after each training cycle\n",
    "    if scheduler:\n",
    "        scheduler.step ()\n",
    "\n",
    "    # Get the correct prediction to calculate the training accuracy\n",
    "    test (model, device, train_loader, set_name='Train')"
   ]
  },
  {
   "cell_type": "code",
   "execution_count": 36,
   "metadata": {
    "colab": {
     "base_uri": "https://localhost:8080/"
    },
    "id": "MMWbLWO6FuHb",
    "outputId": "159afbae-37ff-4484-8c35-022acdf11d21"
   },
   "outputs": [
    {
     "name": "stderr",
     "output_type": "stream",
     "text": [
      "  0%|          | 0/469 [00:00<?, ?it/s]"
     ]
    },
    {
     "name": "stdout",
     "output_type": "stream",
     "text": [
      "Adjusting learning rate of group 0 to 5.0000e-02.\n",
      "Iteration 1\n"
     ]
    },
    {
     "name": "stderr",
     "output_type": "stream",
     "text": [
      "/usr/local/lib/python3.7/dist-packages/ipykernel_launcher.py:97: UserWarning: Implicit dimension choice for log_softmax has been deprecated. Change the call to include dim=X as an argument.\n",
      "Loss=0.2365; Batch_id=468; Learning Rate=0.0500: 100%|██████████| 469/469 [00:12<00:00, 37.73it/s]"
     ]
    },
    {
     "name": "stdout",
     "output_type": "stream",
     "text": [
      "Adjusting learning rate of group 0 to 5.0000e-02.\n"
     ]
    },
    {
     "name": "stderr",
     "output_type": "stream",
     "text": [
      "\n"
     ]
    },
    {
     "name": "stdout",
     "output_type": "stream",
     "text": [
      "\n",
      "Train set: Average loss: 0.0841, Accuracy: 58510/60000 (97.52%)\n",
      "\n"
     ]
    },
    {
     "name": "stderr",
     "output_type": "stream",
     "text": [
      "  0%|          | 0/469 [00:00<?, ?it/s]"
     ]
    },
    {
     "name": "stdout",
     "output_type": "stream",
     "text": [
      "\n",
      "Test set: Average loss: 0.0838, Accuracy: 9744/10000 (97.44%)\n",
      "\n",
      "\n",
      "\n",
      "Iteration 2\n"
     ]
    },
    {
     "name": "stderr",
     "output_type": "stream",
     "text": [
      "Loss=0.0631; Batch_id=468; Learning Rate=0.0500: 100%|██████████| 469/469 [00:12<00:00, 37.65it/s]"
     ]
    },
    {
     "name": "stdout",
     "output_type": "stream",
     "text": [
      "Adjusting learning rate of group 0 to 5.0000e-02.\n"
     ]
    },
    {
     "name": "stderr",
     "output_type": "stream",
     "text": [
      "\n"
     ]
    },
    {
     "name": "stdout",
     "output_type": "stream",
     "text": [
      "\n",
      "Train set: Average loss: 0.0523, Accuracy: 59025/60000 (98.38%)\n",
      "\n"
     ]
    },
    {
     "name": "stderr",
     "output_type": "stream",
     "text": [
      "  0%|          | 0/469 [00:00<?, ?it/s]"
     ]
    },
    {
     "name": "stdout",
     "output_type": "stream",
     "text": [
      "\n",
      "Test set: Average loss: 0.0559, Accuracy: 9822/10000 (98.22%)\n",
      "\n",
      "\n",
      "\n",
      "Iteration 3\n"
     ]
    },
    {
     "name": "stderr",
     "output_type": "stream",
     "text": [
      "Loss=0.1036; Batch_id=468; Learning Rate=0.0500: 100%|██████████| 469/469 [00:12<00:00, 38.02it/s]"
     ]
    },
    {
     "name": "stdout",
     "output_type": "stream",
     "text": [
      "Adjusting learning rate of group 0 to 5.0000e-02.\n"
     ]
    },
    {
     "name": "stderr",
     "output_type": "stream",
     "text": [
      "\n"
     ]
    },
    {
     "name": "stdout",
     "output_type": "stream",
     "text": [
      "\n",
      "Train set: Average loss: 0.0513, Accuracy: 59025/60000 (98.38%)\n",
      "\n"
     ]
    },
    {
     "name": "stderr",
     "output_type": "stream",
     "text": [
      "  0%|          | 0/469 [00:00<?, ?it/s]"
     ]
    },
    {
     "name": "stdout",
     "output_type": "stream",
     "text": [
      "\n",
      "Test set: Average loss: 0.0493, Accuracy: 9848/10000 (98.48%)\n",
      "\n",
      "\n",
      "\n",
      "Iteration 4\n"
     ]
    },
    {
     "name": "stderr",
     "output_type": "stream",
     "text": [
      "Loss=0.0086; Batch_id=468; Learning Rate=0.0500: 100%|██████████| 469/469 [00:12<00:00, 37.02it/s]"
     ]
    },
    {
     "name": "stdout",
     "output_type": "stream",
     "text": [
      "Adjusting learning rate of group 0 to 5.0000e-02.\n"
     ]
    },
    {
     "name": "stderr",
     "output_type": "stream",
     "text": [
      "\n"
     ]
    },
    {
     "name": "stdout",
     "output_type": "stream",
     "text": [
      "\n",
      "Train set: Average loss: 0.0283, Accuracy: 59466/60000 (99.11%)\n",
      "\n"
     ]
    },
    {
     "name": "stderr",
     "output_type": "stream",
     "text": [
      "  0%|          | 0/469 [00:00<?, ?it/s]"
     ]
    },
    {
     "name": "stdout",
     "output_type": "stream",
     "text": [
      "\n",
      "Test set: Average loss: 0.0346, Accuracy: 9890/10000 (98.90%)\n",
      "\n",
      "\n",
      "\n",
      "Iteration 5\n"
     ]
    },
    {
     "name": "stderr",
     "output_type": "stream",
     "text": [
      "Loss=0.0160; Batch_id=468; Learning Rate=0.0500: 100%|██████████| 469/469 [00:12<00:00, 38.34it/s]"
     ]
    },
    {
     "name": "stdout",
     "output_type": "stream",
     "text": [
      "Adjusting learning rate of group 0 to 5.0000e-02.\n"
     ]
    },
    {
     "name": "stderr",
     "output_type": "stream",
     "text": [
      "\n"
     ]
    },
    {
     "name": "stdout",
     "output_type": "stream",
     "text": [
      "\n",
      "Train set: Average loss: 0.0224, Accuracy: 59596/60000 (99.33%)\n",
      "\n"
     ]
    },
    {
     "name": "stderr",
     "output_type": "stream",
     "text": [
      "  0%|          | 0/469 [00:00<?, ?it/s]"
     ]
    },
    {
     "name": "stdout",
     "output_type": "stream",
     "text": [
      "\n",
      "Test set: Average loss: 0.0284, Accuracy: 9912/10000 (99.12%)\n",
      "\n",
      "\n",
      "\n",
      "Iteration 6\n"
     ]
    },
    {
     "name": "stderr",
     "output_type": "stream",
     "text": [
      "Loss=0.0863; Batch_id=468; Learning Rate=0.0500: 100%|██████████| 469/469 [00:12<00:00, 37.73it/s]"
     ]
    },
    {
     "name": "stdout",
     "output_type": "stream",
     "text": [
      "Adjusting learning rate of group 0 to 2.5000e-02.\n"
     ]
    },
    {
     "name": "stderr",
     "output_type": "stream",
     "text": [
      "\n"
     ]
    },
    {
     "name": "stdout",
     "output_type": "stream",
     "text": [
      "\n",
      "Train set: Average loss: 0.0259, Accuracy: 59480/60000 (99.13%)\n",
      "\n"
     ]
    },
    {
     "name": "stderr",
     "output_type": "stream",
     "text": [
      "  0%|          | 0/469 [00:00<?, ?it/s]"
     ]
    },
    {
     "name": "stdout",
     "output_type": "stream",
     "text": [
      "\n",
      "Test set: Average loss: 0.0323, Accuracy: 9890/10000 (98.90%)\n",
      "\n",
      "\n",
      "\n",
      "Iteration 7\n"
     ]
    },
    {
     "name": "stderr",
     "output_type": "stream",
     "text": [
      "Loss=0.0027; Batch_id=468; Learning Rate=0.0250: 100%|██████████| 469/469 [00:12<00:00, 37.97it/s]"
     ]
    },
    {
     "name": "stdout",
     "output_type": "stream",
     "text": [
      "Adjusting learning rate of group 0 to 2.5000e-02.\n"
     ]
    },
    {
     "name": "stderr",
     "output_type": "stream",
     "text": [
      "\n"
     ]
    },
    {
     "name": "stdout",
     "output_type": "stream",
     "text": [
      "\n",
      "Train set: Average loss: 0.0144, Accuracy: 59725/60000 (99.54%)\n",
      "\n"
     ]
    },
    {
     "name": "stderr",
     "output_type": "stream",
     "text": [
      "  0%|          | 0/469 [00:00<?, ?it/s]"
     ]
    },
    {
     "name": "stdout",
     "output_type": "stream",
     "text": [
      "\n",
      "Test set: Average loss: 0.0225, Accuracy: 9923/10000 (99.23%)\n",
      "\n",
      "\n",
      "\n",
      "Iteration 8\n"
     ]
    },
    {
     "name": "stderr",
     "output_type": "stream",
     "text": [
      "Loss=0.0391; Batch_id=468; Learning Rate=0.0250: 100%|██████████| 469/469 [00:12<00:00, 37.90it/s]"
     ]
    },
    {
     "name": "stdout",
     "output_type": "stream",
     "text": [
      "Adjusting learning rate of group 0 to 2.5000e-02.\n"
     ]
    },
    {
     "name": "stderr",
     "output_type": "stream",
     "text": [
      "\n"
     ]
    },
    {
     "name": "stdout",
     "output_type": "stream",
     "text": [
      "\n",
      "Train set: Average loss: 0.0115, Accuracy: 59791/60000 (99.65%)\n",
      "\n"
     ]
    },
    {
     "name": "stderr",
     "output_type": "stream",
     "text": [
      "  0%|          | 0/469 [00:00<?, ?it/s]"
     ]
    },
    {
     "name": "stdout",
     "output_type": "stream",
     "text": [
      "\n",
      "Test set: Average loss: 0.0219, Accuracy: 9924/10000 (99.24%)\n",
      "\n",
      "\n",
      "\n",
      "Iteration 9\n"
     ]
    },
    {
     "name": "stderr",
     "output_type": "stream",
     "text": [
      "Loss=0.0106; Batch_id=468; Learning Rate=0.0250: 100%|██████████| 469/469 [00:12<00:00, 38.08it/s]"
     ]
    },
    {
     "name": "stdout",
     "output_type": "stream",
     "text": [
      "Adjusting learning rate of group 0 to 2.5000e-02.\n"
     ]
    },
    {
     "name": "stderr",
     "output_type": "stream",
     "text": [
      "\n"
     ]
    },
    {
     "name": "stdout",
     "output_type": "stream",
     "text": [
      "\n",
      "Train set: Average loss: 0.0103, Accuracy: 59828/60000 (99.71%)\n",
      "\n"
     ]
    },
    {
     "name": "stderr",
     "output_type": "stream",
     "text": [
      "  0%|          | 0/469 [00:00<?, ?it/s]"
     ]
    },
    {
     "name": "stdout",
     "output_type": "stream",
     "text": [
      "\n",
      "Test set: Average loss: 0.0214, Accuracy: 9932/10000 (99.32%)\n",
      "\n",
      "\n",
      "\n",
      "Iteration 10\n"
     ]
    },
    {
     "name": "stderr",
     "output_type": "stream",
     "text": [
      "Loss=0.0408; Batch_id=468; Learning Rate=0.0250: 100%|██████████| 469/469 [00:12<00:00, 38.25it/s]"
     ]
    },
    {
     "name": "stdout",
     "output_type": "stream",
     "text": [
      "Adjusting learning rate of group 0 to 2.5000e-02.\n"
     ]
    },
    {
     "name": "stderr",
     "output_type": "stream",
     "text": [
      "\n"
     ]
    },
    {
     "name": "stdout",
     "output_type": "stream",
     "text": [
      "\n",
      "Train set: Average loss: 0.0116, Accuracy: 59790/60000 (99.65%)\n",
      "\n"
     ]
    },
    {
     "name": "stderr",
     "output_type": "stream",
     "text": [
      "  0%|          | 0/469 [00:00<?, ?it/s]"
     ]
    },
    {
     "name": "stdout",
     "output_type": "stream",
     "text": [
      "\n",
      "Test set: Average loss: 0.0224, Accuracy: 9928/10000 (99.28%)\n",
      "\n",
      "\n",
      "\n",
      "Iteration 11\n"
     ]
    },
    {
     "name": "stderr",
     "output_type": "stream",
     "text": [
      "Loss=0.0223; Batch_id=468; Learning Rate=0.0250: 100%|██████████| 469/469 [00:12<00:00, 38.08it/s]"
     ]
    },
    {
     "name": "stdout",
     "output_type": "stream",
     "text": [
      "Adjusting learning rate of group 0 to 2.5000e-02.\n"
     ]
    },
    {
     "name": "stderr",
     "output_type": "stream",
     "text": [
      "\n"
     ]
    },
    {
     "name": "stdout",
     "output_type": "stream",
     "text": [
      "\n",
      "Train set: Average loss: 0.0127, Accuracy: 59753/60000 (99.59%)\n",
      "\n"
     ]
    },
    {
     "name": "stderr",
     "output_type": "stream",
     "text": [
      "  0%|          | 0/469 [00:00<?, ?it/s]"
     ]
    },
    {
     "name": "stdout",
     "output_type": "stream",
     "text": [
      "\n",
      "Test set: Average loss: 0.0280, Accuracy: 9908/10000 (99.08%)\n",
      "\n",
      "\n",
      "\n",
      "Iteration 12\n"
     ]
    },
    {
     "name": "stderr",
     "output_type": "stream",
     "text": [
      "Loss=0.0037; Batch_id=468; Learning Rate=0.0250: 100%|██████████| 469/469 [00:12<00:00, 37.52it/s]"
     ]
    },
    {
     "name": "stdout",
     "output_type": "stream",
     "text": [
      "Adjusting learning rate of group 0 to 2.5000e-02.\n"
     ]
    },
    {
     "name": "stderr",
     "output_type": "stream",
     "text": [
      "\n"
     ]
    },
    {
     "name": "stdout",
     "output_type": "stream",
     "text": [
      "\n",
      "Train set: Average loss: 0.0093, Accuracy: 59840/60000 (99.73%)\n",
      "\n"
     ]
    },
    {
     "name": "stderr",
     "output_type": "stream",
     "text": [
      "  0%|          | 0/469 [00:00<?, ?it/s]"
     ]
    },
    {
     "name": "stdout",
     "output_type": "stream",
     "text": [
      "\n",
      "Test set: Average loss: 0.0192, Accuracy: 9937/10000 (99.37%)\n",
      "\n",
      "\n",
      "\n",
      "Iteration 13\n"
     ]
    },
    {
     "name": "stderr",
     "output_type": "stream",
     "text": [
      "Loss=0.0012; Batch_id=468; Learning Rate=0.0250: 100%|██████████| 469/469 [00:12<00:00, 37.58it/s]"
     ]
    },
    {
     "name": "stdout",
     "output_type": "stream",
     "text": [
      "Adjusting learning rate of group 0 to 1.2500e-02.\n"
     ]
    },
    {
     "name": "stderr",
     "output_type": "stream",
     "text": [
      "\n"
     ]
    },
    {
     "name": "stdout",
     "output_type": "stream",
     "text": [
      "\n",
      "Train set: Average loss: 0.0080, Accuracy: 59854/60000 (99.76%)\n",
      "\n"
     ]
    },
    {
     "name": "stderr",
     "output_type": "stream",
     "text": [
      "  0%|          | 0/469 [00:00<?, ?it/s]"
     ]
    },
    {
     "name": "stdout",
     "output_type": "stream",
     "text": [
      "\n",
      "Test set: Average loss: 0.0236, Accuracy: 9924/10000 (99.24%)\n",
      "\n",
      "\n",
      "\n",
      "Iteration 14\n"
     ]
    },
    {
     "name": "stderr",
     "output_type": "stream",
     "text": [
      "Loss=0.0182; Batch_id=468; Learning Rate=0.0125: 100%|██████████| 469/469 [00:12<00:00, 38.27it/s]"
     ]
    },
    {
     "name": "stdout",
     "output_type": "stream",
     "text": [
      "Adjusting learning rate of group 0 to 1.2500e-02.\n"
     ]
    },
    {
     "name": "stderr",
     "output_type": "stream",
     "text": [
      "\n"
     ]
    },
    {
     "name": "stdout",
     "output_type": "stream",
     "text": [
      "\n",
      "Train set: Average loss: 0.0061, Accuracy: 59903/60000 (99.84%)\n",
      "\n"
     ]
    },
    {
     "name": "stderr",
     "output_type": "stream",
     "text": [
      "  0%|          | 0/469 [00:00<?, ?it/s]"
     ]
    },
    {
     "name": "stdout",
     "output_type": "stream",
     "text": [
      "\n",
      "Test set: Average loss: 0.0182, Accuracy: 9937/10000 (99.37%)\n",
      "\n",
      "\n",
      "\n",
      "Iteration 15\n"
     ]
    },
    {
     "name": "stderr",
     "output_type": "stream",
     "text": [
      "Loss=0.0071; Batch_id=468; Learning Rate=0.0125: 100%|██████████| 469/469 [00:12<00:00, 37.86it/s]"
     ]
    },
    {
     "name": "stdout",
     "output_type": "stream",
     "text": [
      "Adjusting learning rate of group 0 to 1.2500e-02.\n"
     ]
    },
    {
     "name": "stderr",
     "output_type": "stream",
     "text": [
      "\n"
     ]
    },
    {
     "name": "stdout",
     "output_type": "stream",
     "text": [
      "\n",
      "Train set: Average loss: 0.0062, Accuracy: 59898/60000 (99.83%)\n",
      "\n"
     ]
    },
    {
     "name": "stderr",
     "output_type": "stream",
     "text": [
      "  0%|          | 0/469 [00:00<?, ?it/s]"
     ]
    },
    {
     "name": "stdout",
     "output_type": "stream",
     "text": [
      "\n",
      "Test set: Average loss: 0.0184, Accuracy: 9934/10000 (99.34%)\n",
      "\n",
      "\n",
      "\n",
      "Iteration 16\n"
     ]
    },
    {
     "name": "stderr",
     "output_type": "stream",
     "text": [
      "Loss=0.0005; Batch_id=468; Learning Rate=0.0125: 100%|██████████| 469/469 [00:12<00:00, 37.27it/s]"
     ]
    },
    {
     "name": "stdout",
     "output_type": "stream",
     "text": [
      "Adjusting learning rate of group 0 to 1.2500e-02.\n"
     ]
    },
    {
     "name": "stderr",
     "output_type": "stream",
     "text": [
      "\n"
     ]
    },
    {
     "name": "stdout",
     "output_type": "stream",
     "text": [
      "\n",
      "Train set: Average loss: 0.0053, Accuracy: 59918/60000 (99.86%)\n",
      "\n"
     ]
    },
    {
     "name": "stderr",
     "output_type": "stream",
     "text": [
      "  0%|          | 0/469 [00:00<?, ?it/s]"
     ]
    },
    {
     "name": "stdout",
     "output_type": "stream",
     "text": [
      "\n",
      "Test set: Average loss: 0.0217, Accuracy: 9927/10000 (99.27%)\n",
      "\n",
      "\n",
      "\n",
      "Iteration 17\n"
     ]
    },
    {
     "name": "stderr",
     "output_type": "stream",
     "text": [
      "Loss=0.0051; Batch_id=468; Learning Rate=0.0125: 100%|██████████| 469/469 [00:12<00:00, 37.11it/s]"
     ]
    },
    {
     "name": "stdout",
     "output_type": "stream",
     "text": [
      "Adjusting learning rate of group 0 to 6.2500e-03.\n"
     ]
    },
    {
     "name": "stderr",
     "output_type": "stream",
     "text": [
      "\n"
     ]
    },
    {
     "name": "stdout",
     "output_type": "stream",
     "text": [
      "\n",
      "Train set: Average loss: 0.0055, Accuracy: 59906/60000 (99.84%)\n",
      "\n"
     ]
    },
    {
     "name": "stderr",
     "output_type": "stream",
     "text": [
      "  0%|          | 0/469 [00:00<?, ?it/s]"
     ]
    },
    {
     "name": "stdout",
     "output_type": "stream",
     "text": [
      "\n",
      "Test set: Average loss: 0.0173, Accuracy: 9941/10000 (99.41%)\n",
      "\n",
      "\n",
      "\n",
      "Iteration 18\n"
     ]
    },
    {
     "name": "stderr",
     "output_type": "stream",
     "text": [
      "Loss=0.0005; Batch_id=468; Learning Rate=0.0063: 100%|██████████| 469/469 [00:12<00:00, 37.04it/s]"
     ]
    },
    {
     "name": "stdout",
     "output_type": "stream",
     "text": [
      "Adjusting learning rate of group 0 to 6.2500e-03.\n"
     ]
    },
    {
     "name": "stderr",
     "output_type": "stream",
     "text": [
      "\n"
     ]
    },
    {
     "name": "stdout",
     "output_type": "stream",
     "text": [
      "\n",
      "Train set: Average loss: 0.0044, Accuracy: 59933/60000 (99.89%)\n",
      "\n"
     ]
    },
    {
     "name": "stderr",
     "output_type": "stream",
     "text": [
      "  0%|          | 0/469 [00:00<?, ?it/s]"
     ]
    },
    {
     "name": "stdout",
     "output_type": "stream",
     "text": [
      "\n",
      "Test set: Average loss: 0.0192, Accuracy: 9940/10000 (99.40%)\n",
      "\n",
      "\n",
      "\n",
      "Iteration 19\n"
     ]
    },
    {
     "name": "stderr",
     "output_type": "stream",
     "text": [
      "Loss=0.0026; Batch_id=468; Learning Rate=0.0063: 100%|██████████| 469/469 [00:12<00:00, 37.23it/s]"
     ]
    },
    {
     "name": "stdout",
     "output_type": "stream",
     "text": [
      "Adjusting learning rate of group 0 to 6.2500e-03.\n"
     ]
    },
    {
     "name": "stderr",
     "output_type": "stream",
     "text": [
      "\n"
     ]
    },
    {
     "name": "stdout",
     "output_type": "stream",
     "text": [
      "\n",
      "Train set: Average loss: 0.0038, Accuracy: 59947/60000 (99.91%)\n",
      "\n"
     ]
    },
    {
     "name": "stderr",
     "output_type": "stream",
     "text": [
      "  0%|          | 0/469 [00:00<?, ?it/s]"
     ]
    },
    {
     "name": "stdout",
     "output_type": "stream",
     "text": [
      "\n",
      "Test set: Average loss: 0.0180, Accuracy: 9944/10000 (99.44%)\n",
      "\n",
      "\n",
      "\n",
      "Iteration 20\n"
     ]
    },
    {
     "name": "stderr",
     "output_type": "stream",
     "text": [
      "Loss=0.0185; Batch_id=468; Learning Rate=0.0063: 100%|██████████| 469/469 [00:12<00:00, 37.47it/s]"
     ]
    },
    {
     "name": "stdout",
     "output_type": "stream",
     "text": [
      "Adjusting learning rate of group 0 to 6.2500e-03.\n"
     ]
    },
    {
     "name": "stderr",
     "output_type": "stream",
     "text": [
      "\n"
     ]
    },
    {
     "name": "stdout",
     "output_type": "stream",
     "text": [
      "\n",
      "Train set: Average loss: 0.0041, Accuracy: 59939/60000 (99.90%)\n",
      "\n",
      "\n",
      "Test set: Average loss: 0.0176, Accuracy: 9943/10000 (99.43%)\n",
      "\n",
      "Epoch    20: reducing learning rate of group 0 to 3.1250e-04.\n",
      "\n",
      "\n"
     ]
    }
   ],
   "source": [
    "# Initialize the model instance\n",
    "model = MNISTNet(drop_perc=0.008).to(device)\n",
    "\n",
    "# Define an optimizer to use to perform gradient descent\n",
    "# Various optimizers are suitable for different usecase, which help\n",
    "# reach the global optimal (i.e. a model with least errors/loss) quickly\n",
    "# In this case, Stochastic Gradient Descent (SGD) is used with momentum of 0.9\n",
    "# and the learning rate (alpha) set to 0.01 \n",
    "optimizer = optim.SGD(model.parameters(), lr=0.05, momentum=0.9)\n",
    "\n",
    "# Define a learning rate scheduler\n",
    "# Refered from: https://www.kaggle.com/isbhargav/guide-to-pytorch-learning-rate-scheduling\n",
    "# and https://pytorch.org/docs/master/optim.html\n",
    "# https://pytorch.org/docs/master/generated/torch.optim.lr_scheduler.ReduceLROnPlateau.html#torch.optim.lr_scheduler.ReduceLROnPlateau\n",
    "# Decrease the learning rate after a particular step\n",
    "plat_scheduler = optim.lr_scheduler.ReduceLROnPlateau(optimizer, mode='min', \n",
    "                                                      factor=0.05, patience=2, \n",
    "                                                      min_lr=0.0001, threshold=0.001, \n",
    "                                                      verbose=True)\n",
    "\n",
    "multistep_scheduler = torch.optim.lr_scheduler.MultiStepLR(optimizer, \n",
    "                                                 milestones=[6, 13, 17], gamma=0.5, verbose=True)\n",
    "\n",
    "\n",
    "# Set the epochs\n",
    "epochs = 20\n",
    "\n",
    "# Train the model for epochs no. of times\n",
    "for epoch in range(0, epochs):\n",
    "    print (f'Iteration {epoch+1}')\n",
    "    # Initiate training phase\n",
    "    train(model, device, train_loader, optimizer, epoch, multistep_scheduler)\n",
    "\n",
    "    # Validate the results on the test/validation set\n",
    "    loss = test(model, device, test_loader)\n",
    "\n",
    "    # Update the learning rate\n",
    "    plat_scheduler.step (loss)\n",
    "\n",
    "    print ('\\n')"
   ]
  },
  {
   "cell_type": "markdown",
   "metadata": {
    "id": "GsL7zk0Ht-zw"
   },
   "source": [
    "## Architecture tried out\n",
    "\n",
    "- Squeeze and Expand Architecture with \n",
    "    - Dropout - 0.1 \n",
    "    - 1x1 after each block\n",
    "    - 7x7 RF for Block 1\n",
    "    - Parameters - 20,856\n",
    "    - **Best Accuracy - 98.60%** \n",
    "\n",
    "\n",
    "- Squeeze and Expand Architecture with \n",
    "    - Dropout - 0.05\n",
    "    - 1x1 after each block\n",
    "    - 7x7 RF for Block 1\n",
    "    - Parameters - 20,856\n",
    "    - **Best Accuracy - 99.11%**\n",
    "    \n",
    "\n",
    "\n",
    "- Squeeze and Expand Architecture with \n",
    "    - Dropout - 0.05\n",
    "    - 1x1 after each block\n",
    "    - 7x7 RF for Block 1\n",
    "    - Parameters - 19,760\n",
    "    - **Best Accuracy - 99.12%**\n",
    "    \n",
    "\n",
    "\n",
    "- Squeeze and Expand Architecture with \n",
    "    - Dropout - 0.01\n",
    "    - 1x1 after each block\n",
    "    - 5x5 RF for Block 1\n",
    "    - Parameters - 19,760\n",
    "    - **Best Accuracy - 99.27%**\n",
    "    \n",
    "\n",
    "\n",
    "- Squeeze and Expand Architecture with \n",
    "    - Dropout - 0.008\n",
    "    - 1x1 after each block\n",
    "    - 5x5 RF for Block 1\n",
    "    - Parameters - 19,760\n",
    "    - **Best Accuracy - 99.32%**\n",
    "    \n",
    "\n",
    "\n",
    "- Squeeze and Expand Architecture with \n",
    "    - Dropout - 0.008\n",
    "    - 1x1 after each block\n",
    "    - 5x5 RF for Block 1\n",
    "    - Parameters - 19,760\n",
    "    - With Learning Rate Schedulers\n",
    "        - MultiStep LR Scheduler\n",
    "        - Reduce on Plateau\n",
    "    - **Best Accuracy - 99.44%**\n"
   ]
  },
  {
   "cell_type": "code",
   "execution_count": null,
   "metadata": {},
   "outputs": [],
   "source": []
  }
 ],
 "metadata": {
  "accelerator": "GPU",
  "colab": {
   "collapsed_sections": [],
   "name": "Assignment 4 - CNN on MNIST.ipynb",
   "provenance": [],
   "toc_visible": true
  },
  "kernelspec": {
   "display_name": "Python 3",
   "language": "python",
   "name": "python3"
  },
  "language_info": {
   "codemirror_mode": {
    "name": "ipython",
    "version": 3
   },
   "file_extension": ".py",
   "mimetype": "text/x-python",
   "name": "python",
   "nbconvert_exporter": "python",
   "pygments_lexer": "ipython3",
   "version": "3.7.10"
  },
  "widgets": {
   "application/vnd.jupyter.widget-state+json": {
    "38120c46567b4facb29ab7e5d0e1d269": {
     "model_module": "@jupyter-widgets/controls",
     "model_name": "HBoxModel",
     "state": {
      "_dom_classes": [],
      "_model_module": "@jupyter-widgets/controls",
      "_model_module_version": "1.5.0",
      "_model_name": "HBoxModel",
      "_view_count": null,
      "_view_module": "@jupyter-widgets/controls",
      "_view_module_version": "1.5.0",
      "_view_name": "HBoxView",
      "box_style": "",
      "children": [
       "IPY_MODEL_e8ded25bfec147f4885cc091f8e24396",
       "IPY_MODEL_13d400a727db4dd095b7045961e1d159"
      ],
      "layout": "IPY_MODEL_7cc5416014dd4c3bb296fad1c8756fba"
     }
    },
    "5d10f99cadf542279ce990b447d13316": {
     "model_module": "@jupyter-widgets/controls",
     "model_name": "HBoxModel",
     "state": {
      "_dom_classes": [],
      "_model_module": "@jupyter-widgets/controls",
      "_model_module_version": "1.5.0",
      "_model_name": "HBoxModel",
      "_view_count": null,
      "_view_module": "@jupyter-widgets/controls",
      "_view_module_version": "1.5.0",
      "_view_name": "HBoxView",
      "box_style": "",
      "children": [
       "IPY_MODEL_1c539b76743e49bda06cdd84b55c7fe3",
       "IPY_MODEL_286cbd576be9488781102275cf185d53"
      ],
      "layout": "IPY_MODEL_2c524ffca08d4d4eb5bc88348c58110c"
     }
    },
    "7ee1643fecca44a2addded64f84d9360": {
     "model_module": "@jupyter-widgets/controls",
     "model_name": "HBoxModel",
     "state": {
      "_dom_classes": [],
      "_model_module": "@jupyter-widgets/controls",
      "_model_module_version": "1.5.0",
      "_model_name": "HBoxModel",
      "_view_count": null,
      "_view_module": "@jupyter-widgets/controls",
      "_view_module_version": "1.5.0",
      "_view_name": "HBoxView",
      "box_style": "",
      "children": [
       "IPY_MODEL_2e73e5ba88c44927933b5f7c8e7eebd8",
       "IPY_MODEL_a7b51470a3cf4652aa53dd3f6704b7a9"
      ],
      "layout": "IPY_MODEL_264b422d632545e1947a5f3bb2feefb3"
     }
    },
    "b9b118a90cf64ade9205e435b213862b": {
     "model_module": "@jupyter-widgets/controls",
     "model_name": "HBoxModel",
     "state": {
      "_dom_classes": [],
      "_model_module": "@jupyter-widgets/controls",
      "_model_module_version": "1.5.0",
      "_model_name": "HBoxModel",
      "_view_count": null,
      "_view_module": "@jupyter-widgets/controls",
      "_view_module_version": "1.5.0",
      "_view_name": "HBoxView",
      "box_style": "",
      "children": [
       "IPY_MODEL_1d701b1437ff4297ac23ae0319c7845f",
       "IPY_MODEL_11352a185942441a92816f392981dc92"
      ],
      "layout": "IPY_MODEL_47d1dcd093fc443b9ebbb30b24ec0e8d"
     }
    },
    "d86aefe55a12401e9b41e7f00fa5df89": {
     "model_module": "@jupyter-widgets/controls",
     "model_name": "HBoxModel",
     "state": {
      "_dom_classes": [],
      "_model_module": "@jupyter-widgets/controls",
      "_model_module_version": "1.5.0",
      "_model_name": "HBoxModel",
      "_view_count": null,
      "_view_module": "@jupyter-widgets/controls",
      "_view_module_version": "1.5.0",
      "_view_name": "HBoxView",
      "box_style": "",
      "children": [
       "IPY_MODEL_cc6cf677ce054cc7aa0b7dba089a8d30",
       "IPY_MODEL_2e79732594974ce1a58d11eb36869de2"
      ],
      "layout": "IPY_MODEL_4a58d7b720bc451eb76b375605c61406"
     }
    },
    "f31fed885db1498d861fb77116d9b8f9": {
     "model_module": "@jupyter-widgets/controls",
     "model_name": "HBoxModel",
     "state": {
      "_dom_classes": [],
      "_model_module": "@jupyter-widgets/controls",
      "_model_module_version": "1.5.0",
      "_model_name": "HBoxModel",
      "_view_count": null,
      "_view_module": "@jupyter-widgets/controls",
      "_view_module_version": "1.5.0",
      "_view_name": "HBoxView",
      "box_style": "",
      "children": [
       "IPY_MODEL_de15fc14cad94a718a9c275042309922",
       "IPY_MODEL_ea96c483db254cd886050d9c87c5f871"
      ],
      "layout": "IPY_MODEL_abf1e26bf5614e868a435e9a9b3cf306"
     }
    },
    "f82b87b812d5456da2355b6d303a32c8": {
     "model_module": "@jupyter-widgets/controls",
     "model_name": "HBoxModel",
     "state": {
      "_dom_classes": [],
      "_model_module": "@jupyter-widgets/controls",
      "_model_module_version": "1.5.0",
      "_model_name": "HBoxModel",
      "_view_count": null,
      "_view_module": "@jupyter-widgets/controls",
      "_view_module_version": "1.5.0",
      "_view_name": "HBoxView",
      "box_style": "",
      "children": [
       "IPY_MODEL_12a6acea5f364f6494e155fe3092cfa6",
       "IPY_MODEL_bd3f0d4692ee44959925c6d0f05d92da"
      ],
      "layout": "IPY_MODEL_cae6f472bdb447e7992ed0dd490c4eb0"
     }
    },
    "fbae64ea160641018281d88797560e16": {
     "model_module": "@jupyter-widgets/controls",
     "model_name": "HBoxModel",
     "state": {
      "_dom_classes": [],
      "_model_module": "@jupyter-widgets/controls",
      "_model_module_version": "1.5.0",
      "_model_name": "HBoxModel",
      "_view_count": null,
      "_view_module": "@jupyter-widgets/controls",
      "_view_module_version": "1.5.0",
      "_view_name": "HBoxView",
      "box_style": "",
      "children": [
       "IPY_MODEL_c25ae4aadb2046d8a8211efa5dd02485",
       "IPY_MODEL_3f578111faf84e548c8ddd414a83bbe0"
      ],
      "layout": "IPY_MODEL_0a31f9e60d824837899fad232479f902"
     }
    }
   }
  }
 },
 "nbformat": 4,
 "nbformat_minor": 4
}
