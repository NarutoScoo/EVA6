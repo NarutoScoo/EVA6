{
 "cells": [
  {
   "cell_type": "markdown",
   "metadata": {
    "id": "3ac_yzfOxA7U"
   },
   "source": [
    "## Objective\n",
    "- Use the images from MNIST along with a random number (integer) generated between 0 to 9 as input and return as outputs the predicted digit (predictions on the image) along with the sum of the values, i.e. Predicted digit from MNIST + Generated Random Integer."
   ]
  },
  {
   "cell_type": "markdown",
   "metadata": {
    "id": "84YbXBdjzJko"
   },
   "source": [
    "## Imports"
   ]
  },
  {
   "cell_type": "code",
   "execution_count": 1,
   "metadata": {
    "id": "3hu-AIG7waD0"
   },
   "outputs": [],
   "source": [
    "# PyTorch, everything from PyTorch can be referred with this\n",
    "import torch\n",
    "\n",
    "# Import the neural network model seperately\n",
    "import torch.nn as nn\n",
    "\n",
    "# Contains functions that are required such as ReLu (Activation function)\n",
    "import torch.nn.functional as F \n",
    "\n",
    "# Optimizers required to converge using Backpropogation\n",
    "import torch.optim as optim\n",
    "\n",
    "# Datasets are used to download and load the data\n",
    "# used to train and validate\n",
    "# Transforms can be used to define modifications and/or augmentations methods\n",
    "# to be applied while passing the data\n",
    "# Normalization can also be one of the compositions of transforms\n",
    "import torchvision\n",
    "from torchvision import datasets, transforms\n",
    "\n",
    "# Dataset abstract class using which custom dataset classes can be created\n",
    "# DataLoader to create batches and to shuffle the data\n",
    "from torch.utils.data import Dataset, DataLoader\n",
    "\n",
    "# Visualize the images\n",
    "import matplotlib.pyplot as plt\n",
    "from mpl_toolkits.axes_grid1 import ImageGrid # ImageGrid to form a grid of images"
   ]
  },
  {
   "cell_type": "markdown",
   "metadata": {
    "id": "CO5hw_HA1AAU"
   },
   "source": [
    "## Load the dataset\n",
    "Define a class a that loads and takes the images from MNIST and generates a random number (between 0-9) to use as input along with the actual label of the handwritten digit and the sum, which constitutes the required output"
   ]
  },
  {
   "cell_type": "code",
   "execution_count": 2,
   "metadata": {
    "id": "Xiu5mj_20pck"
   },
   "outputs": [],
   "source": [
    "class SumDataset (Dataset):\n",
    "    ''' Extending the Dataset class to provide customized inputs and modified \n",
    "    outputs for training '''\n",
    "\n",
    "    def __init__(self, mode='training'):\n",
    "        ''' Get/Download the data (MNIST) and setup up other configurations\n",
    "        required to get the data\n",
    "        \n",
    "        Parameters:\n",
    "            mode - Indicates either 'training' or 'validation'\n",
    "        '''\n",
    "\n",
    "        # Start by initializing the base class\n",
    "        super().__init__()\n",
    "\n",
    "        # Save the mode\n",
    "        # Check if the mode is valid\n",
    "        assert mode in ['training', 'validation'], \\\n",
    "            '\"mode\" should be either \"training\" or \"validation\"'\n",
    "        self.mode = mode\n",
    "\n",
    "        # Seed the random generator to results that are reproduceable\n",
    "        # Remove during production\n",
    "        torch.manual_seed(1)\n",
    "\n",
    "        # Get MNIST data\n",
    "        if self.mode == 'training':        \n",
    "            # Define the transformations\n",
    "            #   First convert into a tensor and then normalization\n",
    "            #   Values for normalization where got from \n",
    "            #   https://discuss.pytorch.org/t/normalization-in-the-mnist-example/457\n",
    "            self.transforms = transforms.Compose ([transforms.ToTensor (),\n",
    "                                                   transforms.Normalize((0.1307,), \n",
    "                                                                        (0.3081,))])\n",
    "        \n",
    "            # Download the training set and store it at the root directory\n",
    "            self.data = datasets.MNIST (root='./data/train/',\n",
    "                                               train=True,\n",
    "                                               download=True,\n",
    "                                               transform=self.transforms)\n",
    "            \n",
    "        elif self.mode == 'validation':\n",
    "            # Both the train and validation transforms are the same, but might decide \n",
    "            # to update with some data augmentation methods for train later\n",
    "            # so keeping it seperate\n",
    "            self.transforms = transforms.Compose ([transforms.ToTensor (),\n",
    "                                                   transforms.Normalize((0.1307,), \n",
    "                                                                        (0.3081,))])\n",
    "            \n",
    "            # Get the validation set\n",
    "            self.data = datasets.MNIST (root='./data/val/',\n",
    "                                                  train=False,\n",
    "                                                  download=True,\n",
    "                                                  transform=self.transforms)\n",
    "        \n",
    "\n",
    "    def __len__(self):\n",
    "        ''' Get the total size of the dataset '''\n",
    "        return len (self.data)\n",
    "\n",
    "\n",
    "    def __getitem__(self, index):\n",
    "        ''' Used to get the index-th item from the dataset \n",
    "        \n",
    "        Parameters:\n",
    "            index - Element value to retrieve from the data\n",
    "        '''\n",
    "\n",
    "        # Check if the within the bounds of the data\n",
    "        assert index < len (self.data), 'The index value is out-of-bound'\n",
    "\n",
    "        # Index into the data to get the image and the corresponding label\n",
    "        img, label = self.data [index]\n",
    "\n",
    "        # Generate a random integer between 0 to 9\n",
    "        randint_input = torch.randint (low=0, high=10, size=(1,)) [0]\n",
    "\n",
    "        # For the outputs, the labels of MNIST and the final sum are one-hot\n",
    "        # encoded seperately (the number of classes for the sum would be 18=9+9+1)\n",
    "        # i.e. 0-18 (inclusive)\n",
    "        # And also one_hot encode the random integer\n",
    "        sum = F.one_hot (torch.as_tensor ([label+randint_input]), \n",
    "                         num_classes=9+9+1)\n",
    "        label = F.one_hot (torch.as_tensor ([label]), num_classes=10)\n",
    "        randint_input = F.one_hot (torch.as_tensor ([randint_input]), num_classes=10)\n",
    "\n",
    "        # Return the training set and the corresponding one-hot encoded outputs\n",
    "        return img, randint_input, label, sum"
   ]
  },
  {
   "cell_type": "markdown",
   "metadata": {
    "id": "_0BWykfE14AM"
   },
   "source": [
    "### Visualize the samples"
   ]
  },
  {
   "cell_type": "code",
   "execution_count": 3,
   "metadata": {
    "colab": {
     "base_uri": "https://localhost:8080/",
     "height": 454,
     "referenced_widgets": [
      "ed0e7220eef945088270d7866860b59b",
      "2511bdb8750a4513949e80b19ef81fc3",
      "564c29c2ec094d4ab89ae57b3cb0dad4",
      "49d423bfaaa046e6b0507a7ba9e1e702"
     ]
    },
    "id": "ldtJegVRHNNw",
    "outputId": "08ae0f48-cb3f-4946-deaf-cc25d07563a7"
   },
   "outputs": [
    {
     "name": "stdout",
     "output_type": "stream",
     "text": [
      "Downloading http://yann.lecun.com/exdb/mnist/train-images-idx3-ubyte.gz\n",
      "Downloading http://yann.lecun.com/exdb/mnist/train-images-idx3-ubyte.gz to ./data/train/MNIST/raw/train-images-idx3-ubyte.gz\n"
     ]
    },
    {
     "data": {
      "application/vnd.jupyter.widget-view+json": {
       "model_id": "ed0e7220eef945088270d7866860b59b",
       "version_major": 2,
       "version_minor": 0
      },
      "text/plain": [
       "HBox(children=(FloatProgress(value=0.0, max=9912422.0), HTML(value='')))"
      ]
     },
     "metadata": {
      "tags": []
     },
     "output_type": "display_data"
    },
    {
     "name": "stdout",
     "output_type": "stream",
     "text": [
      "\n",
      "Extracting ./data/train/MNIST/raw/train-images-idx3-ubyte.gz to ./data/train/MNIST/raw\n",
      "\n",
      "Downloading http://yann.lecun.com/exdb/mnist/train-labels-idx1-ubyte.gz\n",
      "Downloading http://yann.lecun.com/exdb/mnist/train-labels-idx1-ubyte.gz to ./data/train/MNIST/raw/train-labels-idx1-ubyte.gz\n"
     ]
    },
    {
     "data": {
      "application/vnd.jupyter.widget-view+json": {
       "model_id": "2511bdb8750a4513949e80b19ef81fc3",
       "version_major": 2,
       "version_minor": 0
      },
      "text/plain": [
       "HBox(children=(FloatProgress(value=0.0, max=28881.0), HTML(value='')))"
      ]
     },
     "metadata": {
      "tags": []
     },
     "output_type": "display_data"
    },
    {
     "name": "stdout",
     "output_type": "stream",
     "text": [
      "\n",
      "Extracting ./data/train/MNIST/raw/train-labels-idx1-ubyte.gz to ./data/train/MNIST/raw\n",
      "\n",
      "Downloading http://yann.lecun.com/exdb/mnist/t10k-images-idx3-ubyte.gz\n",
      "Downloading http://yann.lecun.com/exdb/mnist/t10k-images-idx3-ubyte.gz to ./data/train/MNIST/raw/t10k-images-idx3-ubyte.gz\n"
     ]
    },
    {
     "data": {
      "application/vnd.jupyter.widget-view+json": {
       "model_id": "564c29c2ec094d4ab89ae57b3cb0dad4",
       "version_major": 2,
       "version_minor": 0
      },
      "text/plain": [
       "HBox(children=(FloatProgress(value=0.0, max=1648877.0), HTML(value='')))"
      ]
     },
     "metadata": {
      "tags": []
     },
     "output_type": "display_data"
    },
    {
     "name": "stdout",
     "output_type": "stream",
     "text": [
      "\n",
      "Extracting ./data/train/MNIST/raw/t10k-images-idx3-ubyte.gz to ./data/train/MNIST/raw\n",
      "\n",
      "Downloading http://yann.lecun.com/exdb/mnist/t10k-labels-idx1-ubyte.gz\n",
      "Downloading http://yann.lecun.com/exdb/mnist/t10k-labels-idx1-ubyte.gz to ./data/train/MNIST/raw/t10k-labels-idx1-ubyte.gz\n"
     ]
    },
    {
     "data": {
      "application/vnd.jupyter.widget-view+json": {
       "model_id": "49d423bfaaa046e6b0507a7ba9e1e702",
       "version_major": 2,
       "version_minor": 0
      },
      "text/plain": [
       "HBox(children=(FloatProgress(value=0.0, max=4542.0), HTML(value='')))"
      ]
     },
     "metadata": {
      "tags": []
     },
     "output_type": "display_data"
    },
    {
     "name": "stdout",
     "output_type": "stream",
     "text": [
      "\n",
      "Extracting ./data/train/MNIST/raw/t10k-labels-idx1-ubyte.gz to ./data/train/MNIST/raw\n",
      "\n",
      "Processing...\n",
      "Done!\n"
     ]
    },
    {
     "name": "stderr",
     "output_type": "stream",
     "text": [
      "/usr/local/lib/python3.7/dist-packages/torchvision/datasets/mnist.py:502: UserWarning: The given NumPy array is not writeable, and PyTorch does not support non-writeable tensors. This means you can write to the underlying (supposedly non-writeable) NumPy array using the tensor. You may want to copy the array to protect its data or make it writeable before converting it to a tensor. This type of warning will be suppressed for the rest of this program. (Triggered internally at  /pytorch/torch/csrc/utils/tensor_numpy.cpp:143.)\n",
      "  return torch.from_numpy(parsed.astype(m[2], copy=False)).view(*s)\n"
     ]
    }
   ],
   "source": [
    "# Define an object of the class \n",
    "# Set the \"mode\" to training\n",
    "sum_dataset = SumDataset (mode='training')"
   ]
  },
  {
   "cell_type": "code",
   "execution_count": 4,
   "metadata": {
    "colab": {
     "base_uri": "https://localhost:8080/",
     "height": 862
    },
    "id": "mCfhBQKpK2vE",
    "outputId": "663a77d9-b037-44b0-a15b-2ceed237d36b"
   },
   "outputs": [
    {
     "data": {
      "image/png": "[encoded data removed]",
      "text/plain": [
       "<Figure size 1080x1080 with 50 Axes>"
      ]
     },
     "metadata": {
      "tags": []
     },
     "output_type": "display_data"
    }
   ],
   "source": [
    "plt.style.use ('dark_background') # Dark mode rocks!!!\n",
    "\n",
    "# Display random images from the dataset\n",
    "fig = plt.figure(figsize=(15, 15))\n",
    "grid = ImageGrid(fig, 111, \n",
    "                 nrows_ncols=(5, 5),\n",
    "                 axes_pad=0.1)\n",
    "\n",
    "for ax, idx in zip (grid, torch.randint (0, len (sum_dataset), size=(1, 25))[0]):\n",
    "    # Get the image and label\n",
    "    img, _, label, _ = sum_dataset [idx]\n",
    "\n",
    "    # Display the image with the label\n",
    "    ax.imshow (img.view (28, 28), cmap='gray')\n",
    "    ax.set_title (f'Label - {torch.argmax (label)}')\n",
    "    ax.axis ('off');"
   ]
  },
  {
   "cell_type": "markdown",
   "metadata": {
    "id": "cu4Y5itFDM-s"
   },
   "source": [
    "### Load the data"
   ]
  },
  {
   "cell_type": "code",
   "execution_count": 6,
   "metadata": {
    "colab": {
     "base_uri": "https://localhost:8080/",
     "height": 521,
     "referenced_widgets": [
      "941228b50c5b462cb7d58bcd1ba4f5d2",
      "4e89ca28ab05412887263e59a2c6646b"
     ]
    },
    "id": "DqTWLaM5GHgH",
    "outputId": "353a4b4f-c614-4270-f7ca-d566bd6747c1"
   },
   "outputs": [
    {
     "name": "stdout",
     "output_type": "stream",
     "text": [
      "Downloading http://yann.lecun.com/exdb/mnist/train-images-idx3-ubyte.gz\n",
      "Using downloaded and verified file: ./data/val/MNIST/raw/train-images-idx3-ubyte.gz\n",
      "Extracting ./data/val/MNIST/raw/train-images-idx3-ubyte.gz to ./data/val/MNIST/raw\n",
      "\n",
      "Downloading http://yann.lecun.com/exdb/mnist/train-labels-idx1-ubyte.gz\n",
      "Using downloaded and verified file: ./data/val/MNIST/raw/train-labels-idx1-ubyte.gz\n",
      "Extracting ./data/val/MNIST/raw/train-labels-idx1-ubyte.gz to ./data/val/MNIST/raw\n",
      "\n",
      "Downloading http://yann.lecun.com/exdb/mnist/t10k-images-idx3-ubyte.gz\n",
      "Downloading http://yann.lecun.com/exdb/mnist/t10k-images-idx3-ubyte.gz to ./data/val/MNIST/raw/t10k-images-idx3-ubyte.gz\n",
      "Failed to download (trying next):\n",
      "HTTP Error 503: Service Unavailable\n",
      "\n",
      "Downloading https://ossci-datasets.s3.amazonaws.com/mnist/t10k-images-idx3-ubyte.gz\n",
      "Downloading https://ossci-datasets.s3.amazonaws.com/mnist/t10k-images-idx3-ubyte.gz to ./data/val/MNIST/raw/t10k-images-idx3-ubyte.gz\n"
     ]
    },
    {
     "data": {
      "application/vnd.jupyter.widget-view+json": {
       "model_id": "941228b50c5b462cb7d58bcd1ba4f5d2",
       "version_major": 2,
       "version_minor": 0
      },
      "text/plain": [
       "HBox(children=(FloatProgress(value=0.0, max=1648877.0), HTML(value='')))"
      ]
     },
     "metadata": {
      "tags": []
     },
     "output_type": "display_data"
    },
    {
     "name": "stdout",
     "output_type": "stream",
     "text": [
      "\n",
      "Extracting ./data/val/MNIST/raw/t10k-images-idx3-ubyte.gz to ./data/val/MNIST/raw\n",
      "\n",
      "Downloading http://yann.lecun.com/exdb/mnist/t10k-labels-idx1-ubyte.gz\n",
      "Failed to download (trying next):\n",
      "HTTP Error 503: Service Unavailable\n",
      "\n",
      "Downloading https://ossci-datasets.s3.amazonaws.com/mnist/t10k-labels-idx1-ubyte.gz\n",
      "Downloading https://ossci-datasets.s3.amazonaws.com/mnist/t10k-labels-idx1-ubyte.gz to ./data/val/MNIST/raw/t10k-labels-idx1-ubyte.gz\n"
     ]
    },
    {
     "data": {
      "application/vnd.jupyter.widget-view+json": {
       "model_id": "4e89ca28ab05412887263e59a2c6646b",
       "version_major": 2,
       "version_minor": 0
      },
      "text/plain": [
       "HBox(children=(FloatProgress(value=0.0, max=4542.0), HTML(value='')))"
      ]
     },
     "metadata": {
      "tags": []
     },
     "output_type": "display_data"
    },
    {
     "name": "stdout",
     "output_type": "stream",
     "text": [
      "\n",
      "Extracting ./data/val/MNIST/raw/t10k-labels-idx1-ubyte.gz to ./data/val/MNIST/raw\n",
      "\n",
      "Processing...\n",
      "Done!\n"
     ]
    }
   ],
   "source": [
    "# Seed the random generator used by PyTorch\n",
    "# so that the results are reproduceable\n",
    "torch.manual_seed(1)\n",
    "\n",
    "# Define the batch size to be used\n",
    "# i.e. the number of images to be used per batch\n",
    "batch_size = 128\n",
    "\n",
    "# Set it to use GPU if available\n",
    "use_cuda = torch.cuda.is_available()\n",
    "device = torch.device(\"cuda\" if use_cuda else \"cpu\")\n",
    "\n",
    "# Define a dataloader \n",
    "# Set the batch_size and shuffle to select\n",
    "# random images for every batch and epoch\n",
    "\n",
    "# Parameters to be used while loading the data\n",
    "kwargs = {'num_workers': 1, 'pin_memory': True} if use_cuda else {}\n",
    "\n",
    "train_loader = DataLoader (SumDataset (mode='training'),\n",
    "                           batch_size=batch_size,\n",
    "                           shuffle=True,\n",
    "                           **kwargs)\n",
    "\n",
    "test_loader = DataLoader (SumDataset (mode='validation'),\n",
    "                           batch_size=batch_size,\n",
    "                           shuffle=True,\n",
    "                           **kwargs)"
   ]
  },
  {
   "cell_type": "markdown",
   "metadata": {
    "id": "YcSO_bFdUQz4"
   },
   "source": [
    "## Define the network architecture\n",
    "The architecture should be able to predict the digit using the image from MNIST and calculate the sum of the value predicted with the randomly sampled integer input (from 0-9)\n"
   ]
  },
  {
   "cell_type": "markdown",
   "metadata": {
    "id": "SQ1OvkyOvfgs"
   },
   "source": [
    "### Approach 1 - Train the model in two stages\n",
    "- _Stage 1:_ Train a classifier to predict the digits given the image\n",
    "- _Stage 2:_ Use the trained model from Stage 1, add few Fully Connected layers using the one-hot encoded random number and the one-hot encoded digit predictions to get the sum\n",
    "    - Make sure that the layers from Stage 1 are set to non-trainable i.e. `requires_grad=False`"
   ]
  },
  {
   "cell_type": "markdown",
   "metadata": {
    "id": "8hewMjrPv8WA"
   },
   "source": [
    "#### Stage 1 - Training MNIST"
   ]
  },
  {
   "cell_type": "code",
   "execution_count": 7,
   "metadata": {
    "id": "h_Cx9q2QFgM7"
   },
   "outputs": [],
   "source": [
    "class MNISTNet(nn.Module):\n",
    "    ''' Define a class initializing the layers constituting the required \n",
    "    CNN Architecture and the code for forward pass\n",
    "    Note: The class extends to the nn.Module, which is a base class for \n",
    "    Neural Network modules in PyTorch https://pytorch.org/docs/stable/generated/torch.nn.Module.html\n",
    "    '''\n",
    "\n",
    "    def __init__(self):\n",
    "        ''' Define the layers that constitute the network and\n",
    "        initialize the base class '''\n",
    "\n",
    "        # Start by initializing the base class\n",
    "        super().__init__()\n",
    "    \n",
    "        # Define the layers that make up the network\n",
    "        # i.e. the Network Architecture\n",
    "        # nn.Conv2d - Used to perform 2-dimensional convolution using the defined size of the kernel\n",
    "        # nn.MaxPool2d - 2d MaxPooling Layer of the defined size\n",
    "\n",
    "        # MNIST contains images of size 28x28\n",
    "        # Since the images are padded, the resultant images after convolution\n",
    "        # would have the same size\n",
    "        self.conv1 = nn.Conv2d(1, 32, 3, padding=1) # Input: 28x28x1; Output: 28x28x32; RF: 3x3\n",
    "        self.conv2 = nn.Conv2d(32, 64, 3, padding=1) # Input: 28x28x32; Output: 28x28x64; RF: 5x5\n",
    "        self.pool1 = nn.MaxPool2d(2, 2) # Input: 28x28x64; Output: 14x14x64; RF: 10x10\n",
    "        self.conv3 = nn.Conv2d(64, 128, 3, padding=1) # Input: 14x14x64; Output: 14x14x128; RF: 12x12 \n",
    "        self.conv4 = nn.Conv2d(128, 256, 3, padding=1) # Input: 14x14x128; Output: 14x14x256; RF: 14x14 \n",
    "        self.pool2 = nn.MaxPool2d(2, 2) # Input: 14x14x256; Output: 7x7x256; RF: 24x24\n",
    "        self.conv5 = nn.Conv2d(256, 512, 3) # Input: 7x7x256; Output: 5x5x512; RF: 26x26\n",
    "        self.conv6 = nn.Conv2d(512, 1024, 3) # Input: 5x5x512; Output: 3x3x1024; RF: 28x28\n",
    "        self.conv7 = nn.Conv2d(1024, 10, 3) # Input: 3x3x1024; Output: 1x1x10;\n",
    "\n",
    "        \n",
    "    def forward(self, x):\n",
    "        ''' Define the forward pass\n",
    "        Each convolution layer is activated using ReLU to add non-linearity\n",
    "        '''\n",
    "        # Convolution layer followed by ReLU Activation and then finally a pooling layer\n",
    "        x = self.pool1(F.relu(self.conv2(F.relu(self.conv1(x)))))\n",
    "\n",
    "        # Convolution layer followed by ReLU Activation and then finally a pooling layer\n",
    "        x = self.pool2(F.relu(self.conv4(F.relu(self.conv3(x)))))\n",
    "\n",
    "        # Conv followed by activation\n",
    "        x = F.relu(self.conv6(F.relu(self.conv5(x))))\n",
    "\n",
    "        # The final layer shouldn't be passed through ReLU, but should be retained\n",
    "        # as is, before computing the softmax (log)\n",
    "        #x = F.relu(self.conv7(x))\n",
    "        x = self.conv7(x)\n",
    "        x = x.view(-1, 10)\n",
    "        return F.log_softmax(x)"
   ]
  },
  {
   "cell_type": "code",
   "execution_count": 8,
   "metadata": {
    "colab": {
     "base_uri": "https://localhost:8080/"
    },
    "id": "xdydjYTZFyi3",
    "outputId": "b15aa388-dec2-4284-e3dc-43880f5833c3"
   },
   "outputs": [
    {
     "name": "stdout",
     "output_type": "stream",
     "text": [
      "Requirement already satisfied: torchsummary in /usr/local/lib/python3.7/dist-packages (1.5.1)\n",
      "----------------------------------------------------------------\n",
      "        Layer (type)               Output Shape         Param #\n",
      "================================================================\n",
      "            Conv2d-1           [-1, 32, 28, 28]             320\n",
      "            Conv2d-2           [-1, 64, 28, 28]          18,496\n",
      "         MaxPool2d-3           [-1, 64, 14, 14]               0\n",
      "            Conv2d-4          [-1, 128, 14, 14]          73,856\n",
      "            Conv2d-5          [-1, 256, 14, 14]         295,168\n",
      "         MaxPool2d-6            [-1, 256, 7, 7]               0\n",
      "            Conv2d-7            [-1, 512, 5, 5]       1,180,160\n",
      "            Conv2d-8           [-1, 1024, 3, 3]       4,719,616\n",
      "            Conv2d-9             [-1, 10, 1, 1]          92,170\n",
      "================================================================\n",
      "Total params: 6,379,786\n",
      "Trainable params: 6,379,786\n",
      "Non-trainable params: 0\n",
      "----------------------------------------------------------------\n",
      "Input size (MB): 0.00\n",
      "Forward/backward pass size (MB): 1.51\n",
      "Params size (MB): 24.34\n",
      "Estimated Total Size (MB): 25.85\n",
      "----------------------------------------------------------------\n"
     ]
    },
    {
     "name": "stderr",
     "output_type": "stream",
     "text": [
      "/usr/local/lib/python3.7/dist-packages/ipykernel_launcher.py:52: UserWarning: Implicit dimension choice for log_softmax has been deprecated. Change the call to include dim=X as an argument.\n"
     ]
    }
   ],
   "source": [
    "# To display an overview/summary of the network\n",
    "# Is also useful to validate whether the structure of the network is \n",
    "# correct, i.e. the input channels and the output channels and its flow\n",
    "!pip install torchsummary\n",
    "from torchsummary import summary\n",
    "\n",
    "# Create a model object\n",
    "model = MNISTNet().to(device)\n",
    "summary(model, input_size=(1, 28, 28))"
   ]
  },
  {
   "cell_type": "markdown",
   "metadata": {
    "id": "6o8uCexBDQw4"
   },
   "source": [
    "##### Train and Validate"
   ]
  },
  {
   "cell_type": "code",
   "execution_count": 9,
   "metadata": {
    "id": "8fDefDhaFlwH"
   },
   "outputs": [],
   "source": [
    "# TQDM is just awesome... provides a progress status bar as the training \n",
    "# (or any operation) proceeds\n",
    "from tqdm import tqdm\n",
    "\n",
    "\n",
    "def train(model, device, train_loader, optimizer, epoch):\n",
    "    ''' Define the training steps '''\n",
    "\n",
    "    # Set the model to training mode\n",
    "    model.train()\n",
    "\n",
    "    # Initialize the progress bar\n",
    "    pbar = tqdm(train_loader)\n",
    "\n",
    "    # Start iterating through the training data\n",
    "    for batch_idx, (data, rand_nos, target, results) in enumerate(pbar):\n",
    "        # Start by converting the data to the required type \n",
    "        # (PyTorch CUDA Tensor while using GPU)\n",
    "        # Convert the target from one-hot encoded vector to an it\n",
    "        data = data.to(device)\n",
    "        target = torch.argmax (target, dim=2).flatten ().to(device)\n",
    "\n",
    "        # Discard/reset the gradients from the previous iteration\n",
    "        optimizer.zero_grad()\n",
    "\n",
    "        # Get the predictions for the given data\n",
    "        output = model(data)\n",
    "\n",
    "        # Compute the negative loss likelihood of the predictions vs the actuals\n",
    "        # and propogate the loss backwards (back propogation)\n",
    "        loss = F.nll_loss(output, target)\n",
    "        loss.backward()\n",
    "\n",
    "        # Use the optimizer to take a step in the -ve of the gradient direction\n",
    "        # by the amount equal to the gradient magnitude times the learning rate \n",
    "        optimizer.step()\n",
    "\n",
    "        # Update the progress bar\n",
    "        pbar.set_description(desc= f'loss={loss.item():.4f} batch_id={batch_idx}')\n",
    "\n",
    "\n",
    "def test(model, device, test_loader):\n",
    "    ''' Validate the trained model on a hold-out set '''\n",
    "\n",
    "    # Set the model to evalution mode\n",
    "    model.eval()\n",
    "\n",
    "    # Initialize the losses\n",
    "    # and the no of correct predictions to 0\n",
    "    test_loss = 0\n",
    "    correct = 0\n",
    "\n",
    "    # Disable the gradient computations\n",
    "    # While evaulating only forward pass is used and the backward pass\n",
    "    # along with the gradient (likewise the gradient update) isn't required\n",
    "    with torch.no_grad():\n",
    "        # Iterate over the test/validation set\n",
    "        for data, rand_nos, target, results in test_loader:\n",
    "            # Converting the data to the required type \n",
    "            # (PyTorch Cuda Tensor while using GPU)\n",
    "            # Convert the target from one-hot encoded vector to an it\n",
    "            data = data.to(device)\n",
    "            target = torch.argmax (target, dim=2).flatten ().to(device)\n",
    "\n",
    "            # Get the predictions\n",
    "            output = model(data)\n",
    "\n",
    "            # Compute the loss against the target\n",
    "            test_loss += F.nll_loss(output, target, reduction='sum').item()  # sum up batch loss\n",
    "\n",
    "            # Get the index of the prediction\n",
    "            # i.e. the output is one-hot encoded, so get the argument with the max\n",
    "            # log probability\n",
    "            pred = output.argmax(dim=1, keepdim=True)  # get the index of the max log-probability\n",
    "\n",
    "            # Get a count of the correct preditcions\n",
    "            correct += pred.eq(target.view_as(pred)).sum().item()\n",
    "\n",
    "    # Compute the final loss on the test/validation data\n",
    "    test_loss /= len(test_loader.dataset)\n",
    "\n",
    "    # Display the results\n",
    "    print('\\nTest set: Average loss: {:.4f}, Accuracy: {}/{} ({:.2f}%)\\n'.format(\n",
    "        test_loss, correct, len(test_loader.dataset),\n",
    "        100. * correct / len(test_loader.dataset)))"
   ]
  },
  {
   "cell_type": "code",
   "execution_count": 10,
   "metadata": {
    "colab": {
     "base_uri": "https://localhost:8080/"
    },
    "id": "MMWbLWO6FuHb",
    "outputId": "5082b6be-ebc3-49bf-c283-cf912f742cd5"
   },
   "outputs": [
    {
     "name": "stderr",
     "output_type": "stream",
     "text": [
      "  0%|          | 0/469 [00:00<?, ?it/s]"
     ]
    },
    {
     "name": "stdout",
     "output_type": "stream",
     "text": [
      "Iteration 1\n"
     ]
    },
    {
     "name": "stderr",
     "output_type": "stream",
     "text": [
      "/usr/local/lib/python3.7/dist-packages/ipykernel_launcher.py:52: UserWarning: Implicit dimension choice for log_softmax has been deprecated. Change the call to include dim=X as an argument.\n",
      "loss=0.0138 batch_id=468: 100%|██████████| 469/469 [00:19<00:00, 23.95it/s]\n",
      "  0%|          | 0/469 [00:00<?, ?it/s]"
     ]
    },
    {
     "name": "stdout",
     "output_type": "stream",
     "text": [
      "\n",
      "Test set: Average loss: 0.0557, Accuracy: 9818/10000 (98.18%)\n",
      "\n",
      "\n",
      "\n",
      "Iteration 2\n"
     ]
    },
    {
     "name": "stderr",
     "output_type": "stream",
     "text": [
      "loss=0.1099 batch_id=468: 100%|██████████| 469/469 [00:19<00:00, 23.94it/s]\n",
      "  0%|          | 0/469 [00:00<?, ?it/s]"
     ]
    },
    {
     "name": "stdout",
     "output_type": "stream",
     "text": [
      "\n",
      "Test set: Average loss: 0.0384, Accuracy: 9890/10000 (98.90%)\n",
      "\n",
      "\n",
      "\n",
      "Iteration 3\n"
     ]
    },
    {
     "name": "stderr",
     "output_type": "stream",
     "text": [
      "loss=0.0283 batch_id=468: 100%|██████████| 469/469 [00:20<00:00, 23.38it/s]\n",
      "  0%|          | 0/469 [00:00<?, ?it/s]"
     ]
    },
    {
     "name": "stdout",
     "output_type": "stream",
     "text": [
      "\n",
      "Test set: Average loss: 0.0308, Accuracy: 9901/10000 (99.01%)\n",
      "\n",
      "\n",
      "\n",
      "Iteration 4\n"
     ]
    },
    {
     "name": "stderr",
     "output_type": "stream",
     "text": [
      "loss=0.0247 batch_id=468: 100%|██████████| 469/469 [00:20<00:00, 22.56it/s]\n",
      "  0%|          | 0/469 [00:00<?, ?it/s]"
     ]
    },
    {
     "name": "stdout",
     "output_type": "stream",
     "text": [
      "\n",
      "Test set: Average loss: 0.0294, Accuracy: 9909/10000 (99.09%)\n",
      "\n",
      "\n",
      "\n",
      "Iteration 5\n"
     ]
    },
    {
     "name": "stderr",
     "output_type": "stream",
     "text": [
      "loss=0.0481 batch_id=468: 100%|██████████| 469/469 [00:21<00:00, 21.91it/s]\n",
      "  0%|          | 0/469 [00:00<?, ?it/s]"
     ]
    },
    {
     "name": "stdout",
     "output_type": "stream",
     "text": [
      "\n",
      "Test set: Average loss: 0.0300, Accuracy: 9900/10000 (99.00%)\n",
      "\n",
      "\n",
      "\n",
      "Iteration 6\n"
     ]
    },
    {
     "name": "stderr",
     "output_type": "stream",
     "text": [
      "loss=0.0050 batch_id=468: 100%|██████████| 469/469 [00:20<00:00, 23.26it/s]\n",
      "  0%|          | 0/469 [00:00<?, ?it/s]"
     ]
    },
    {
     "name": "stdout",
     "output_type": "stream",
     "text": [
      "\n",
      "Test set: Average loss: 0.0254, Accuracy: 9914/10000 (99.14%)\n",
      "\n",
      "\n",
      "\n",
      "Iteration 7\n"
     ]
    },
    {
     "name": "stderr",
     "output_type": "stream",
     "text": [
      "loss=0.0072 batch_id=468: 100%|██████████| 469/469 [00:19<00:00, 23.71it/s]\n",
      "  0%|          | 0/469 [00:00<?, ?it/s]"
     ]
    },
    {
     "name": "stdout",
     "output_type": "stream",
     "text": [
      "\n",
      "Test set: Average loss: 0.0281, Accuracy: 9915/10000 (99.15%)\n",
      "\n",
      "\n",
      "\n",
      "Iteration 8\n"
     ]
    },
    {
     "name": "stderr",
     "output_type": "stream",
     "text": [
      "loss=0.0311 batch_id=468: 100%|██████████| 469/469 [00:19<00:00, 24.13it/s]\n",
      "  0%|          | 0/469 [00:00<?, ?it/s]"
     ]
    },
    {
     "name": "stdout",
     "output_type": "stream",
     "text": [
      "\n",
      "Test set: Average loss: 0.0308, Accuracy: 9920/10000 (99.20%)\n",
      "\n",
      "\n",
      "\n",
      "Iteration 9\n"
     ]
    },
    {
     "name": "stderr",
     "output_type": "stream",
     "text": [
      "loss=0.0020 batch_id=468: 100%|██████████| 469/469 [00:20<00:00, 23.40it/s]\n",
      "  0%|          | 0/469 [00:00<?, ?it/s]"
     ]
    },
    {
     "name": "stdout",
     "output_type": "stream",
     "text": [
      "\n",
      "Test set: Average loss: 0.0295, Accuracy: 9915/10000 (99.15%)\n",
      "\n",
      "\n",
      "\n",
      "Iteration 10\n"
     ]
    },
    {
     "name": "stderr",
     "output_type": "stream",
     "text": [
      "loss=0.0046 batch_id=468: 100%|██████████| 469/469 [00:20<00:00, 23.29it/s]\n"
     ]
    },
    {
     "name": "stdout",
     "output_type": "stream",
     "text": [
      "\n",
      "Test set: Average loss: 0.0265, Accuracy: 9931/10000 (99.31%)\n",
      "\n",
      "\n",
      "\n"
     ]
    }
   ],
   "source": [
    "# Initialize the model instance\n",
    "model = MNISTNet().to(device)\n",
    "\n",
    "# Define an optimizer to use to perform gradient descent\n",
    "# Various optimizers are suitable for different usecase, which help\n",
    "# reach the global optimal (i.e. a model with least errors/loss) quickly\n",
    "# In this case, Stochastic Gradient Descent (SGD) is used with momentum of 0.9\n",
    "# and the learning rate (alpha) set to 0.01 \n",
    "optimizer = optim.SGD(model.parameters(), lr=0.01, momentum=0.9)\n",
    "\n",
    "# Set the epochs\n",
    "epochs = 10\n",
    "\n",
    "# Train the model for epochs no. of times\n",
    "for epoch in range(0, epochs):\n",
    "    print (f'Iteration {epoch+1}')\n",
    "    # Initiate training phase\n",
    "    train(model, device, train_loader, optimizer, epoch)\n",
    "\n",
    "    # Validate the results on the test/validation set\n",
    "    test(model, device, test_loader)\n",
    "\n",
    "    print ('\\n')"
   ]
  },
  {
   "cell_type": "markdown",
   "metadata": {
    "id": "QD9-p3VdvVbY"
   },
   "source": [
    "#### Stage 2 - Training to calculate the sum"
   ]
  },
  {
   "cell_type": "code",
   "execution_count": 11,
   "metadata": {
    "id": "r50Kyk0OrNfM"
   },
   "outputs": [],
   "source": [
    "class SumNet (nn.Module):\n",
    "    ''' Compute the sum of the predicted digit and the random integer '''\n",
    "\n",
    "    def __init__(self, digit_network=None):\n",
    "        ''' Define the layers of the network and initialize the base class '''\n",
    "\n",
    "        # Start by initializing the base class\n",
    "        super ().__init__ ()\n",
    "\n",
    "        # Set the mode of operation\n",
    "        self.mode = 'training' # or 'validation'\n",
    "\n",
    "        # Check if the base network is passed\n",
    "        assert digit_network != None, \\\n",
    "            'Digit network has to be passed, please train to predict digits'\n",
    "\n",
    "        # Use the already trained network to get predictions on the input digit\n",
    "        self.digit_network = digit_network\n",
    "\n",
    "        # Disable gradient for all the layers in the base network\n",
    "        for layer in self.digit_network.parameters ():\n",
    "            layer.requires_grad = False\n",
    "\n",
    "        # Define the fully connected layers to calculate the sum\n",
    "        # This is over-kill for addition of two number both between 0-9\n",
    "        self.hidden_sum1 = nn.Linear (in_features=10+10, out_features=1000)\n",
    "        self.hidden_sum2 = nn.Linear (in_features=1000, out_features=100)\n",
    "        self.final_sum = nn.Linear (in_features=100, out_features=19)\n",
    "\n",
    "\n",
    "    def forward(self, x1, x2):\n",
    "        ''' Forward pass through the layers to calculate the sum \n",
    "        \n",
    "        Parameters:\n",
    "            x1 - One-hot encoded digit (while training the labels are used;\n",
    "                    while validating, the predictions from the above trainined model is used)\n",
    "            x2 - One-hot encoded randomly generated integer\n",
    "        '''\n",
    "\n",
    "        # Pass the predictions along with the randint to the fc layers\n",
    "        x = torch.cat ([x1.view (-1, 10), x2.view (-1, 10)], dim=1)\n",
    "        x = F.relu (self.hidden_sum1 (x))\n",
    "        x = F.dropout (x, p=0.5, training=True if self.mode=='training' else False)\n",
    "        x = F.relu (self.hidden_sum2 (x))\n",
    "        x = F.dropout (x, p=0.5, training=True if self.mode=='training' else False)\n",
    "        x = self.final_sum (x)\n",
    "        \n",
    "        x = x.view(-1, 19)\n",
    "        return F.log_softmax(x)"
   ]
  },
  {
   "cell_type": "code",
   "execution_count": 12,
   "metadata": {
    "colab": {
     "base_uri": "https://localhost:8080/"
    },
    "id": "O5VyhoHkwbyg",
    "outputId": "6cf0d677-7a84-4c92-d684-f296d8b1afd1",
    "scrolled": true,
    "tags": []
   },
   "outputs": [
    {
     "name": "stdout",
     "output_type": "stream",
     "text": [
      "----------------------------------------------------------------\n",
      "        Layer (type)               Output Shape         Param #\n",
      "================================================================\n",
      "            Linear-1                 [-1, 1000]          21,000\n",
      "            Linear-2                  [-1, 100]         100,100\n",
      "            Linear-3                   [-1, 19]           1,919\n",
      "================================================================\n",
      "Total params: 123,019\n",
      "Trainable params: 123,019\n",
      "Non-trainable params: 0\n",
      "----------------------------------------------------------------\n",
      "Input size (MB): 0.00\n",
      "Forward/backward pass size (MB): 0.01\n",
      "Params size (MB): 0.47\n",
      "Estimated Total Size (MB): 0.48\n",
      "----------------------------------------------------------------\n"
     ]
    },
    {
     "name": "stderr",
     "output_type": "stream",
     "text": [
      "/usr/local/lib/python3.7/dist-packages/ipykernel_launcher.py:48: UserWarning: Implicit dimension choice for log_softmax has been deprecated. Change the call to include dim=X as an argument.\n"
     ]
    }
   ],
   "source": [
    "# Create a model object\n",
    "sum_model = SumNet(model).to(device)\n",
    "summary(sum_model, input_size=[(1, 10), (1, 10)])"
   ]
  },
  {
   "cell_type": "markdown",
   "metadata": {
    "id": "RHaMbPJ_BSLs"
   },
   "source": [
    "**Note:** The error above (if any) is only in torch summary as seen in this [issue](https://github.com/sksq96/pytorch-summary/issues/90)"
   ]
  },
  {
   "cell_type": "markdown",
   "metadata": {
    "id": "U7Mj9n7iAKQk"
   },
   "source": [
    "##### Train and Validate"
   ]
  },
  {
   "cell_type": "code",
   "execution_count": 13,
   "metadata": {
    "id": "j_bijGpWAKQk"
   },
   "outputs": [],
   "source": [
    "# TQDM is just awesome... provides a progress status bar as the training \n",
    "# (or any operation) proceeds\n",
    "from tqdm import tqdm\n",
    "\n",
    "\n",
    "def train(model, device, train_loader, optimizer, epoch):\n",
    "    ''' Define the training steps '''\n",
    "\n",
    "    # Set the model to training mode\n",
    "    model.train()\n",
    "    model.mode = 'training'\n",
    "\n",
    "    # Initialize the progress bar\n",
    "    pbar = tqdm(train_loader)\n",
    "\n",
    "    # Start iterating through the training data\n",
    "    for batch_idx, (data, rand_nos, target, results) in enumerate(pbar):\n",
    "        # Start by converting the data to the required type \n",
    "        # (PyTorch CUDA Tensor while using GPU)\n",
    "        # Convert the target from one-hot encoded vector to an int\n",
    "        data = data.to(device)\n",
    "        target = target.type(torch.FloatTensor).to(device) # Used as input\n",
    "        rand_nos = rand_nos.to(device) # Used as input\n",
    "        results = torch.argmax (results, dim=2).flatten ().to(device)\n",
    "\n",
    "        # Discard/reset the gradients from the previous iteration\n",
    "        optimizer.zero_grad()\n",
    "\n",
    "        # Get the predictions\n",
    "        output = model(target, rand_nos)\n",
    "\n",
    "        # Compute the negative loss likelihood of the predictions vs the actuals\n",
    "        # and propogate the loss backwards (back propogation)\n",
    "        loss = F.nll_loss(output, results)\n",
    "        loss.backward()\n",
    "\n",
    "        # Use the optimizer to take a step in the -ve of the gradient direction\n",
    "        # by the amount equal to the gradient magnitude times the learning rate \n",
    "        optimizer.step()\n",
    "\n",
    "        # Update the progress bar\n",
    "        pbar.set_description(desc= f'loss={loss.item():.4f} batch_id={batch_idx}')\n",
    "\n",
    "\n",
    "def test(digit_model, model, device, test_loader):\n",
    "    ''' Validate the trained model on a hold-out set '''\n",
    "\n",
    "    # Set the model to evalution mode\n",
    "    model.eval()\n",
    "    model.mode = 'validation'\n",
    "\n",
    "    # Initialize the losses\n",
    "    # and the no of correct predictions to 0\n",
    "    test_loss = 0\n",
    "    correct = 0\n",
    "\n",
    "    # Disable the gradient computations\n",
    "    # While evaulating only forward pass is used and the backward pass\n",
    "    # along with the gradient (likewise the gradient update) isn't required\n",
    "    with torch.no_grad():\n",
    "        # Iterate over the test/validation set\n",
    "        for data, rand_nos, target, results in test_loader:\n",
    "            # Converting the data to the required type \n",
    "            # (PyTorch Cuda Tensor while using GPU)\n",
    "            # Convert the target from one-hot encoded vector to an it\n",
    "            data = data.to(device)\n",
    "            target = torch.argmax (target, dim=2).flatten ().to(device)\n",
    "            rand_nos = rand_nos.to(device)\n",
    "            results = torch.argmax (results, dim=2).flatten ().to(device)\n",
    "\n",
    "            # Get the predictions, and convert into a onehot encoded vector\n",
    "            digit_pred = digit_model (data)\n",
    "            digit_pred = digit_pred.argmax (dim=1, keepdim=True).flatten ()\n",
    "            digit_pred = F.one_hot (digit_pred, num_classes=10)\n",
    "            digit_pred = digit_pred.type (torch.FloatTensor).to(device)\n",
    "\n",
    "            # Get the results for the sum model\n",
    "            output = model(digit_pred, rand_nos)\n",
    "\n",
    "            # Compute the loss against the target\n",
    "            test_loss += F.nll_loss(output, results, reduction='sum').item()  # sum up batch loss\n",
    "\n",
    "            # Get the index of the prediction\n",
    "            # i.e. the output is one-hot encoded, so get the argument with the max\n",
    "            # log probability\n",
    "            pred = output.argmax(dim=1, keepdim=True)  # get the index of the max log-probability\n",
    "\n",
    "            # Get a count of the correct preditcions\n",
    "            correct += pred.eq(results.view_as(pred)).sum().item()\n",
    "\n",
    "    # Compute the final loss on the test/validation data\n",
    "    test_loss /= len(test_loader.dataset)\n",
    "\n",
    "    # Display the results\n",
    "    print('\\nTest set: Average loss: {:.4f}, Accuracy: {}/{} ({:.2f}%)\\n'.format(\n",
    "        test_loss, correct, len(test_loader.dataset),\n",
    "        100. * correct / len(test_loader.dataset)))"
   ]
  },
  {
   "cell_type": "code",
   "execution_count": 14,
   "metadata": {
    "colab": {
     "base_uri": "https://localhost:8080/"
    },
    "id": "8GunUcpUAKQk",
    "outputId": "21d6e832-f229-4487-870a-79994d1bb141"
   },
   "outputs": [
    {
     "name": "stderr",
     "output_type": "stream",
     "text": [
      "  0%|          | 0/469 [00:00<?, ?it/s]"
     ]
    },
    {
     "name": "stdout",
     "output_type": "stream",
     "text": [
      "Iteration 1\n"
     ]
    },
    {
     "name": "stderr",
     "output_type": "stream",
     "text": [
      "/usr/local/lib/python3.7/dist-packages/ipykernel_launcher.py:48: UserWarning: Implicit dimension choice for log_softmax has been deprecated. Change the call to include dim=X as an argument.\n",
      "loss=1.4728 batch_id=468: 100%|██████████| 469/469 [00:16<00:00, 28.36it/s]\n",
      "/usr/local/lib/python3.7/dist-packages/ipykernel_launcher.py:52: UserWarning: Implicit dimension choice for log_softmax has been deprecated. Change the call to include dim=X as an argument.\n",
      "  0%|          | 0/469 [00:00<?, ?it/s]"
     ]
    },
    {
     "name": "stdout",
     "output_type": "stream",
     "text": [
      "\n",
      "Test set: Average loss: 1.1869, Accuracy: 9118/10000 (91.18%)\n",
      "\n",
      "\n",
      "\n",
      "\n",
      "Iteration 2\n"
     ]
    },
    {
     "name": "stderr",
     "output_type": "stream",
     "text": [
      "loss=0.4264 batch_id=468: 100%|██████████| 469/469 [00:16<00:00, 28.56it/s]\n",
      "  0%|          | 0/469 [00:00<?, ?it/s]"
     ]
    },
    {
     "name": "stdout",
     "output_type": "stream",
     "text": [
      "\n",
      "Test set: Average loss: 0.2108, Accuracy: 9931/10000 (99.31%)\n",
      "\n",
      "\n",
      "\n",
      "\n",
      "Iteration 3\n"
     ]
    },
    {
     "name": "stderr",
     "output_type": "stream",
     "text": [
      "loss=0.1947 batch_id=468: 100%|██████████| 469/469 [00:16<00:00, 28.40it/s]\n",
      "  0%|          | 0/469 [00:00<?, ?it/s]"
     ]
    },
    {
     "name": "stdout",
     "output_type": "stream",
     "text": [
      "\n",
      "Test set: Average loss: 0.0939, Accuracy: 9931/10000 (99.31%)\n",
      "\n",
      "\n",
      "\n",
      "\n",
      "Iteration 4\n"
     ]
    },
    {
     "name": "stderr",
     "output_type": "stream",
     "text": [
      "loss=0.1376 batch_id=468: 100%|██████████| 469/469 [00:16<00:00, 28.33it/s]\n",
      "  0%|          | 0/469 [00:00<?, ?it/s]"
     ]
    },
    {
     "name": "stdout",
     "output_type": "stream",
     "text": [
      "\n",
      "Test set: Average loss: 0.0829, Accuracy: 9931/10000 (99.31%)\n",
      "\n",
      "\n",
      "\n",
      "\n",
      "Iteration 5\n"
     ]
    },
    {
     "name": "stderr",
     "output_type": "stream",
     "text": [
      "loss=0.0607 batch_id=468: 100%|██████████| 469/469 [00:16<00:00, 28.34it/s]\n"
     ]
    },
    {
     "name": "stdout",
     "output_type": "stream",
     "text": [
      "\n",
      "Test set: Average loss: 0.0810, Accuracy: 9931/10000 (99.31%)\n",
      "\n",
      "\n",
      "\n",
      "\n"
     ]
    }
   ],
   "source": [
    "# Initialize the model instance\n",
    "sum_model = SumNet(model).to(device)\n",
    "\n",
    "# Define an optimizer to use to perform gradient descent\n",
    "# Various optimizers are suitable for different usecase, which help\n",
    "# reach the global optimal (i.e. a model with least errors/loss) quickly\n",
    "# In this case, Stochastic Gradient Descent (SGD) is used with momentum of 0.9\n",
    "# and the learning rate (alpha) set to 0.01 \n",
    "optimizer = optim.SGD(sum_model.parameters(), lr=0.01, momentum=0.9)\n",
    "\n",
    "# Set the epochs\n",
    "epochs = 5\n",
    "\n",
    "# Train the model for epochs no. of times\n",
    "for epoch in range(0, epochs):\n",
    "    print (f'Iteration {epoch+1}')\n",
    "    # Initiate training phase\n",
    "    train(sum_model, device, train_loader, optimizer, epoch)\n",
    "\n",
    "    # Validate the results on the test/validation set\n",
    "    test(model, sum_model, device, test_loader)\n",
    "\n",
    "    print ('\\n\\n')"
   ]
  },
  {
   "cell_type": "markdown",
   "metadata": {
    "id": "qM43wfJZ2V6Q"
   },
   "source": [
    "#### Visualize the results\n",
    "The results from Model 1 (i.e. to predict the handwritten digit) was about 99.3 at best and the final model with the sum calculation is similar at 99.31"
   ]
  },
  {
   "cell_type": "code",
   "execution_count": 15,
   "metadata": {
    "colab": {
     "base_uri": "https://localhost:8080/",
     "height": 917
    },
    "id": "n65pEQg5A-rQ",
    "outputId": "c58ea2d6-cf73-4da1-e711-84077ed95e93"
   },
   "outputs": [
    {
     "name": "stderr",
     "output_type": "stream",
     "text": [
      "/usr/local/lib/python3.7/dist-packages/ipykernel_launcher.py:52: UserWarning: Implicit dimension choice for log_softmax has been deprecated. Change the call to include dim=X as an argument.\n",
      "/usr/local/lib/python3.7/dist-packages/ipykernel_launcher.py:48: UserWarning: Implicit dimension choice for log_softmax has been deprecated. Change the call to include dim=X as an argument.\n"
     ]
    },
    {
     "data": {
      "image/png": "[encoded data removed]",
      "text/plain": [
       "<Figure size 1080x1080 with 50 Axes>"
      ]
     },
     "metadata": {
      "tags": []
     },
     "output_type": "display_data"
    }
   ],
   "source": [
    "# Display sample results from the test set\n",
    "fig = plt.figure(figsize=(15, 15))\n",
    "grid = ImageGrid(fig, 111, \n",
    "                nrows_ncols=(5, 5),\n",
    "                axes_pad=0.1)\n",
    "\n",
    "for ax, batch in zip (grid, test_loader):\n",
    "    # Get a random index\n",
    "    idx = torch.randint (low=0, high=batch_size, size=(1,)) [0]\n",
    "    \n",
    "    # Get the image and label\n",
    "    img, rand_no, label, result = batch [0][idx], batch [1][idx], batch [2][idx], batch [3][idx]\n",
    "    \n",
    "    # Get predictions\n",
    "    digit_pred = model(img.view (-1, 1, 28, 28).to (device))\n",
    "    digit_pred = digit_pred.argmax (dim=1, keepdim=True).flatten ()\n",
    "    digit_pred = F.one_hot (digit_pred, num_classes=10)\n",
    "\n",
    "    # Get the results for the sum model\n",
    "    output = sum_model(digit_pred.type (torch.FloatTensor).to (device), rand_no.to (device))\n",
    "\n",
    "    # Display the image with the label\n",
    "    ax.imshow (img.view (28, 28), cmap='gray')\n",
    "    ax.set_title (f'A:{torch.argmax(label)}+{torch.argmax(rand_no)}={torch.argmax(result)} || ' +\\\n",
    "                  f'P:{torch.argmax(digit_pred)}+{torch.argmax(rand_no)}={torch.argmax(output)}')\n",
    "    ax.axis ('off');"
   ]
  },
  {
   "cell_type": "markdown",
   "metadata": {
    "id": "lq-YrC973CWA"
   },
   "source": [
    "#### Combine the two stages"
   ]
  },
  {
   "cell_type": "code",
   "execution_count": 16,
   "metadata": {
    "id": "FaU7XSGevA9w"
   },
   "outputs": [],
   "source": [
    "class MNIST_SumNet (nn.Module):\n",
    "    ''' Given an input image of a handwritten digit and a random integer (between\n",
    "    0-9), the model will return the predicted digit and the sum of the int and the digit '''\n",
    "\n",
    "    def __init__(self, mnist_model, sum_model):\n",
    "        ''' Initiaize with the trained models \n",
    "        \n",
    "        Parameters:\n",
    "            mnist_model - Model trained on MNIST\n",
    "            sum_model - Model trained to predict the sum\n",
    "        '''\n",
    "        # Initialize the super class\n",
    "        super ().__init__ ()\n",
    "        \n",
    "        # Trained on MNIST\n",
    "        self.mnist_model = mnist_model\n",
    "\n",
    "        # Trained to get the sum of two ints (0-9)\n",
    "        self.sum_model = sum_model\n",
    "\n",
    "\n",
    "    def forward (self, img, number):\n",
    "        ''' Predict the digit and calculate the sum during the forward pass \n",
    "        \n",
    "        Parameters:\n",
    "            img - Image of a digit (of size 28x28 each)\n",
    "            number - Any integer between 0 and 9 (inclusive)\n",
    "        '''\n",
    "\n",
    "        # Set the device to either cpu or gpu\n",
    "        device = torch.device(\"cuda\" if torch.cuda.is_available() else \"cpu\")\n",
    "\n",
    "        # Predict the digit and one-hot encode the result to be passed \n",
    "        # to get the sum\n",
    "        digit_pred = self.mnist_model (img.view (-1, 1, 28, 28).to (device))\n",
    "        digit_pred = digit_pred.argmax (dim=1, keepdim=True).flatten ()\n",
    "        digit_pred = F.one_hot (digit_pred, num_classes=10)\n",
    "\n",
    "        # Get the results for the sum model\n",
    "        output = sum_model(digit_pred.type (torch.FloatTensor).to (device), rand_no.to (device))\n",
    "        \n",
    "        # Return the predicted digit and the sum\n",
    "        return digit_pred, output "
   ]
  },
  {
   "cell_type": "code",
   "execution_count": 17,
   "metadata": {
    "colab": {
     "base_uri": "https://localhost:8080/",
     "height": 917
    },
    "id": "ywPUlJUU6_to",
    "outputId": "5ce26c3c-d42b-4cbb-e84f-771f103fa9b2"
   },
   "outputs": [
    {
     "name": "stderr",
     "output_type": "stream",
     "text": [
      "/usr/local/lib/python3.7/dist-packages/ipykernel_launcher.py:52: UserWarning: Implicit dimension choice for log_softmax has been deprecated. Change the call to include dim=X as an argument.\n",
      "/usr/local/lib/python3.7/dist-packages/ipykernel_launcher.py:48: UserWarning: Implicit dimension choice for log_softmax has been deprecated. Change the call to include dim=X as an argument.\n"
     ]
    },
    {
     "data": {
      "image/png": "[encoded data removed]",
      "text/plain": [
       "<Figure size 1080x1080 with 50 Axes>"
      ]
     },
     "metadata": {
      "tags": []
     },
     "output_type": "display_data"
    }
   ],
   "source": [
    "# Display sample results from the test set\n",
    "fig = plt.figure(figsize=(15, 15))\n",
    "grid = ImageGrid(fig, 111, \n",
    "                nrows_ncols=(5, 5),\n",
    "                axes_pad=0.1)\n",
    "\n",
    "# Create an object of the Network Class\n",
    "mnist_sum = MNIST_SumNet (mnist_model=model, sum_model=sum_model)\n",
    "\n",
    "# Iterate over a few samples\n",
    "for ax, batch in zip (grid, test_loader):\n",
    "    # Get a random index\n",
    "    idx = torch.randint (low=0, high=batch_size, size=(1,)) [0]\n",
    "\n",
    "    # Get the image and label\n",
    "    img, rand_no, label, result = batch [0][idx], batch [1][idx], batch [2][idx], batch [3][idx]\n",
    "\n",
    "    # Get the predicted digit and the sum\n",
    "    digit_pred, output = mnist_sum (img, rand_no)\n",
    "\n",
    "    # Display the image with the label\n",
    "    ax.imshow (img.view (28, 28), cmap='gray')\n",
    "    ax.set_title (f'A:{torch.argmax(label)}+{torch.argmax(rand_no)}={torch.argmax(result)} || ' +\\\n",
    "                  f'P:{torch.argmax(digit_pred)}+{torch.argmax(rand_no)}={torch.argmax(output)}')\n",
    "    ax.axis ('off');"
   ]
  },
  {
   "cell_type": "code",
   "execution_count": null,
   "metadata": {},
   "outputs": [],
   "source": []
  }
 ],
 "metadata": {
  "accelerator": "GPU",
  "colab": {
   "collapsed_sections": [],
   "name": "Assignment 3 - Custom Neural Network.ipynb",
   "provenance": [],
   "toc_visible": true
  },
  "kernelspec": {
   "display_name": "Python 3",
   "language": "python",
   "name": "python3"
  },
  "language_info": {
   "codemirror_mode": {
    "name": "ipython",
    "version": 3
   },
   "file_extension": ".py",
   "mimetype": "text/x-python",
   "name": "python",
   "nbconvert_exporter": "python",
   "pygments_lexer": "ipython3",
   "version": "3.7.10"
  },
  "widgets": {
   "application/vnd.jupyter.widget-state+json": {
    "2511bdb8750a4513949e80b19ef81fc3": {
     "model_module": "@jupyter-widgets/controls",
     "model_name": "HBoxModel",
     "state": {
      "_dom_classes": [],
      "_model_module": "@jupyter-widgets/controls",
      "_model_module_version": "1.5.0",
      "_model_name": "HBoxModel",
      "_view_count": null,
      "_view_module": "@jupyter-widgets/controls",
      "_view_module_version": "1.5.0",
      "_view_name": "HBoxView",
      "box_style": "",
      "children": [
       "IPY_MODEL_1481289a480748f4a3170de90427b759",
       "IPY_MODEL_d8129508d333404b8452455fea156dc6"
      ],
      "layout": "IPY_MODEL_0e33f10999cc416094e846bedf993396"
     }
    },
    "49d423bfaaa046e6b0507a7ba9e1e702": {
     "model_module": "@jupyter-widgets/controls",
     "model_name": "HBoxModel",
     "state": {
      "_dom_classes": [],
      "_model_module": "@jupyter-widgets/controls",
      "_model_module_version": "1.5.0",
      "_model_name": "HBoxModel",
      "_view_count": null,
      "_view_module": "@jupyter-widgets/controls",
      "_view_module_version": "1.5.0",
      "_view_name": "HBoxView",
      "box_style": "",
      "children": [
       "IPY_MODEL_ca75938531024d61aaad832ae0593cb5",
       "IPY_MODEL_d3dc34167ddd47489f61e52322b157e7"
      ],
      "layout": "IPY_MODEL_94f7f19fe34b479aba0d4e66f1a864a1"
     }
    },
    "4e89ca28ab05412887263e59a2c6646b": {
     "model_module": "@jupyter-widgets/controls",
     "model_name": "HBoxModel",
     "state": {
      "_dom_classes": [],
      "_model_module": "@jupyter-widgets/controls",
      "_model_module_version": "1.5.0",
      "_model_name": "HBoxModel",
      "_view_count": null,
      "_view_module": "@jupyter-widgets/controls",
      "_view_module_version": "1.5.0",
      "_view_name": "HBoxView",
      "box_style": "",
      "children": [
       "IPY_MODEL_eb77187c82fc4512879e7e49475afe8a",
       "IPY_MODEL_93d11cb2ce714857adc607155ed61d4c"
      ],
      "layout": "IPY_MODEL_2e0bbd3f491c4560b9896b602f592c0e"
     }
    },
    "564c29c2ec094d4ab89ae57b3cb0dad4": {
     "model_module": "@jupyter-widgets/controls",
     "model_name": "HBoxModel",
     "state": {
      "_dom_classes": [],
      "_model_module": "@jupyter-widgets/controls",
      "_model_module_version": "1.5.0",
      "_model_name": "HBoxModel",
      "_view_count": null,
      "_view_module": "@jupyter-widgets/controls",
      "_view_module_version": "1.5.0",
      "_view_name": "HBoxView",
      "box_style": "",
      "children": [
       "IPY_MODEL_f1a931a2fafb46a7ac8fa3b650d12a6a",
       "IPY_MODEL_8cfe2c042648481899f53637c2cc8e31"
      ],
      "layout": "IPY_MODEL_b8ff9a832133433483dc55cff4e23c9d"
     }
    },
    "941228b50c5b462cb7d58bcd1ba4f5d2": {
     "model_module": "@jupyter-widgets/controls",
     "model_name": "HBoxModel",
     "state": {
      "_dom_classes": [],
      "_model_module": "@jupyter-widgets/controls",
      "_model_module_version": "1.5.0",
      "_model_name": "HBoxModel",
      "_view_count": null,
      "_view_module": "@jupyter-widgets/controls",
      "_view_module_version": "1.5.0",
      "_view_name": "HBoxView",
      "box_style": "",
      "children": [
       "IPY_MODEL_1553b9d48dd14624aa294c577a7a24e5",
       "IPY_MODEL_6423fde18b404940a9b6d8fc594fdf17"
      ],
      "layout": "IPY_MODEL_3285d5d1f2134b8ab9e8446c28508121"
     }
    },
    "ed0e7220eef945088270d7866860b59b": {
     "model_module": "@jupyter-widgets/controls",
     "model_name": "HBoxModel",
     "state": {
      "_dom_classes": [],
      "_model_module": "@jupyter-widgets/controls",
      "_model_module_version": "1.5.0",
      "_model_name": "HBoxModel",
      "_view_count": null,
      "_view_module": "@jupyter-widgets/controls",
      "_view_module_version": "1.5.0",
      "_view_name": "HBoxView",
      "box_style": "",
      "children": [
       "IPY_MODEL_5d45af5d20e044cab1093e7a4e5cd807",
       "IPY_MODEL_f606d2da5c7c4001bc73073fa2d9f6b3"
      ],
      "layout": "IPY_MODEL_4c1037d4c1d540c6ac284b92d03fdb96"
     }
    }
   }
  }
 },
 "nbformat": 4,
 "nbformat_minor": 4
}
