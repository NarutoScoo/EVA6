{
 "cells": [
  {
   "cell_type": "markdown",
   "metadata": {
    "id": "fPM6_Len_SeI"
   },
   "source": [
    "# Building a Convolutional Neural Network to classify Handwritten Digits\n",
    "**Dataset:** [MNIST](https://en.wikipedia.org/wiki/MNIST_database)"
   ]
  },
  {
   "cell_type": "markdown",
   "metadata": {
    "id": "03OhnCitBOM4"
   },
   "source": [
    "## Imports\n",
    "Import the required libraries"
   ]
  },
  {
   "cell_type": "code",
   "execution_count": 1,
   "metadata": {
    "id": "0m2JWFliFfKT"
   },
   "outputs": [],
   "source": [
    "# PyTorch, everything from PyTorch can be referred with this\n",
    "import torch\n",
    "\n",
    "# Import the neural network model seperately\n",
    "import torch.nn as nn\n",
    "\n",
    "# Contains functions that are required such as ReLu (Activation function)\n",
    "import torch.nn.functional as F \n",
    "\n",
    "# Optimizers required to converge using Backpropogation\n",
    "import torch.optim as optim\n",
    "\n",
    "# Datasets are used to download and load the data\n",
    "# used to train and validate\n",
    "# Transforms can be used to define modifications and/or augmentations methods\n",
    "# to be applied while passing the data\n",
    "# Normalization can also be one of the compositions of transforms\n",
    "from torchvision import datasets, transforms"
   ]
  },
  {
   "cell_type": "markdown",
   "metadata": {
    "id": "QfO98MkD12do"
   },
   "source": [
    "## Define the network architecture"
   ]
  },
  {
   "cell_type": "code",
   "execution_count": 2,
   "metadata": {
    "id": "h_Cx9q2QFgM7"
   },
   "outputs": [],
   "source": [
    "class Net(nn.Module):\n",
    "    ''' Define a class initializing the layers constituting the required \n",
    "    CNN Architecture and the code for forward pass\n",
    "    Note: The class extends to the nn.Module, which is a base class for \n",
    "    Neural Network modules in PyTorch https://pytorch.org/docs/stable/generated/torch.nn.Module.html\n",
    "    '''\n",
    "\n",
    "    def __init__(self):\n",
    "        ''' Define the layers that constitute the network and\n",
    "        initialize the base class '''\n",
    "\n",
    "        # Start by initializing the base class\n",
    "        super(Net, self).__init__()\n",
    "    \n",
    "        # Define the layers that make up the network\n",
    "        # i.e. the Network Architecture\n",
    "        # nn.Conv2d - Used to perform 2-dimensional convolution using the defined size of the kernel\n",
    "        # nn.MaxPool2d - 2d MaxPooling Layer of the defined size\n",
    "\n",
    "        # MNIST contains images of size 28x28\n",
    "        # Since the images are padded, the resultant images after convolution\n",
    "        # would have the same size\n",
    "        self.conv1 = nn.Conv2d(1, 32, 3, padding=1) # Input: 28x28x1; Output: 28x28x32; RF: 3x3\n",
    "        self.conv2 = nn.Conv2d(32, 64, 3, padding=1) # Input: 28x28x32; Output: 28x28x64; RF: 5x5\n",
    "        self.pool1 = nn.MaxPool2d(2, 2) # Input: 28x28x64; Output: 14x14x64; RF: 10x10\n",
    "        self.conv3 = nn.Conv2d(64, 128, 3, padding=1) # Input: 14x14x64; Output: 14x14x128; RF: 12x12 \n",
    "        self.conv4 = nn.Conv2d(128, 256, 3, padding=1) # Input: 14x14x128; Output: 14x14x256; RF: 14x14 \n",
    "        self.pool2 = nn.MaxPool2d(2, 2) # Input: 14x14x256; Output: 7x7x256; RF: 28x28 ??? Shouldn't the receptive field be equal to the image size at the prenultimate layer?\n",
    "        self.conv5 = nn.Conv2d(256, 512, 3) # Input: 7x7x256; Output: 5x5x512; RF: 30x30\n",
    "        self.conv6 = nn.Conv2d(512, 1024, 3) # Input: 5x5x512; Output: 3x3x1024; RF: 32x32\n",
    "        self.conv7 = nn.Conv2d(1024, 10, 3) # Input: 3x3x1024; Output: 1x1x10; \n",
    "\n",
    "        \n",
    "    def forward(self, x):\n",
    "        ''' Define the forward pass\n",
    "        Each convolution layer is activated using ReLU to add non-linearity\n",
    "        '''\n",
    "        # Convolution layer followed by ReLU Activation and then finally a pooling layer\n",
    "        x = self.pool1(F.relu(self.conv2(F.relu(self.conv1(x)))))\n",
    "\n",
    "        # Convolution layer followed by ReLU Activation and then finally a pooling layer\n",
    "        x = self.pool2(F.relu(self.conv4(F.relu(self.conv3(x)))))\n",
    "\n",
    "        # Conv followed by activation\n",
    "        x = F.relu(self.conv6(F.relu(self.conv5(x))))\n",
    "\n",
    "        # The final layer shouldn't be passed through ReLU, but shouldn't be retained\n",
    "        # as is, before computing the softmax (log)\n",
    "        #x = F.relu(self.conv7(x))\n",
    "        x = self.conv7(x)\n",
    "        x = x.view(-1, 10)\n",
    "        return F.log_softmax(x)"
   ]
  },
  {
   "cell_type": "code",
   "execution_count": 3,
   "metadata": {
    "colab": {
     "base_uri": "https://localhost:8080/"
    },
    "id": "xdydjYTZFyi3",
    "outputId": "afa22456-45d1-49cc-b6bc-1aa98e1c51e7"
   },
   "outputs": [
    {
     "name": "stdout",
     "output_type": "stream",
     "text": [
      "Requirement already satisfied: torchsummary in /usr/local/lib/python3.7/dist-packages (1.5.1)\n",
      "----------------------------------------------------------------\n",
      "        Layer (type)               Output Shape         Param #\n",
      "================================================================\n",
      "            Conv2d-1           [-1, 32, 28, 28]             320\n",
      "            Conv2d-2           [-1, 64, 28, 28]          18,496\n",
      "         MaxPool2d-3           [-1, 64, 14, 14]               0\n",
      "            Conv2d-4          [-1, 128, 14, 14]          73,856\n",
      "            Conv2d-5          [-1, 256, 14, 14]         295,168\n",
      "         MaxPool2d-6            [-1, 256, 7, 7]               0\n",
      "            Conv2d-7            [-1, 512, 5, 5]       1,180,160\n",
      "            Conv2d-8           [-1, 1024, 3, 3]       4,719,616\n",
      "            Conv2d-9             [-1, 10, 1, 1]          92,170\n",
      "================================================================\n",
      "Total params: 6,379,786\n",
      "Trainable params: 6,379,786\n",
      "Non-trainable params: 0\n",
      "----------------------------------------------------------------\n",
      "Input size (MB): 0.00\n",
      "Forward/backward pass size (MB): 1.51\n",
      "Params size (MB): 24.34\n",
      "Estimated Total Size (MB): 25.85\n",
      "----------------------------------------------------------------\n"
     ]
    },
    {
     "name": "stderr",
     "output_type": "stream",
     "text": [
      "/usr/local/lib/python3.7/dist-packages/ipykernel_launcher.py:51: UserWarning: Implicit dimension choice for log_softmax has been deprecated. Change the call to include dim=X as an argument.\n"
     ]
    }
   ],
   "source": [
    "# To display an overview/summary of the network\n",
    "# Is also useful to validate whether the structure of the network is \n",
    "# correct, i.e. the input channels and the output channels and its flow\n",
    "!pip install torchsummary\n",
    "from torchsummary import summary\n",
    "\n",
    "# Set it to use GPU if available\n",
    "use_cuda = torch.cuda.is_available()\n",
    "device = torch.device(\"cuda\" if use_cuda else \"cpu\")\n",
    "\n",
    "# Create a model object\n",
    "model = Net().to(device)\n",
    "summary(model, input_size=(1, 28, 28))"
   ]
  },
  {
   "cell_type": "markdown",
   "metadata": {
    "id": "cu4Y5itFDM-s"
   },
   "source": [
    "## Load the data"
   ]
  },
  {
   "cell_type": "code",
   "execution_count": 4,
   "metadata": {
    "id": "DqTWLaM5GHgH"
   },
   "outputs": [],
   "source": [
    "# Seed the random generator used by PyTorch\n",
    "# so that the results are reproduceable\n",
    "torch.manual_seed(1)\n",
    "\n",
    "# Define the batch size to be used\n",
    "# i.e. the number of images to be used per batch\n",
    "batch_size = 128\n",
    "\n",
    "# Parameters to be used while loading the data\n",
    "kwargs = {'num_workers': 1, 'pin_memory': True} if use_cuda else {}\n",
    "\n",
    "# Download & Load the training set\n",
    "# Transforms are used to Normalize the data & to convert to a tensor \n",
    "# since the images are read as numpy nd-array\n",
    "train_loader = torch.utils.data.DataLoader(\n",
    "    datasets.MNIST('../data', train=True, download=True,\n",
    "                    transform=transforms.Compose([\n",
    "                        transforms.ToTensor(),\n",
    "                        transforms.Normalize((0.1307,), (0.3081,))\n",
    "                    ])),\n",
    "    batch_size=batch_size, shuffle=True, **kwargs)\n",
    "\n",
    "# Download & Load the test set\n",
    "# Normalization similar to train\n",
    "test_loader = torch.utils.data.DataLoader(\n",
    "    datasets.MNIST('../data', train=False, transform=transforms.Compose([\n",
    "                        transforms.ToTensor(),\n",
    "                        transforms.Normalize((0.1307,), (0.3081,))\n",
    "                    ])),\n",
    "    batch_size=batch_size, shuffle=True, **kwargs)"
   ]
  },
  {
   "cell_type": "markdown",
   "metadata": {
    "id": "6o8uCexBDQw4"
   },
   "source": [
    "## Train and Validate"
   ]
  },
  {
   "cell_type": "code",
   "execution_count": 5,
   "metadata": {
    "id": "8fDefDhaFlwH"
   },
   "outputs": [],
   "source": [
    "# TQDM is just awesome... provides a progress status bar as the training \n",
    "# (or any operation) proceeds\n",
    "from tqdm import tqdm\n",
    "\n",
    "\n",
    "def train(model, device, train_loader, optimizer, epoch):\n",
    "    ''' Define the training steps '''\n",
    "\n",
    "    # Set the model to training mode\n",
    "    model.train()\n",
    "\n",
    "    # Initialize the progress bar\n",
    "    pbar = tqdm(train_loader)\n",
    "\n",
    "    # Start iterating through the training data\n",
    "    for batch_idx, (data, target) in enumerate(pbar):\n",
    "        # Start by converting the data to the required type \n",
    "        # (PyTorch Cuda Tensor while using GPU)\n",
    "        data, target = data.to(device), target.to(device)\n",
    "\n",
    "        # Discard/reset the gradients from the last iteration\n",
    "        optimizer.zero_grad()\n",
    "\n",
    "        # Get the predictions for the given data\n",
    "        output = model(data)\n",
    "\n",
    "        # Compute the negative loss likelihood of the predictions vs the actuals\n",
    "        # and propogate the loss backwards (back propogation)\n",
    "        loss = F.nll_loss(output, target)\n",
    "        loss.backward()\n",
    "\n",
    "        # Use the optimizer to take a step in the -ve of the gradient direction\n",
    "        # by the amount equal to the gradient magnitude times the learning rate \n",
    "        optimizer.step()\n",
    "\n",
    "        # Update the progress bar\n",
    "        pbar.set_description(desc= f'loss={loss.item()} batch_id={batch_idx}')\n",
    "\n",
    "\n",
    "def test(model, device, test_loader):\n",
    "    ''' Validate the trained model on a hold-out set '''\n",
    "\n",
    "    # Set the model to evalution mode\n",
    "    model.eval()\n",
    "\n",
    "    # Initialize the losses\n",
    "    # and the no of correct predictions to 0\n",
    "    test_loss = 0\n",
    "    correct = 0\n",
    "\n",
    "    # Disable the gradient computations\n",
    "    # While evaulating only forward pass is used and the backward pass\n",
    "    # along with the gradient (likewise the gradient update) isn't required\n",
    "    with torch.no_grad():\n",
    "        # Iterate over the test/validation set\n",
    "        for data, target in test_loader:\n",
    "            # Converting the data to the required type \n",
    "            # (PyTorch Cuda Tensor while using GPU)\n",
    "            data, target = data.to(device), target.to(device)\n",
    "\n",
    "            # Get the predictions\n",
    "            output = model(data)\n",
    "\n",
    "            # Compute the loss against the target\n",
    "            test_loss += F.nll_loss(output, target, reduction='sum').item()  # sum up batch loss\n",
    "\n",
    "            # Get the index of the prediction\n",
    "            # i.e. the output is one-hot encoded, so get the argument with the max\n",
    "            # log probability\n",
    "            pred = output.argmax(dim=1, keepdim=True)  # get the index of the max log-probability\n",
    "\n",
    "            # Get a count of the correct preditcions\n",
    "            correct += pred.eq(target.view_as(pred)).sum().item()\n",
    "\n",
    "    # Compute the final loss on the test/validation data\n",
    "    test_loss /= len(test_loader.dataset)\n",
    "\n",
    "    # Display the results\n",
    "    print('\\nTest set: Average loss: {:.4f}, Accuracy: {}/{} ({:.0f}%)\\n'.format(\n",
    "        test_loss, correct, len(test_loader.dataset),\n",
    "        100. * correct / len(test_loader.dataset)))"
   ]
  },
  {
   "cell_type": "code",
   "execution_count": 6,
   "metadata": {
    "colab": {
     "base_uri": "https://localhost:8080/"
    },
    "id": "MMWbLWO6FuHb",
    "outputId": "d38052d4-e1d0-43e7-a522-e75f5cb6c9c9"
   },
   "outputs": [
    {
     "name": "stderr",
     "output_type": "stream",
     "text": [
      "  0%|          | 0/469 [00:00<?, ?it/s]"
     ]
    },
    {
     "name": "stdout",
     "output_type": "stream",
     "text": [
      "Iteration 1\n"
     ]
    },
    {
     "name": "stderr",
     "output_type": "stream",
     "text": [
      "/usr/local/lib/python3.7/dist-packages/ipykernel_launcher.py:51: UserWarning: Implicit dimension choice for log_softmax has been deprecated. Change the call to include dim=X as an argument.\n",
      "loss=0.03500483185052872 batch_id=468: 100%|██████████| 469/469 [00:21<00:00, 21.62it/s]\n",
      "  0%|          | 0/469 [00:00<?, ?it/s]"
     ]
    },
    {
     "name": "stdout",
     "output_type": "stream",
     "text": [
      "\n",
      "Test set: Average loss: 0.0704, Accuracy: 9771/10000 (98%)\n",
      "\n",
      "\n",
      "\n",
      "\n",
      "\n",
      "Iteration 2\n"
     ]
    },
    {
     "name": "stderr",
     "output_type": "stream",
     "text": [
      "loss=0.07858671247959137 batch_id=468: 100%|██████████| 469/469 [00:21<00:00, 21.47it/s]\n"
     ]
    },
    {
     "name": "stdout",
     "output_type": "stream",
     "text": [
      "\n",
      "Test set: Average loss: 0.0329, Accuracy: 9883/10000 (99%)\n",
      "\n",
      "\n",
      "\n",
      "\n",
      "\n"
     ]
    }
   ],
   "source": [
    "# Initialize the model instance\n",
    "model = Net().to(device)\n",
    "\n",
    "# Define an optimizer to use to perform gradient descent\n",
    "# Various optimizers are suitable for different usecase, which help\n",
    "# reach the global optimal (i.e. a model with least errors/loss) quickly\n",
    "# In this case, Stochastic Gradient Descent (SGD) is used with momentum of 0.9\n",
    "# and the learning rate (alpha) set to 0.01 \n",
    "optimizer = optim.SGD(model.parameters(), lr=0.01, momentum=0.9)\n",
    "\n",
    "# Train the model for 2 epochs\n",
    "for epoch in range(0, 2):\n",
    "    print (f'Iteration {epoch+1}')\n",
    "    # Initiate training phase\n",
    "    train(model, device, train_loader, optimizer, epoch)\n",
    "\n",
    "    # Validate the results on the test/validation set\n",
    "    test(model, device, test_loader)\n",
    "\n",
    "    print ('\\n\\n\\n')"
   ]
  }
 ],
 "metadata": {
  "accelerator": "GPU",
  "colab": {
   "collapsed_sections": [],
   "name": "Assignment 1 - Neural Network.ipynb",
   "provenance": []
  },
  "kernelspec": {
   "display_name": "Python 3",
   "language": "python",
   "name": "python3"
  },
  "language_info": {
   "codemirror_mode": {
    "name": "ipython",
    "version": 3
   },
   "file_extension": ".py",
   "mimetype": "text/x-python",
   "name": "python",
   "nbconvert_exporter": "python",
   "pygments_lexer": "ipython3",
   "version": "3.7.10"
  }
 },
 "nbformat": 4,
 "nbformat_minor": 4
}
